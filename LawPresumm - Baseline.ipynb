{
 "cells": [
  {
   "cell_type": "markdown",
   "metadata": {},
   "source": [
    "This notebook tests the baseline performance on models pretrained on CNN/DailyMail data"
   ]
  },
  {
   "cell_type": "code",
   "execution_count": 9,
   "metadata": {},
   "outputs": [],
   "source": [
    "args_dict = {'accum_count':1,\n",
    "'alpha':0.95,\n",
    "'batch_size':3000,\n",
    "'beam_size':5,\n",
    "'bert_data_path':'presumm/bert_data/sample',\n",
    "'beta1':0.9,\n",
    "'beta2':0.999,\n",
    "'block_trigram':True,\n",
    "'dec_dropout':0.2,\n",
    "'dec_ff_size':2048,\n",
    "'dec_heads':8,\n",
    "'dec_hidden_size':768,\n",
    "'dec_layers':6,\n",
    "'enc_dropout':0.2,\n",
    "'enc_ff_size':512,\n",
    "'enc_hidden_size':512,\n",
    "'enc_layers':6,\n",
    "'encoder':'bert',\n",
    "'ext_dropout':0.2,\n",
    "'ext_ff_size':2048,\n",
    "'ext_heads':8,\n",
    "'ext_hidden_size':768,\n",
    "'ext_layers':2,\n",
    "'finetune_bert':True,\n",
    "'generator_shard_size':32,\n",
    "'gpu_ranks':[0],\n",
    "'label_smoothing':0.1,\n",
    "'large':False,\n",
    "'load_from_extractive':'',\n",
    "'log_file':'presumm/logs/val_abs_bert_cnndm',\n",
    "'lr':1,\n",
    "'lr_bert':0.002,\n",
    "'lr_dec':0.002,\n",
    "'max_grad_norm':0,\n",
    "'max_length':200,\n",
    "'max_pos':512,\n",
    "'max_tgt_len':140,\n",
    "'min_length':50,\n",
    "'mode':'test',\n",
    "'model_path':'presumm/models',\n",
    "'optim':'adam',\n",
    "'param_init':0,\n",
    "'param_init_glorot':True,\n",
    "'recall_eval':False,\n",
    "'report_every':1,\n",
    "'report_rouge':True,\n",
    "'result_path':'presumm/results/validation_results2',\n",
    "'save_checkpoint_steps':5,\n",
    "'seed':666,\n",
    "'sep_optim':True,\n",
    "'share_emb':False,\n",
    "'task':'ext',\n",
    "'temp_dir':'presumm/temp',\n",
    "'test_all':False,\n",
    "'test_batch_size':500,\n",
    "'test_from':'presumm/models/bertsumextabs_cnndm_final_model/model_step_148000.pt',\n",
    "'test_start_from':-1,\n",
    "'train_from':'',\n",
    "'train_steps':1000,\n",
    "'use_bert_emb':False,\n",
    "'use_interval':True,\n",
    "'visible_gpus':'-1',\n",
    "'warmup_steps':8000,\n",
    "'warmup_steps_bert':8000,\n",
    "'warmup_steps_dec':8000,\n",
    "'world_size':1}\n",
    "\n",
    "from argparse import Namespace\n",
    "args = Namespace(**args_dict)"
   ]
  },
  {
   "cell_type": "code",
   "execution_count": 2,
   "metadata": {},
   "outputs": [],
   "source": [
    "from train_extractive import test_ext"
   ]
  },
  {
   "cell_type": "code",
   "execution_count": 3,
   "metadata": {},
   "outputs": [],
   "source": [
    "cp = args.test_from\n",
    "step = 0\n",
    "device = \"cpu\" if args.visible_gpus == '-1' else \"cuda\"\n",
    "device_id = 0 if device == \"cuda\" else -1"
   ]
  },
  {
   "cell_type": "code",
   "execution_count": 4,
   "metadata": {},
   "outputs": [
    {
     "name": "stdout",
     "output_type": "stream",
     "text": [
      "Namespace(accum_count=1, alpha=0.95, batch_size=3000, beam_size=5, bert_data_path='presumm/bert_data/sample', beta1=0.9, beta2=0.999, block_trigram=True, dec_dropout=0.2, dec_ff_size=2048, dec_heads=8, dec_hidden_size=768, dec_layers=6, enc_dropout=0.2, enc_ff_size=512, enc_hidden_size=512, enc_layers=6, encoder='bert', ext_dropout=0.2, ext_ff_size=2048, ext_heads=8, ext_hidden_size=768, ext_layers=2, finetune_bert=True, generator_shard_size=32, gpu_ranks=[0], label_smoothing=0.1, large=False, load_from_extractive='', log_file='presumm/logs/val_abs_bert_cnndm', lr=1, lr_bert=0.002, lr_dec=0.002, max_grad_norm=0, max_length=200, max_pos=512, max_tgt_len=140, min_length=50, mode='test', model_path='presumm/models', optim='adam', param_init=0, param_init_glorot=True, recall_eval=False, report_every=1, report_rouge=True, result_path='presumm/results/validation_results2', save_checkpoint_steps=5, seed=666, sep_optim=True, share_emb=False, task='ext', temp_dir='presumm/temp', test_all=False, test_batch_size=500, test_from='presumm/models/bertext_cnndm_transformer.pt', test_start_from=-1, train_from='', train_steps=1000, use_bert_emb=False, use_interval=True, visible_gpus='-1', warmup_steps=8000, warmup_steps_bert=8000, warmup_steps_dec=8000, world_size=1)\n",
      "pts ['presumm/bert_data/sample\\\\cnndm.test.1.bert.pt']\n",
      "gpu_rank 0\n"
     ]
    },
    {
     "name": "stderr",
     "output_type": "stream",
     "text": [
      "2020-05-08 12:29:39,237 [MainThread  ] [INFO ]  Writing summaries.\n",
      "2020-05-08 12:29:39,242 [MainThread  ] [INFO ]  Processing summaries. Saving system files to presumm/temp\\tmp9yjjiqs6\\system and model files to presumm/temp\\tmp9yjjiqs6\\model.\n",
      "2020-05-08 12:29:39,244 [MainThread  ] [INFO ]  Processing files in presumm/temp\\rouge-tmp-2020-05-08-12-29-39/candidate/.\n",
      "2020-05-08 12:29:39,279 [MainThread  ] [INFO ]  Saved processed files to presumm/temp\\tmp9yjjiqs6\\system.\n",
      "2020-05-08 12:29:39,282 [MainThread  ] [INFO ]  Processing files in presumm/temp\\rouge-tmp-2020-05-08-12-29-39/reference/.\n",
      "2020-05-08 12:29:39,322 [MainThread  ] [INFO ]  Saved processed files to presumm/temp\\tmp9yjjiqs6\\model.\n",
      "2020-05-08 12:29:39,328 [MainThread  ] [INFO ]  Written ROUGE configuration to presumm/temp\\tmpew8fwb3u\\rouge_conf.xml\n",
      "2020-05-08 12:29:39,331 [MainThread  ] [INFO ]  Running ROUGE with command perl C:\\ROUGE-1.5.5\\ROUGE-1.5.5.pl -e C:\\ROUGE-1.5.5\\data -c 95 -m -r 1000 -n 2 -a presumm/temp\\tmpew8fwb3u\\rouge_conf.xml\n"
     ]
    },
    {
     "name": "stdout",
     "output_type": "stream",
     "text": [
      "10\n",
      "10\n",
      "---------------------------------------------\n",
      "1 ROUGE-1 Average_R: 0.25996 (95%-conf.int. 0.18245 - 0.34841)\n",
      "1 ROUGE-1 Average_P: 0.55420 (95%-conf.int. 0.50162 - 0.60254)\n",
      "1 ROUGE-1 Average_F: 0.32212 (95%-conf.int. 0.24212 - 0.40055)\n",
      "---------------------------------------------\n",
      "1 ROUGE-2 Average_R: 0.08649 (95%-conf.int. 0.05645 - 0.11571)\n",
      "1 ROUGE-2 Average_P: 0.18798 (95%-conf.int. 0.14998 - 0.22759)\n",
      "1 ROUGE-2 Average_F: 0.10798 (95%-conf.int. 0.07431 - 0.13875)\n",
      "---------------------------------------------\n",
      "1 ROUGE-L Average_R: 0.21401 (95%-conf.int. 0.15364 - 0.28187)\n",
      "1 ROUGE-L Average_P: 0.46535 (95%-conf.int. 0.41353 - 0.51807)\n",
      "1 ROUGE-L Average_F: 0.26635 (95%-conf.int. 0.20192 - 0.32589)\n",
      "\n"
     ]
    }
   ],
   "source": [
    "test_ext(args, device_id, cp, step)"
   ]
  },
  {
   "cell_type": "code",
   "execution_count": 15,
   "metadata": {},
   "outputs": [],
   "source": [
    "args_dict = {'accum_count':1,\n",
    "'alpha':0.95,\n",
    "'batch_size':3000,\n",
    "'beam_size':5,\n",
    "'bert_data_path':'presumm/bert_data/sample',\n",
    "'beta1':0.9,\n",
    "'beta2':0.999,\n",
    "'block_trigram':True,\n",
    "'dec_dropout':0.2,\n",
    "'dec_ff_size':2048,\n",
    "'dec_heads':8,\n",
    "'dec_hidden_size':768,\n",
    "'dec_layers':6,\n",
    "'enc_dropout':0.2,\n",
    "'enc_ff_size':512,\n",
    "'enc_hidden_size':512,\n",
    "'enc_layers':6,\n",
    "'encoder':'bert',\n",
    "'ext_dropout':0.2,\n",
    "'ext_ff_size':2048,\n",
    "'ext_heads':8,\n",
    "'ext_hidden_size':768,\n",
    "'ext_layers':2,\n",
    "'finetune_bert':True,\n",
    "'generator_shard_size':32,\n",
    "'gpu_ranks':[0],\n",
    "'label_smoothing':0.1,\n",
    "'large':False,\n",
    "'load_from_extractive':'',\n",
    "'log_file':'presumm/logs/val_abs_bert_cnndm',\n",
    "'lr':1,\n",
    "'lr_bert':0.002,\n",
    "'lr_dec':0.002,\n",
    "'max_grad_norm':0,\n",
    "'max_length':200,\n",
    "'max_pos':512,\n",
    "'max_tgt_len':140,\n",
    "'min_length':50,\n",
    "'mode':'test',\n",
    "'model_path':'presumm/models/bertsumextabs_cnndm_final_model',\n",
    "'optim':'adam',\n",
    "'param_init':0,\n",
    "'param_init_glorot':True,\n",
    "'recall_eval':False,\n",
    "'report_every':1,\n",
    "'report_rouge':True,\n",
    "'result_path':'presumm/logs/abs_bert_cnndm',\n",
    "'save_checkpoint_steps':5,\n",
    "'seed':666,\n",
    "'sep_optim':True,\n",
    "'share_emb':False,\n",
    "'task':'abs',\n",
    "'temp_dir':'presumm/temp',\n",
    "'test_all':False,\n",
    "'test_batch_size':500,\n",
    "'test_from':'presumm/models/bertsumextabs_cnndm_final_model/model_step_148000.pt',\n",
    "'test_start_from':-1,\n",
    "'train_from':'',\n",
    "'train_steps':1000,\n",
    "'use_bert_emb':False,\n",
    "'use_interval':True,\n",
    "'visible_gpus':'-1',\n",
    "'warmup_steps':8000,\n",
    "'warmup_steps_bert':8000,\n",
    "'warmup_steps_dec':8000,\n",
    "'world_size':1}\n",
    "\n",
    "\n",
    "args = Namespace(**args_dict)\n",
    "\n",
    "cp = args.test_from\n",
    "step = 0\n",
    "device = \"cpu\" if args.visible_gpus == '-1' else \"cuda\"\n",
    "device_id = 0 if device == \"cuda\" else -1"
   ]
  },
  {
   "cell_type": "code",
   "execution_count": 16,
   "metadata": {},
   "outputs": [
    {
     "data": {
      "text/plain": [
       "'presumm/models/bertsumextabs_cnndm_final_model'"
      ]
     },
     "execution_count": 16,
     "metadata": {},
     "output_type": "execute_result"
    }
   ],
   "source": [
    "args.model_path"
   ]
  },
  {
   "cell_type": "code",
   "execution_count": 17,
   "metadata": {},
   "outputs": [],
   "source": [
    "from train_abstractive import test_abs"
   ]
  },
  {
   "cell_type": "code",
   "execution_count": 18,
   "metadata": {},
   "outputs": [
    {
     "name": "stdout",
     "output_type": "stream",
     "text": [
      "Namespace(accum_count=1, alpha=0.95, batch_size=3000, beam_size=5, bert_data_path='presumm/bert_data/sample', beta1=0.9, beta2=0.999, block_trigram=True, dec_dropout=0.2, dec_ff_size=2048, dec_heads=8, dec_hidden_size=768, dec_layers=6, enc_dropout=0.2, enc_ff_size=512, enc_hidden_size=512, enc_layers=6, encoder='bert', ext_dropout=0.2, ext_ff_size=2048, ext_heads=8, ext_hidden_size=768, ext_layers=2, finetune_bert=True, generator_shard_size=32, gpu_ranks=[0], label_smoothing=0.1, large=False, load_from_extractive='', log_file='presumm/logs/val_abs_bert_cnndm', lr=1, lr_bert=0.002, lr_dec=0.002, max_grad_norm=0, max_length=200, max_pos=512, max_tgt_len=140, min_length=50, mode='test', model_path='presumm/models/bertsumextabs_cnndm_final_model', optim='adam', param_init=0, param_init_glorot=True, recall_eval=False, report_every=1, report_rouge=True, result_path='presumm/logs/abs_bert_cnndm', save_checkpoint_steps=5, seed=666, sep_optim=True, share_emb=False, task='abs', temp_dir='presumm/temp', test_all=False, test_batch_size=500, test_from='presumm/models/bertsumextabs_cnndm_final_model/model_step_148000.pt', test_start_from=-1, train_from='', train_steps=1000, use_bert_emb=False, use_interval=True, visible_gpus='-1', warmup_steps=8000, warmup_steps_bert=8000, warmup_steps_dec=8000, world_size=1)\n",
      "pts ['presumm/bert_data/sample\\\\cnndm.test.1.bert.pt']\n"
     ]
    },
    {
     "name": "stderr",
     "output_type": "stream",
     "text": [
      "2020-05-08 12:53:15,061 [MainThread  ] [INFO ]  Writing summaries.\n",
      "2020-05-08 12:53:15,068 [MainThread  ] [INFO ]  Processing summaries. Saving system files to presumm/temp\\tmptzja9t_y\\system and model files to presumm/temp\\tmptzja9t_y\\model.\n",
      "2020-05-08 12:53:15,072 [MainThread  ] [INFO ]  Processing files in presumm/temp\\rouge-tmp-2020-05-08-12-53-15/candidate/.\n",
      "2020-05-08 12:53:15,097 [MainThread  ] [INFO ]  Saved processed files to presumm/temp\\tmptzja9t_y\\system.\n",
      "2020-05-08 12:53:15,099 [MainThread  ] [INFO ]  Processing files in presumm/temp\\rouge-tmp-2020-05-08-12-53-15/reference/.\n",
      "2020-05-08 12:53:15,125 [MainThread  ] [INFO ]  Saved processed files to presumm/temp\\tmptzja9t_y\\model.\n",
      "2020-05-08 12:53:15,129 [MainThread  ] [INFO ]  Written ROUGE configuration to presumm/temp\\tmpuk1fmjr5\\rouge_conf.xml\n",
      "2020-05-08 12:53:15,131 [MainThread  ] [INFO ]  Running ROUGE with command perl C:\\ROUGE-1.5.5\\ROUGE-1.5.5.pl -e C:\\ROUGE-1.5.5\\data -c 95 -m -r 1000 -n 2 -a presumm/temp\\tmpuk1fmjr5\\rouge_conf.xml\n"
     ]
    },
    {
     "name": "stdout",
     "output_type": "stream",
     "text": [
      "10\n",
      "10\n",
      "---------------------------------------------\n",
      "1 ROUGE-1 Average_R: 0.17978 (95%-conf.int. 0.13470 - 0.21989)\n",
      "1 ROUGE-1 Average_P: 0.56657 (95%-conf.int. 0.49203 - 0.64234)\n",
      "1 ROUGE-1 Average_F: 0.25812 (95%-conf.int. 0.20324 - 0.30609)\n",
      "---------------------------------------------\n",
      "1 ROUGE-2 Average_R: 0.06289 (95%-conf.int. 0.04115 - 0.08595)\n",
      "1 ROUGE-2 Average_P: 0.21469 (95%-conf.int. 0.14366 - 0.29737)\n",
      "1 ROUGE-2 Average_F: 0.09230 (95%-conf.int. 0.06161 - 0.12812)\n",
      "---------------------------------------------\n",
      "1 ROUGE-L Average_R: 0.16063 (95%-conf.int. 0.12234 - 0.19555)\n",
      "1 ROUGE-L Average_P: 0.51175 (95%-conf.int. 0.43714 - 0.58495)\n",
      "1 ROUGE-L Average_F: 0.23141 (95%-conf.int. 0.18288 - 0.27777)\n",
      "\n"
     ]
    }
   ],
   "source": [
    "test_abs(args, device_id, cp, step)"
   ]
  },
  {
   "cell_type": "code",
   "execution_count": null,
   "metadata": {},
   "outputs": [],
   "source": []
  }
 ],
 "metadata": {
  "kernelspec": {
   "display_name": "Python 3",
   "language": "python",
   "name": "python3"
  },
  "language_info": {
   "codemirror_mode": {
    "name": "ipython",
    "version": 3
   },
   "file_extension": ".py",
   "mimetype": "text/x-python",
   "name": "python",
   "nbconvert_exporter": "python",
   "pygments_lexer": "ipython3",
   "version": "3.7.1"
  }
 },
 "nbformat": 4,
 "nbformat_minor": 4
}
