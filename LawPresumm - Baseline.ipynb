{
 "cells": [
  {
   "cell_type": "markdown",
   "metadata": {},
   "source": [
    "This notebook tests the baseline performance on models pretrained on CNN/DailyMail data"
   ]
  },
  {
   "cell_type": "code",
   "execution_count": 1,
   "metadata": {},
   "outputs": [],
   "source": [
    "args_dict = {'accum_count':1,\n",
    "'alpha':0.95,\n",
    "'batch_size':3000,\n",
    "'beam_size':5,\n",
    "'bert_data_path':'presumm/bert_data/sample',\n",
    "'beta1':0.9,\n",
    "'beta2':0.999,\n",
    "'block_trigram':True,\n",
    "'dec_dropout':0.2,\n",
    "'dec_ff_size':2048,\n",
    "'dec_heads':8,\n",
    "'dec_hidden_size':768,\n",
    "'dec_layers':6,\n",
    "'enc_dropout':0.2,\n",
    "'enc_ff_size':512,\n",
    "'enc_hidden_size':512,\n",
    "'enc_layers':6,\n",
    "'encoder':'bert',\n",
    "'ext_dropout':0.2,\n",
    "'ext_ff_size':2048,\n",
    "'ext_heads':8,\n",
    "'ext_hidden_size':768,\n",
    "'ext_layers':2,\n",
    "'finetune_bert':True,\n",
    "'generator_shard_size':32,\n",
    "'gpu_ranks':[0],\n",
    "'label_smoothing':0.1,\n",
    "'large':False,\n",
    "'load_from_extractive':'',\n",
    "'log_file':'presumm/logs/val_abs_bert_cnndm',\n",
    "'lr':1,\n",
    "'lr_bert':0.002,\n",
    "'lr_dec':0.002,\n",
    "'max_grad_norm':0,\n",
    "'max_length':200,\n",
    "'max_pos':512,\n",
    "'max_tgt_len':140,\n",
    "'min_length':50,\n",
    "'mode':'test',\n",
    "'model_path':'presumm/models',\n",
    "'optim':'adam',\n",
    "'param_init':0,\n",
    "'param_init_glorot':True,\n",
    "'recall_eval':False,\n",
    "'report_every':1,\n",
    "'report_rouge':True,\n",
    "'result_path':'presumm/results/validation_results2',\n",
    "'save_checkpoint_steps':5,\n",
    "'seed':666,\n",
    "'sep_optim':True,\n",
    "'share_emb':False,\n",
    "'task':'ext',\n",
    "'temp_dir':'presumm/temp',\n",
    "'test_all':False,\n",
    "'test_batch_size':500,\n",
    "'test_from':'presumm/models/bertext_cnndm_transformer.pt',\n",
    "'test_start_from':-1,\n",
    "'train_from':'',\n",
    "'train_steps':1000,\n",
    "'use_bert_emb':False,\n",
    "'use_interval':True,\n",
    "'visible_gpus':'-1',\n",
    "'warmup_steps':8000,\n",
    "'warmup_steps_bert':8000,\n",
    "'warmup_steps_dec':8000,\n",
    "'world_size':1}\n",
    "\n",
    "from argparse import Namespace\n",
    "args = Namespace(**args_dict)"
   ]
  },
  {
   "cell_type": "code",
   "execution_count": 2,
   "metadata": {},
   "outputs": [],
   "source": [
    "from train_extractive import test_ext"
   ]
  },
  {
   "cell_type": "code",
   "execution_count": 3,
   "metadata": {},
   "outputs": [],
   "source": [
    "cp = args.test_from\n",
    "step = 0\n",
    "device = \"cpu\" if args.visible_gpus == '-1' else \"cuda\"\n",
    "device_id = 0 if device == \"cuda\" else -1"
   ]
  },
  {
   "cell_type": "code",
   "execution_count": 4,
   "metadata": {},
   "outputs": [
    {
     "name": "stdout",
     "output_type": "stream",
     "text": [
      "Namespace(accum_count=1, alpha=0.95, batch_size=3000, beam_size=5, bert_data_path='presumm/bert_data/sample', beta1=0.9, beta2=0.999, block_trigram=True, dec_dropout=0.2, dec_ff_size=2048, dec_heads=8, dec_hidden_size=768, dec_layers=6, enc_dropout=0.2, enc_ff_size=512, enc_hidden_size=512, enc_layers=6, encoder='bert', ext_dropout=0.2, ext_ff_size=2048, ext_heads=8, ext_hidden_size=768, ext_layers=2, finetune_bert=True, generator_shard_size=32, gpu_ranks=[0], label_smoothing=0.1, large=False, load_from_extractive='', log_file='presumm/logs/val_abs_bert_cnndm', lr=1, lr_bert=0.002, lr_dec=0.002, max_grad_norm=0, max_length=200, max_pos=512, max_tgt_len=140, min_length=50, mode='test', model_path='presumm/models', optim='adam', param_init=0, param_init_glorot=True, recall_eval=False, report_every=1, report_rouge=True, result_path='presumm/results/validation_results2', save_checkpoint_steps=5, seed=666, sep_optim=True, share_emb=False, task='ext', temp_dir='presumm/temp', test_all=False, test_batch_size=500, test_from='presumm/models/bertext_cnndm_transformer.pt', test_start_from=-1, train_from='', train_steps=1000, use_bert_emb=False, use_interval=True, visible_gpus='-1', warmup_steps=8000, warmup_steps_bert=8000, warmup_steps_dec=8000, world_size=1)\n",
      "pts ['presumm/bert_data/sample\\\\cnndm.test.1.bert.pt']\n",
      "gpu_rank 0\n"
     ]
    },
    {
     "name": "stderr",
     "output_type": "stream",
     "text": [
      "c:\\users\\gufra\\onedrive\\documents\\academics\\advancedtopicsindatascience\\final_project\\presumm\\venv\\lib\\site-packages\\torch\\nn\\modules\\loss.py:512: UserWarning: Using a target size (torch.Size([1, 1])) that is different to the input size (torch.Size([1])) is deprecated. Please ensure they have the same size.\n",
      "  return F.binary_cross_entropy(input, target, weight=self.weight, reduction=self.reduction)\n",
      "2020-05-08 13:29:58,178 [MainThread  ] [INFO ]  Writing summaries.\n",
      "2020-05-08 13:29:58,183 [MainThread  ] [INFO ]  Processing summaries. Saving system files to presumm/temp\\tmpky4hkh47\\system and model files to presumm/temp\\tmpky4hkh47\\model.\n",
      "2020-05-08 13:29:58,187 [MainThread  ] [INFO ]  Processing files in presumm/temp\\rouge-tmp-2020-05-08-13-29-58/candidate/.\n",
      "2020-05-08 13:29:58,240 [MainThread  ] [INFO ]  Saved processed files to presumm/temp\\tmpky4hkh47\\system.\n",
      "2020-05-08 13:29:58,242 [MainThread  ] [INFO ]  Processing files in presumm/temp\\rouge-tmp-2020-05-08-13-29-58/reference/.\n",
      "2020-05-08 13:29:58,305 [MainThread  ] [INFO ]  Saved processed files to presumm/temp\\tmpky4hkh47\\model.\n",
      "2020-05-08 13:29:58,311 [MainThread  ] [INFO ]  Written ROUGE configuration to presumm/temp\\tmp6380j3fz\\rouge_conf.xml\n",
      "2020-05-08 13:29:58,313 [MainThread  ] [INFO ]  Running ROUGE with command perl C:\\ROUGE-1.5.5\\ROUGE-1.5.5.pl -e C:\\ROUGE-1.5.5\\data -c 95 -m -r 1000 -n 2 -a presumm/temp\\tmp6380j3fz\\rouge_conf.xml\n"
     ]
    },
    {
     "name": "stdout",
     "output_type": "stream",
     "text": [
      "9\n",
      "9\n",
      "---------------------------------------------\n",
      "1 ROUGE-1 Average_R: 0.24521 (95%-conf.int. 0.18793 - 0.31041)\n",
      "1 ROUGE-1 Average_P: 0.51181 (95%-conf.int. 0.42601 - 0.58527)\n",
      "1 ROUGE-1 Average_F: 0.29027 (95%-conf.int. 0.24293 - 0.33903)\n",
      "---------------------------------------------\n",
      "1 ROUGE-2 Average_R: 0.06309 (95%-conf.int. 0.04093 - 0.08879)\n",
      "1 ROUGE-2 Average_P: 0.15149 (95%-conf.int. 0.09830 - 0.20284)\n",
      "1 ROUGE-2 Average_F: 0.07998 (95%-conf.int. 0.05368 - 0.11178)\n",
      "---------------------------------------------\n",
      "1 ROUGE-L Average_R: 0.19069 (95%-conf.int. 0.15222 - 0.23136)\n",
      "1 ROUGE-L Average_P: 0.42431 (95%-conf.int. 0.34589 - 0.49387)\n",
      "1 ROUGE-L Average_F: 0.23200 (95%-conf.int. 0.19918 - 0.26421)\n",
      "\n"
     ]
    }
   ],
   "source": [
    "test_ext(args, device_id, cp, step)"
   ]
  },
  {
   "cell_type": "code",
   "execution_count": 5,
   "metadata": {},
   "outputs": [],
   "source": [
    "args_dict = {'accum_count':1,\n",
    "'alpha':0.95,\n",
    "'batch_size':3000,\n",
    "'beam_size':5,\n",
    "'bert_data_path':'presumm/bert_data/sample',\n",
    "'beta1':0.9,\n",
    "'beta2':0.999,\n",
    "'block_trigram':True,\n",
    "'dec_dropout':0.2,\n",
    "'dec_ff_size':2048,\n",
    "'dec_heads':8,\n",
    "'dec_hidden_size':768,\n",
    "'dec_layers':6,\n",
    "'enc_dropout':0.2,\n",
    "'enc_ff_size':512,\n",
    "'enc_hidden_size':512,\n",
    "'enc_layers':6,\n",
    "'encoder':'bert',\n",
    "'ext_dropout':0.2,\n",
    "'ext_ff_size':2048,\n",
    "'ext_heads':8,\n",
    "'ext_hidden_size':768,\n",
    "'ext_layers':2,\n",
    "'finetune_bert':True,\n",
    "'generator_shard_size':32,\n",
    "'gpu_ranks':[0],\n",
    "'label_smoothing':0.1,\n",
    "'large':False,\n",
    "'load_from_extractive':'',\n",
    "'log_file':'presumm/logs/val_abs_bert_cnndm',\n",
    "'lr':1,\n",
    "'lr_bert':0.002,\n",
    "'lr_dec':0.002,\n",
    "'max_grad_norm':0,\n",
    "'max_length':200,\n",
    "'max_pos':512,\n",
    "'max_tgt_len':140,\n",
    "'min_length':50,\n",
    "'mode':'test',\n",
    "'model_path':'presumm/models/bertsumextabs_cnndm_final_model',\n",
    "'optim':'adam',\n",
    "'param_init':0,\n",
    "'param_init_glorot':True,\n",
    "'recall_eval':False,\n",
    "'report_every':1,\n",
    "'report_rouge':True,\n",
    "'result_path':'presumm/logs/abs_bert_cnndm',\n",
    "'save_checkpoint_steps':5,\n",
    "'seed':666,\n",
    "'sep_optim':True,\n",
    "'share_emb':False,\n",
    "'task':'abs',\n",
    "'temp_dir':'presumm/temp',\n",
    "'test_all':False,\n",
    "'test_batch_size':500,\n",
    "'test_from':'presumm/models/bertsumextabs_cnndm_final_model/model_step_148000.pt',\n",
    "'test_start_from':-1,\n",
    "'train_from':'',\n",
    "'train_steps':1000,\n",
    "'use_bert_emb':False,\n",
    "'use_interval':True,\n",
    "'visible_gpus':'-1',\n",
    "'warmup_steps':8000,\n",
    "'warmup_steps_bert':8000,\n",
    "'warmup_steps_dec':8000,\n",
    "'world_size':1}\n",
    "\n",
    "\n",
    "args = Namespace(**args_dict)\n",
    "\n",
    "cp = args.test_from\n",
    "step = 0\n",
    "device = \"cpu\" if args.visible_gpus == '-1' else \"cuda\"\n",
    "device_id = 0 if device == \"cuda\" else -1"
   ]
  },
  {
   "cell_type": "code",
   "execution_count": 6,
   "metadata": {},
   "outputs": [
    {
     "data": {
      "text/plain": [
       "'presumm/models/bertsumextabs_cnndm_final_model'"
      ]
     },
     "execution_count": 6,
     "metadata": {},
     "output_type": "execute_result"
    }
   ],
   "source": [
    "args.model_path"
   ]
  },
  {
   "cell_type": "code",
   "execution_count": 7,
   "metadata": {},
   "outputs": [],
   "source": [
    "from train_abstractive import test_abs"
   ]
  },
  {
   "cell_type": "code",
   "execution_count": 8,
   "metadata": {},
   "outputs": [
    {
     "name": "stdout",
     "output_type": "stream",
     "text": [
      "Namespace(accum_count=1, alpha=0.95, batch_size=3000, beam_size=5, bert_data_path='presumm/bert_data/sample', beta1=0.9, beta2=0.999, block_trigram=True, dec_dropout=0.2, dec_ff_size=2048, dec_heads=8, dec_hidden_size=768, dec_layers=6, enc_dropout=0.2, enc_ff_size=512, enc_hidden_size=512, enc_layers=6, encoder='bert', ext_dropout=0.2, ext_ff_size=2048, ext_heads=8, ext_hidden_size=768, ext_layers=2, finetune_bert=True, generator_shard_size=32, gpu_ranks=[0], label_smoothing=0.1, large=False, load_from_extractive='', log_file='presumm/logs/val_abs_bert_cnndm', lr=1, lr_bert=0.002, lr_dec=0.002, max_grad_norm=0, max_length=200, max_pos=512, max_tgt_len=140, min_length=50, mode='test', model_path='presumm/models/bertsumextabs_cnndm_final_model', optim='adam', param_init=0, param_init_glorot=True, recall_eval=False, report_every=1, report_rouge=True, result_path='presumm/logs/abs_bert_cnndm', save_checkpoint_steps=5, seed=666, sep_optim=True, share_emb=False, task='abs', temp_dir='presumm/temp', test_all=False, test_batch_size=500, test_from='presumm/models/bertsumextabs_cnndm_final_model/model_step_148000.pt', test_start_from=-1, train_from='', train_steps=1000, use_bert_emb=False, use_interval=True, visible_gpus='-1', warmup_steps=8000, warmup_steps_bert=8000, warmup_steps_dec=8000, world_size=1)\n",
      "pts ['presumm/bert_data/sample\\\\cnndm.test.1.bert.pt']\n"
     ]
    },
    {
     "name": "stderr",
     "output_type": "stream",
     "text": [
      "2020-05-08 13:34:49,143 [MainThread  ] [INFO ]  Writing summaries.\n",
      "2020-05-08 13:34:49,147 [MainThread  ] [INFO ]  Processing summaries. Saving system files to presumm/temp\\tmpidan6275\\system and model files to presumm/temp\\tmpidan6275\\model.\n",
      "2020-05-08 13:34:49,149 [MainThread  ] [INFO ]  Processing files in presumm/temp\\rouge-tmp-2020-05-08-13-34-49/candidate/.\n",
      "2020-05-08 13:34:49,189 [MainThread  ] [INFO ]  Saved processed files to presumm/temp\\tmpidan6275\\system.\n",
      "2020-05-08 13:34:49,191 [MainThread  ] [INFO ]  Processing files in presumm/temp\\rouge-tmp-2020-05-08-13-34-49/reference/.\n",
      "2020-05-08 13:34:49,225 [MainThread  ] [INFO ]  Saved processed files to presumm/temp\\tmpidan6275\\model.\n",
      "2020-05-08 13:34:49,230 [MainThread  ] [INFO ]  Written ROUGE configuration to presumm/temp\\tmpcyuz1ofz\\rouge_conf.xml\n",
      "2020-05-08 13:34:49,233 [MainThread  ] [INFO ]  Running ROUGE with command perl C:\\ROUGE-1.5.5\\ROUGE-1.5.5.pl -e C:\\ROUGE-1.5.5\\data -c 95 -m -r 1000 -n 2 -a presumm/temp\\tmpcyuz1ofz\\rouge_conf.xml\n"
     ]
    },
    {
     "name": "stdout",
     "output_type": "stream",
     "text": [
      "9\n",
      "9\n",
      "---------------------------------------------\n",
      "1 ROUGE-1 Average_R: 0.18030 (95%-conf.int. 0.14028 - 0.22306)\n",
      "1 ROUGE-1 Average_P: 0.53443 (95%-conf.int. 0.43795 - 0.63120)\n",
      "1 ROUGE-1 Average_F: 0.24895 (95%-conf.int. 0.20038 - 0.29306)\n",
      "---------------------------------------------\n",
      "1 ROUGE-2 Average_R: 0.04342 (95%-conf.int. 0.02654 - 0.06480)\n",
      "1 ROUGE-2 Average_P: 0.15389 (95%-conf.int. 0.08807 - 0.23641)\n",
      "1 ROUGE-2 Average_F: 0.06423 (95%-conf.int. 0.03785 - 0.09866)\n",
      "---------------------------------------------\n",
      "1 ROUGE-L Average_R: 0.13264 (95%-conf.int. 0.10668 - 0.15603)\n",
      "1 ROUGE-L Average_P: 0.43465 (95%-conf.int. 0.33603 - 0.53279)\n",
      "1 ROUGE-L Average_F: 0.18949 (95%-conf.int. 0.15213 - 0.22624)\n",
      "\n"
     ]
    }
   ],
   "source": [
    "test_abs(args, device_id, cp, step)"
   ]
  },
  {
   "cell_type": "code",
   "execution_count": null,
   "metadata": {},
   "outputs": [],
   "source": []
  }
 ],
 "metadata": {
  "kernelspec": {
   "display_name": "Python 3",
   "language": "python",
   "name": "python3"
  },
  "language_info": {
   "codemirror_mode": {
    "name": "ipython",
    "version": 3
   },
   "file_extension": ".py",
   "mimetype": "text/x-python",
   "name": "python",
   "nbconvert_exporter": "python",
   "pygments_lexer": "ipython3",
   "version": "3.7.1"
  }
 },
 "nbformat": 4,
 "nbformat_minor": 4
}
