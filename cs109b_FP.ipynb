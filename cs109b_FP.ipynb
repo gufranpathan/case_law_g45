{
 "cells": [
  {
   "cell_type": "markdown",
   "metadata": {
    "deletable": false
   },
   "source": [
    "# <img style=\"float: left; padding-right: 10px; width: 45px\" src=\"https://raw.githubusercontent.com/Harvard-IACS/2018-CS109A/master/content/styles/iacs.png\"> CS109B Data Science 2: Advanced Topics in Data Science \n",
    "\n",
    "##  Final Project: Milestone 3 - Final Project [70 pts]\n",
    "\n",
    "\n",
    "**Harvard University**<br/>\n",
    "**Spring 2020**<br/>\n",
    "**Group Members**: Fernando Medeiros, Mohammed Gufran Pathan, and Prerna Aggarwal<br/>\n",
    "\n",
    "<hr style=\"height:2pt\">\n",
    "\n",
    "---"
   ]
  },
  {
   "cell_type": "code",
   "execution_count": 1,
   "metadata": {
    "deletable": false,
    "editable": false
   },
   "outputs": [
    {
     "data": {
      "text/html": [
       "<style>\n",
       "blockquote { background: #AEDE94; }\n",
       "h1 { \n",
       "    padding-top: 25px;\n",
       "    padding-bottom: 25px;\n",
       "    text-align: left; \n",
       "    padding-left: 10px;\n",
       "    background-color: #DDDDDD; \n",
       "    color: black;\n",
       "}\n",
       "h2 { \n",
       "    padding-top: 10px;\n",
       "    padding-bottom: 10px;\n",
       "    text-align: left; \n",
       "    padding-left: 5px;\n",
       "    background-color: #EEEEEE; \n",
       "    color: black;\n",
       "}\n",
       "\n",
       "div.exercise {\n",
       "\tbackground-color: #ffcccc;\n",
       "\tborder-color: #E9967A; \t\n",
       "\tborder-left: 5px solid #800080; \n",
       "\tpadding: 0.5em;\n",
       "}\n",
       "\n",
       "span.sub-q {\n",
       "\tfont-weight: bold;\n",
       "}\n",
       "div.theme {\n",
       "\tbackground-color: #DDDDDD;\n",
       "\tborder-color: #E9967A; \t\n",
       "\tborder-left: 5px solid #800080; \n",
       "\tpadding: 0.5em;\n",
       "\tfont-size: 18pt;\n",
       "}\n",
       "div.gc { \n",
       "\tbackground-color: #AEDE94;\n",
       "\tborder-color: #E9967A; \t \n",
       "\tborder-left: 5px solid #800080; \n",
       "\tpadding: 0.5em;\n",
       "\tfont-size: 12pt;\n",
       "}\n",
       "p.q1 { \n",
       "    padding-top: 5px;\n",
       "    padding-bottom: 5px;\n",
       "    text-align: left; \n",
       "    padding-left: 5px;\n",
       "    background-color: #EEEEEE; \n",
       "    color: black;\n",
       "}\n",
       "header {\n",
       "   padding-top: 35px;\n",
       "    padding-bottom: 35px;\n",
       "    text-align: left; \n",
       "    padding-left: 10px;\n",
       "    background-color: #DDDDDD; \n",
       "    color: black;\n",
       "}\n",
       "</style>\n",
       "\n"
      ],
      "text/plain": [
       "<IPython.core.display.HTML object>"
      ]
     },
     "execution_count": 1,
     "metadata": {},
     "output_type": "execute_result"
    }
   ],
   "source": [
    "#RUN THIS CELL \n",
    "import requests\n",
    "from IPython.core.display import HTML, display\n",
    "styles = requests.get(\"https://raw.githubusercontent.com/Harvard-IACS/2018-CS109A/master/content/styles/cs109.css\").text\n",
    "HTML(styles)"
   ]
  },
  {
   "cell_type": "markdown",
   "metadata": {},
   "source": [
    "<div class=\"theme\"> Final Deliverables </div>"
   ]
  },
  {
   "cell_type": "markdown",
   "metadata": {},
   "source": [
    "1. **Code Report:** You are expected to submit the code you developed as part of the course project. The commented code should be provided in report format. This means that each group in a Jupyter notebook should explain—in a clean and concise report fashion—how they proceeded at every step and coding/methodology  choices . The code report should have a structure that consists of an introduction, body and conclusion.\n",
    "1. **Ignite Talk:** You will present the talk on 5/11, 5/12, or 5/13. Details to come for Ignite Talk guidelines.\n",
    "\n",
    "[Final Project Guidelines](https://docs.google.com/document/d/1Zhmm9JP4FGQBi5abFiM22e5iXYo_rr7i_vbpW0-xt8A/edit)"
   ]
  },
  {
   "cell_type": "code",
   "execution_count": 2,
   "metadata": {},
   "outputs": [],
   "source": [
    "# Baisc Python Libraries\n",
    "import matplotlib.pyplot as plt\n",
    "import numpy as np\n",
    "import os\n",
    "import pandas as pd\n",
    "import seaborn as sns\n",
    "\n",
    "plt.style.use(\"ggplot\")"
   ]
  },
  {
   "cell_type": "code",
   "execution_count": 3,
   "metadata": {},
   "outputs": [
    {
     "name": "stdout",
     "output_type": "stream",
     "text": [
      "2.2.4-tf\n",
      "2.0.0\n"
     ]
    }
   ],
   "source": [
    "# Project Python Lybraries\n",
    "from bs4 import BeautifulSoup\n",
    "from collections import Counter\n",
    "from nltk.corpus import stopwords\n",
    "from nltk.probability import FreqDist\n",
    "from pandas.io.json import json_normalize\n",
    "from sklearn.metrics import f1_score, confusion_matrix\n",
    "from sklearn.model_selection import train_test_split\n",
    "from sklearn.decomposition import PCA\n",
    "import json\n",
    "import lxml\n",
    "import lzma\n",
    "import nltk\n",
    "import tensorflow as tf\n",
    "from tensorflow.keras import backend\n",
    "from tensorflow.keras.layers import Input, SimpleRNN, Embedding, Dense, TimeDistributed, GRU,\\\n",
    "                                    Dropout, Bidirectional, Conv1D, BatchNormalization\n",
    "from tensorflow.keras.models import Model, Sequential,model_from_json\n",
    "from tensorflow.keras.utils import to_categorical\n",
    "\n",
    "print(tf.keras.__version__)\n",
    "print(tf.__version__)"
   ]
  },
  {
   "cell_type": "code",
   "execution_count": 4,
   "metadata": {},
   "outputs": [],
   "source": [
    "# Set seed for repeatable results\n",
    "np.random.seed(123)\n",
    "tf.random.set_seed(456)"
   ]
  },
  {
   "cell_type": "markdown",
   "metadata": {},
   "source": [
    "<div class=\"theme\"> Part 1: Data Prep </div>\n",
    "Read `north_carolina.xz` into a pandas dataframe using the provided code below."
   ]
  },
  {
   "cell_type": "code",
   "execution_count": 5,
   "metadata": {},
   "outputs": [],
   "source": [
    "base_path = \"./data/text\"\n",
    "state = 'north_carolina_text.xz'\n",
    "f = lzma.open(os.path.join(base_path, state), \"rb\")\n",
    "state_data = f.readlines()\n",
    "f.close()"
   ]
  },
  {
   "cell_type": "code",
   "execution_count": 6,
   "metadata": {},
   "outputs": [
    {
     "name": "stdout",
     "output_type": "stream",
     "text": [
      "Flattening data for north_carolina_text.xz\n"
     ]
    }
   ],
   "source": [
    "data_json = [json.loads(line) for line in state_data]\n",
    "print(f'Flattening data for {state}')\n",
    "data = json_normalize(data_json)"
   ]
  },
  {
   "cell_type": "code",
   "execution_count": 7,
   "metadata": {},
   "outputs": [],
   "source": [
    "# fix date\n",
    "data['decision_date_p'] = pd.to_datetime(data.decision_date, errors='coerce')\n",
    "# add year of decision date to dataset\n",
    "data['decision_year'] = data.decision_date_p.dt.year\n",
    "# add month of decision date to dataset\n",
    "data['decision_month'] = data.decision_date_p.dt.month"
   ]
  },
  {
   "cell_type": "code",
   "execution_count": 8,
   "metadata": {},
   "outputs": [],
   "source": [
    "# select one year of cases\n",
    "data_2015 = data[(data.decision_year==2015) & (data.decision_month==1)]"
   ]
  },
  {
   "cell_type": "code",
   "execution_count": 9,
   "metadata": {},
   "outputs": [
    {
     "data": {
      "text/html": [
       "<div>\n",
       "<style scoped>\n",
       "    .dataframe tbody tr th:only-of-type {\n",
       "        vertical-align: middle;\n",
       "    }\n",
       "\n",
       "    .dataframe tbody tr th {\n",
       "        vertical-align: top;\n",
       "    }\n",
       "\n",
       "    .dataframe thead th {\n",
       "        text-align: right;\n",
       "    }\n",
       "</style>\n",
       "<table border=\"1\" class=\"dataframe\">\n",
       "  <thead>\n",
       "    <tr style=\"text-align: right;\">\n",
       "      <th></th>\n",
       "      <th>id</th>\n",
       "      <th>url</th>\n",
       "      <th>name</th>\n",
       "      <th>name_abbreviation</th>\n",
       "      <th>decision_date</th>\n",
       "      <th>docket_number</th>\n",
       "      <th>first_page</th>\n",
       "      <th>last_page</th>\n",
       "      <th>citations</th>\n",
       "      <th>cites_to</th>\n",
       "      <th>...</th>\n",
       "      <th>casebody.status</th>\n",
       "      <th>casebody.data.head_matter</th>\n",
       "      <th>casebody.data.opinions</th>\n",
       "      <th>casebody.data.attorneys</th>\n",
       "      <th>casebody.data.judges</th>\n",
       "      <th>casebody.data.corrections</th>\n",
       "      <th>casebody.data.parties</th>\n",
       "      <th>decision_date_p</th>\n",
       "      <th>decision_year</th>\n",
       "      <th>decision_month</th>\n",
       "    </tr>\n",
       "  </thead>\n",
       "  <tbody>\n",
       "    <tr>\n",
       "      <td>92741</td>\n",
       "      <td>4329281</td>\n",
       "      <td>https://api.capapi.org/v1/cases/4329281/</td>\n",
       "      <td>State v. Robert McPhail</td>\n",
       "      <td>State v. McPhail</td>\n",
       "      <td>2015-01-22</td>\n",
       "      <td>341P14</td>\n",
       "      <td>811</td>\n",
       "      <td>811</td>\n",
       "      <td>[{'type': 'official', 'cite': '367 N.C. 811'}]</td>\n",
       "      <td>[]</td>\n",
       "      <td>...</td>\n",
       "      <td>ok</td>\n",
       "      <td>341P14\\nState v. Robert McPhail</td>\n",
       "      <td>[{'type': 'majority', 'text': 'Def’s PDR Under...</td>\n",
       "      <td>[]</td>\n",
       "      <td>[Ervin, J., recused]</td>\n",
       "      <td></td>\n",
       "      <td>[State v. Robert McPhail]</td>\n",
       "      <td>2015-01-22</td>\n",
       "      <td>2015.0</td>\n",
       "      <td>1.0</td>\n",
       "    </tr>\n",
       "    <tr>\n",
       "      <td>92758</td>\n",
       "      <td>4332768</td>\n",
       "      <td>https://api.capapi.org/v1/cases/4332768/</td>\n",
       "      <td>Clorey Eugene France v. Glover &amp; Petersen, P.A...</td>\n",
       "      <td>France v. Glover &amp; Petersen, P.A.</td>\n",
       "      <td>2015-01-22</td>\n",
       "      <td>452P14</td>\n",
       "      <td>813</td>\n",
       "      <td>813</td>\n",
       "      <td>[{'type': 'official', 'cite': '367 N.C. 813'}]</td>\n",
       "      <td>[]</td>\n",
       "      <td>...</td>\n",
       "      <td>ok</td>\n",
       "      <td>452P14\\nClorey Eugene France v. Glover &amp; Peter...</td>\n",
       "      <td>[{'type': 'majority', 'text': '1. Plaintiffs P...</td>\n",
       "      <td>[]</td>\n",
       "      <td>[Ervin, J., recused]</td>\n",
       "      <td></td>\n",
       "      <td>[Clorey Eugene France v. Glover &amp; Petersen, P....</td>\n",
       "      <td>2015-01-22</td>\n",
       "      <td>2015.0</td>\n",
       "      <td>1.0</td>\n",
       "    </tr>\n",
       "    <tr>\n",
       "      <td>92770</td>\n",
       "      <td>4325043</td>\n",
       "      <td>https://api.capapi.org/v1/cases/4325043/</td>\n",
       "      <td>State v. Joshua Andrew Stepp</td>\n",
       "      <td>State v. Stepp</td>\n",
       "      <td>2015-01-22</td>\n",
       "      <td>038A14</td>\n",
       "      <td>809</td>\n",
       "      <td>809</td>\n",
       "      <td>[{'type': 'official', 'cite': '367 N.C. 809'}]</td>\n",
       "      <td>[]</td>\n",
       "      <td>...</td>\n",
       "      <td>ok</td>\n",
       "      <td>038A14\\nState v. Joshua Andrew Stepp</td>\n",
       "      <td>[{'type': 'majority', 'text': '1. Def’s Motion...</td>\n",
       "      <td>[]</td>\n",
       "      <td>[]</td>\n",
       "      <td></td>\n",
       "      <td>[State v. Joshua Andrew Stepp]</td>\n",
       "      <td>2015-01-22</td>\n",
       "      <td>2015.0</td>\n",
       "      <td>1.0</td>\n",
       "    </tr>\n",
       "    <tr>\n",
       "      <td>92775</td>\n",
       "      <td>4323615</td>\n",
       "      <td>https://api.capapi.org/v1/cases/4323615/</td>\n",
       "      <td>State v. Raymond Dakim Harris Joiner</td>\n",
       "      <td>State v. Joiner</td>\n",
       "      <td>2015-01-22</td>\n",
       "      <td>514P13-3</td>\n",
       "      <td>814</td>\n",
       "      <td>814</td>\n",
       "      <td>[{'type': 'official', 'cite': '367 N.C. 814'}]</td>\n",
       "      <td>[]</td>\n",
       "      <td>...</td>\n",
       "      <td>ok</td>\n",
       "      <td>514P13-3\\nState v. Raymond Dakim Harris Joiner</td>\n",
       "      <td>[{'type': 'majority', 'text': '1. Def’s Pro Se...</td>\n",
       "      <td>[]</td>\n",
       "      <td>[]</td>\n",
       "      <td></td>\n",
       "      <td>[State v. Raymond Dakim Harris Joiner]</td>\n",
       "      <td>2015-01-22</td>\n",
       "      <td>2015.0</td>\n",
       "      <td>1.0</td>\n",
       "    </tr>\n",
       "    <tr>\n",
       "      <td>92827</td>\n",
       "      <td>4326314</td>\n",
       "      <td>https://api.capapi.org/v1/cases/4326314/</td>\n",
       "      <td>State v. Reginald U. Fullard</td>\n",
       "      <td>State v. Fullard</td>\n",
       "      <td>2015-01-22</td>\n",
       "      <td>475P14</td>\n",
       "      <td>814</td>\n",
       "      <td>814</td>\n",
       "      <td>[{'type': 'official', 'cite': '367 N.C. 814'}]</td>\n",
       "      <td>[]</td>\n",
       "      <td>...</td>\n",
       "      <td>ok</td>\n",
       "      <td>475P14\\nState v. Reginald U. Fullard</td>\n",
       "      <td>[{'type': 'majority', 'text': '1. Def’s Pro Se...</td>\n",
       "      <td>[]</td>\n",
       "      <td>[]</td>\n",
       "      <td></td>\n",
       "      <td>[State v. Reginald U. Fullard]</td>\n",
       "      <td>2015-01-22</td>\n",
       "      <td>2015.0</td>\n",
       "      <td>1.0</td>\n",
       "    </tr>\n",
       "  </tbody>\n",
       "</table>\n",
       "<p>5 rows × 39 columns</p>\n",
       "</div>"
      ],
      "text/plain": [
       "            id                                       url  \\\n",
       "92741  4329281  https://api.capapi.org/v1/cases/4329281/   \n",
       "92758  4332768  https://api.capapi.org/v1/cases/4332768/   \n",
       "92770  4325043  https://api.capapi.org/v1/cases/4325043/   \n",
       "92775  4323615  https://api.capapi.org/v1/cases/4323615/   \n",
       "92827  4326314  https://api.capapi.org/v1/cases/4326314/   \n",
       "\n",
       "                                                    name  \\\n",
       "92741                            State v. Robert McPhail   \n",
       "92758  Clorey Eugene France v. Glover & Petersen, P.A...   \n",
       "92770                       State v. Joshua Andrew Stepp   \n",
       "92775               State v. Raymond Dakim Harris Joiner   \n",
       "92827                       State v. Reginald U. Fullard   \n",
       "\n",
       "                       name_abbreviation decision_date docket_number  \\\n",
       "92741                   State v. McPhail    2015-01-22        341P14   \n",
       "92758  France v. Glover & Petersen, P.A.    2015-01-22        452P14   \n",
       "92770                     State v. Stepp    2015-01-22        038A14   \n",
       "92775                    State v. Joiner    2015-01-22      514P13-3   \n",
       "92827                   State v. Fullard    2015-01-22        475P14   \n",
       "\n",
       "      first_page last_page                                       citations  \\\n",
       "92741        811       811  [{'type': 'official', 'cite': '367 N.C. 811'}]   \n",
       "92758        813       813  [{'type': 'official', 'cite': '367 N.C. 813'}]   \n",
       "92770        809       809  [{'type': 'official', 'cite': '367 N.C. 809'}]   \n",
       "92775        814       814  [{'type': 'official', 'cite': '367 N.C. 814'}]   \n",
       "92827        814       814  [{'type': 'official', 'cite': '367 N.C. 814'}]   \n",
       "\n",
       "      cites_to  ... casebody.status  \\\n",
       "92741       []  ...              ok   \n",
       "92758       []  ...              ok   \n",
       "92770       []  ...              ok   \n",
       "92775       []  ...              ok   \n",
       "92827       []  ...              ok   \n",
       "\n",
       "                               casebody.data.head_matter  \\\n",
       "92741                    341P14\\nState v. Robert McPhail   \n",
       "92758  452P14\\nClorey Eugene France v. Glover & Peter...   \n",
       "92770               038A14\\nState v. Joshua Andrew Stepp   \n",
       "92775     514P13-3\\nState v. Raymond Dakim Harris Joiner   \n",
       "92827               475P14\\nState v. Reginald U. Fullard   \n",
       "\n",
       "                                  casebody.data.opinions  \\\n",
       "92741  [{'type': 'majority', 'text': 'Def’s PDR Under...   \n",
       "92758  [{'type': 'majority', 'text': '1. Plaintiffs P...   \n",
       "92770  [{'type': 'majority', 'text': '1. Def’s Motion...   \n",
       "92775  [{'type': 'majority', 'text': '1. Def’s Pro Se...   \n",
       "92827  [{'type': 'majority', 'text': '1. Def’s Pro Se...   \n",
       "\n",
       "      casebody.data.attorneys  casebody.data.judges casebody.data.corrections  \\\n",
       "92741                      []  [Ervin, J., recused]                             \n",
       "92758                      []  [Ervin, J., recused]                             \n",
       "92770                      []                    []                             \n",
       "92775                      []                    []                             \n",
       "92827                      []                    []                             \n",
       "\n",
       "                                   casebody.data.parties  decision_date_p  \\\n",
       "92741                          [State v. Robert McPhail]       2015-01-22   \n",
       "92758  [Clorey Eugene France v. Glover & Petersen, P....       2015-01-22   \n",
       "92770                     [State v. Joshua Andrew Stepp]       2015-01-22   \n",
       "92775             [State v. Raymond Dakim Harris Joiner]       2015-01-22   \n",
       "92827                     [State v. Reginald U. Fullard]       2015-01-22   \n",
       "\n",
       "      decision_year  decision_month  \n",
       "92741        2015.0             1.0  \n",
       "92758        2015.0             1.0  \n",
       "92770        2015.0             1.0  \n",
       "92775        2015.0             1.0  \n",
       "92827        2015.0             1.0  \n",
       "\n",
       "[5 rows x 39 columns]"
      ]
     },
     "execution_count": 9,
     "metadata": {},
     "output_type": "execute_result"
    }
   ],
   "source": [
    "# view top 5 cases\n",
    "data_2015.head()"
   ]
  },
  {
   "cell_type": "code",
   "execution_count": 10,
   "metadata": {},
   "outputs": [
    {
     "data": {
      "text/plain": [
       "[{'type': 'majority',\n",
       "  'text': 'Def’s PDR Under N.C.G.S. § 7A-31 (COA13-1182)\\nDenied\\nErvin, J., recused',\n",
       "  'author': None}]"
      ]
     },
     "execution_count": 10,
     "metadata": {},
     "output_type": "execute_result"
    }
   ],
   "source": [
    "data_2015['casebody.data.opinions'].iloc[0]"
   ]
  },
  {
   "cell_type": "code",
   "execution_count": 11,
   "metadata": {},
   "outputs": [
    {
     "data": {
      "text/plain": [
       "[{'type': 'majority',\n",
       "  'text': '1. Def’s Motion to Strike Part B of the State’s Brief as Outside the Scope of an Appeal of Right (COA13-46)\\n2. State’s Petition in the Alternative for Writ of Certiorari to Review Decisions of COA\\n1. Dismissed as moot\\n2. Dismissed as moot',\n",
       "  'author': None}]"
      ]
     },
     "execution_count": 11,
     "metadata": {},
     "output_type": "execute_result"
    }
   ],
   "source": [
    "# case with id 4325043 has no author\n",
    "data_2015[data_2015.id==4325043]['casebody.data.opinions'].iloc[0]"
   ]
  },
  {
   "cell_type": "code",
   "execution_count": 12,
   "metadata": {},
   "outputs": [
    {
     "data": {
      "text/plain": [
       "'038A14\\nState v. Joshua Andrew Stepp'"
      ]
     },
     "execution_count": 12,
     "metadata": {},
     "output_type": "execute_result"
    }
   ],
   "source": [
    "# case with id 4325043 has no author and no headnotes\n",
    "data_2015[data_2015.id==4325043]['casebody.data.head_matter'].iloc[0]"
   ]
  },
  {
   "cell_type": "code",
   "execution_count": 13,
   "metadata": {},
   "outputs": [
    {
     "data": {
      "text/plain": [
       "[]"
      ]
     },
     "execution_count": 13,
     "metadata": {},
     "output_type": "execute_result"
    }
   ],
   "source": [
    "# case with id 4325043 has no author and no judges\n",
    "data_2015[data_2015.id==4325043]['casebody.data.judges'].iloc[0]"
   ]
  },
  {
   "cell_type": "code",
   "execution_count": 14,
   "metadata": {},
   "outputs": [
    {
     "data": {
      "text/plain": [
       "[{'type': 'majority',\n",
       "  'text': 'MARTIN, Chief Justice.\\nDefendant grew marijuana in view of his driveway, leaving three potted plants exposed to any visitor who might approach his residence. Two detectives did just that, and when they saw the plants, they seized them before returning the following day with a warrant to search defendant’s home. At trial, the court denied defendant’s motion to suppress the evidence of the seized plants. On appeal, the Court of Appeals reversed the trial court. We now reverse the decision of the Court of Appeals.\\nOn 5 May 2011, the Johnston County Sheriff’s Office received an anonymous tip that Jerry Grice, Jr. was growing marijuana at a particular residence on Old School Road. In response, the Sheriff’s Office dispatched two detectives, Guseman and Allen, to conduct a knock and. talk investigation at the address. Both detectives had extensive training in narcotic investigations, including training in identifying marijuana. The property was located in a rural area, and the house was situated along with several outbuildings approximately one-tenth of a mile down a dirt path. After driving up the driveway, the detectives parked behind a white vehicle on the right side of the house.\\nThe front door of the house was inaccessible, covered with plastic, and obscured by furniture. However, the officers noticed that the driveway led to a side door, which appeared to be used as the main entrance. Once the detectives had parked, two dogs ran up to their car and started barking. Detective Allen remained in the driveway to calm the dogs while Detective Guseman knocked on the side door. No one answered his knocks. From the driveway, Detective Allen noticed several buckets at a distance of approximately fifteen yards. Due to his training, Detective Allen recognized the plants growing in three of the buckets as marijuana. Detective Allen called Detective Guseman over to the driveway to observe the plants. Also based on his training, Detective Guseman identified the plants as marijuana without approaching the buckets.\\nAfter identifying the plants from the driveway, the officers walked to the plants and telephoned Captain Fish to determine how best to proceed. The Captain instructed Detectives Guseman and Allen to seize the plants and return to the Sheriffs Office to obtain a search warrant. A search warrant for the residence was executed the next morning. Detectives from the Sheriffs Office returned to the residence and arrested defendant, who admitted that the plants seized the previous day were his.\\nDefendant was subsequently indicted for manufacturing a controlled substance. A second charge was brought but later dropped by the State and is not relevant to our discussion here. Defendant filed a motion to suppress evidence of the seized marijuana plants, claiming discovery of the plants was the product of an illegal search and seizure. The motion was denied. At trial, defendant failed to object to the introduction of the plants on this constitutional basis. The jury unanimously found defendant guilty, and the court sentenced him to a suspended term of six to eight months with supervised probation. Defendant appealed.\\nThe Court of Appeals reversed, holding that “the trial court erred in its conclusion that no Fourth Amendment violation resulted from the seizure [of the plants].” State v. Grice, _N.C. App. _, __, 735 S.E.2d 354, 358 (2012). The court reasoned that admitting the State’s evidence in this case would make it “difficult to articulate a limiting principle such that ‘knock and talk’ investigations would not become a pretense to seize any property within the home’s curtilage.” Id. at_, 735 S.E.2d at 358. The court further reasoned that “the trial court’s finding ‘[t]hat this seizure was to prevent [the plants’] destruction’ is not supported by competent evidence in the record.” Id. at_, 735 S.E.2d at 359. The court thus held that “ ‘exigent circumstances’ cannot be a justification for this warrantless seizure.” Id. at_, 735 S.E.2d at 359. The court concluded its opinion by reasoning that if the evidence of the plants had properly been sup pressed, “the jury probably would have reached a different result” and thus, plain error occurred. Id. at _,, 735 S.E.2d at 359. We reverse.\\nThe Fourth Amendment protects “[t]he right of the people to be secure in their persons, houses, papers, and effects, against unreasonable searches and seizures.” U.S. Const, amend. IV. “The touchstone of the Fourth Amendment is reasonableness.” Florida v. Jimeno, 500 U.S. 248, 250, 111 S. Ct. 1801, 1803 (1991) (citation omitted). The protections against unreasonable searches and unreasonable seizures are distinct from one another — “[a] search compromises the individual interest in privacy; a seizure deprives the individual of dominion over his or her person or property.” Horton v. California, 496 U.S. 128, 133, 110 S. Ct. 2301, 2306 (1990) (citation omitted).\\nWhen considering whether a warrantless search was unreasonable, the inquiry focuses on whether an individual has “ ‘manifested a subjective expectation of privacy in the object of the challenged search,’ and ‘society [is] willing to recognize that expectation as reasonable.’ ” Kyllo v. United States, 533 U.S. 27, 33, 121 S. Ct. 2038, 2042-43 (2001) (alteration in original) (quoting California v. Ciraolo, 476 U.S. 207, 211, 106 S. Ct. 1809, 1811 (1986)). Privacy expectations are highest in one’s home. See Florida v. Jardines, __ U.S. _, _, 133 S. Ct. 1409, 1414 (2013).\\nWhen law enforcement observes contraband in plain view, no reasonable expectation of privacy exists, and thus, the Fourth Amendment’s prohibition against unreasonable warrantless searches is not violated. Ciraolo, 476 U.S. at 213-15, 106 S. Ct. at 1812-14. Instead, the Fourth Amendment analysis must consider whether a subsequent warrantless seizure of the items left in plain view was reasonable. That is the case with which we are presented. Here, defendant had no privacy interest in the marijuana plants left in plain view of his driveway, where any member of the public coming to his door might have seen them. When there is no privacy interest, there can be no search under the Fourth Amendment. Minnesota v. Dickerson, 508 U.S. 366, 375, 113 S. Ct. 2130, 2137 (1993).\\nWe are left then to examine whether the seizure of the plants violated defendant’s possessory interest in them, thereby running afoul of the Fourth Amendment. While the general rule is that warrantless seizures are unconstitutional, a warrantless seizure of an item may be justified as reasonable under the plain view doctrine, so long as three elements are met: First, “that the officer did not violate the Fourth Amendment in arriving at the place from which the evidence could be plainly viewed”; second, that the evidence’s “incriminating character . . . [was] ‘immediately apparent’ ”; and third, that the officer had “a lawful right of access to the object itself.” Horton, 496 U.S. at 136-37, 110 S. Ct. at 2308 (internal citations omitted); accord State v. Virgil, 276 N.C. 217, 227, 172 S.E.2d 28, 34 (1970). The North Carolina General Assembly has additionally required that the discovery of evidence in plain view be inadvertent. State v. Mickey, 347 N.C. 508, 516, 495 S.E.2d 669, 674 (citing N.C.G.S. § 15A-253 (1988)), cert. denied, 525 U.S. 853, 119 S. Ct. 131 (1998). The plain view doctrine represents the principle that “[t]he warrantless seizure of contraband that presents itself in this manner is deemed justified by the realization that resort to a neutral magistrate under such circumstances would often be impracticable and would do little to promote the objectives of the Fourth Amendment.” Dickerson, 508 U.S. at 375, 113 S. Ct. at 2137 (citations omitted); see also Texas v. Brown, 460 U.S. 730, 739, 103 S. Ct. 1535, 1541 (1983) (plurality) (“[Requiring police to obtain a warrant once they have obtained a first-hand perception of contraband, stolen property, or incriminating evidence generally would be a needless inconvenience.”) (citation and internal quotation marks omitted).\\nRegarding the first element, the officers in this case were present in defendant’s driveway to perform a knock and talk investigation. This matters because “ [i]t is, of course, an essential predicate to any valid warrantless seizure of incriminating evidence that the officer did not violate the Fourth Amendment in arriving at the place from which the evidence could be plainly viewed.” Horton, 496 U.S. at 136, 110 S. Ct. at 2308. Notably, defendant does not contest that this procedure was lawful, for there is an “implicit license [that] typically permits the visitor to approach the home by the front path.” Jardines, _U.S. at_, 133 S. Ct. at 1415. Secondly, testimony from both officers establishes that, based on their training and experience, they instantly recognized the plants as marijuana. Defendant does not contest the validity of that testimony. Thirdly, discovery of the marijuana was inadvertent — defendant does not allege the officers wandered the property looking for the marijuana before seeing it.\\nThe sole point of contention is whether the officers had a lawful right of access from the driveway fifteen yards across defendant’s property to the plants’ location. Defendant claims that, while the officers had a lawful right to be present at the door of defendant’s home, they did not have a lawful right to enter the curtilage fifteen yards away. When describing this element, the United States Supreme Court says that the plain view doctrine “ ‘serves to supplement the prior justification — whether it be a warrant for another object, hot pursuit, search incident to lawful arrest, or some other legitimate reason for being present unconnected with a search directed against the accused — and permits the warrantless seizure.’ ” Horton, 496 U.S. at 135-36, 110 S. Ct. at 2307 (citation omitted); see Illinois v. Andreas, 463 U.S. 765, 771, 103 S. Ct. 3319, 3324 (1983) (“The plain-view doctrine authorizes seizure of illegal or evidentiary items visible to a police officer whose access to the object has some prior Fourth Amendment justification and who has probable cause to suspect that the item is connected with criminal activity.”). Similarly, the Court in Horton observed that “[w]here the initial intrusion that brings the police within plain view of such an article is supported, not by a warrant, but by one of the recognized exceptions to the warrant requirement, the seizure is also legitimate.” 496 U.S. at 135, 110 S. Ct. at 2307 (emphasis added).\\nHere, the knock and talk investigation constituted the initial entry onto defendant’s property which brought the officers within plain view of the marijuana plants. The presence of the clearly identifiable contraband justified walking further into the curtilage. This understanding of the “lawful right of access” element is consistent with the background precedent that informed the Court’s introduction of this language in Horton. 496 U.S. at 137 & n.7, 110 S. Ct. at 2308 & n.7 (citing Chapman v. United States, 365 U.S. 610, 81 S. Ct. 776 (1961) (holding that officers who had climbed through a window of a home to perform a warrantless search violated the Fourth Amendment, and the subsequent seizure of distilling materials from inside the home was unconstitutional); Jones v. United States, 357 U.S. 493, 78 S. Ct. 1253 (1958) (holding that the nighttime seizure of distilling materials from a home was unconstitutional because law enforcement did not have a search warrant justifying entry into the home); McDonald v. United States, 335 U.S. 451, 69 S. Ct. 191 (1948) (holding that officers who had been watching the defendant for two months committed an unconstitutional search when they climbed through a window and peered through a transom to see if he was running an illegal gambling operation); Trupiano v. United States, 334 U.S. 699, 68 S. Ct. 1229 (1948) (holding that a warrantless planned raid on a distillery was unconstitutional), overruled in part by United States v. Rabinowitz, 339 U.S. 56, 66, 70 S. Ct. 430, 435 (1950); Johnson v. United States, 333 U.S. 10, 68 S. Ct. 367 (1948) (hoiding that officers who entered a hotel room without a search warrant based on the perceived smell of opium could not justify the arrest of the occupant); Taylor v. United States, 286 U.S. 1, 52 S. Ct. 466 (1932) (holding that law enforcement officers who used a flashlight to peer into a garage, then broke into the garage to open cardboard boxes suspected of containing whisky, effectuated an unconstitutional search, and the subsequent seizure was also unconstitutional)). Our precedent similarly takes this point of view. State v. Bone, 354 N.C. 1, 8, 550 S.E.2d 482, 487 (2001) (“In North Carolina, a seizure is lawful under [the plain view] doctrine when the officer was in a place he or she had a right to be at the time the evidence was discovered, it is immediately obvious that the items observed are evidence of a crime, and the discovery is inadvertent.”), cert. denied, 535 U.S. 940, 122 S. Ct. 1323 (2002); State v. Hoffman, 281 N.C. 727, 736-37, 190 S.E.2d 842, 849 (1972) (“Being lawfully in defendant’s residence, the officers could examine and, without a warrant, seize ‘suspicious objects in plain sight’ .... If the officers’ presence was lawful, the observation and seizure of what was then and there apparent could not in itself be unlawful.”) (alteration in original) (citations and internal quotation marks omitted).\\nDefendant places special emphasis on the fact that the plants were on the “curtilage” of the property. The curtilage is the area “ ‘immediately surrounding and associated with the home.’ ” Jardines,_U.S. at_, 133 S. Ct. at 1414 (quoting Oliver v. United States, 466 U.S. 170, 180, 104 S. Ct. 1735, 1742 (1984)). In a non-Fourth Amendment case, we have said “the curtilage of the home will ordinarily be construed to include at least the yard around the dwelling house as well as the area occupied by bams, cribs, and other outbuildings.” State v. Frizzelle, 243 N.C. 49, 51, 89 S.E.2d 725, 726 (1955) (citations omitted). The curtilage does enjoy some measure of Fourth Amendment protection, Jardines,_U.S. at_, 133 S. Ct. at 1414, because it is “intimately linked to the home, both physically and psychologically,” Ciraolo, 476 U.S. at 213, 106 S. Ct. at 1812. As such, it serves as the buffer between the intimate activities of the home and the prying eyes of the outside world. But, law enforcement is not required to turn a blind eye to contraband or otherwise incriminating materials left out in the open on the curtilage. Ciraolo, 476 U.S. at 213, 106 S. Ct. at 1812. Neither is law enforcement absolutely prohibited from crossing the curtilage and approaching the home, based on our society’s recognition that “the knocker on the front door is treated as an invitation or license to attempt an entry, justifying ingress to the home by solicitors, hawkers and peddlers . . . .” Jardines, _U.S. at_, 133 S. Ct. at 1416 (citation and internal quotation marks omitted).\\nAs a buffer, the curtilage protects privacy interests and prevents unreasonable searches on the curtilage. See generally Jardines,_ U.S._, 133 S. Ct. 1409; United States v. Dunn, 480 U.S. 294, 107 S. Ct. 1134 (1987). Whether the curtilage enjoys coextensive protection against unreasonable seizures is less clear. We do know, however, that constitutionally protected property interests exist on a spectrum. On one end of the spectrum, we have the home, which is protected by the highest constitutional threshold and thus may only be breached in specific, narrow circumstances. On the other end, we have open fields, which even though they may be private property may be reasonably traversed by law enforcement under the Fourth Amendment. Oliver, 466 U.S. at 176-77, 104 S. Ct. at 1740. Curtilage falls somewhere in between. The protection afforded the curtilage, at least in the context of violations of privacy, is determined by looking at several factors: “the proximity of the area claimed to be curtilage to the home, whether the area is included within an enclosure surrounding the home, the nature of the uses to which the area is put, and the steps taken by the resident to protect the area from observation by people passing by.” Dunn, 480 U.S. at 301, 107 S. Ct. at 1139 (citations omitted). These considerations are important not because they will “yield[ ] a ‘correct’ answer to all extent-of-curtilage questions. . . . [but because] they bear upon the centrally relevant consideration — whether the area in question is so intimately tied to the home itself that it should be placed under the home’s ‘umbrella’ of Fourth Amendment protection.” Id. at 301, 107 S. Ct. at 1139-40.\\nBorrowing these considerations for our analysis today, we conclude that the unfenced portion of the property fifteen yards from the home and bordering a wood line is closertin kind to an open field than it is to the paradigmatic curtilage which protects “the privacies of life” inside the home. Oliver, 466 U.S. at 180, 104 S. Ct. at 1742 (citation and internal quotation marks omitted). However, even if the property at issue can be considered the curtilage of the home for Fourth Amendment purposes, we disagree with defendant’s claim that a justified presence in one portion of the curtilage (the driveway and front porch) does not extend to justify recovery of contraband in plain view located in another portion of the curtilage (the side yard). By analogy, it is difficult to imagine what formulation of the Fourth Amendment would prohibit the officers from seizing the contraband if the plants had been growing on the porch — the paradigmatic cur tilage — rather than at a distance, particularly when the officers’ initial presence on the curtilage was justified. The plants in question were situated on the periphery of the curtilage, and the protections cannot be greater than if the plants were growing on the porch itself. The officers in this case were, by the custom and tradition of our society, implicitly invited into the curtilage to approach the home. Traveling within the curtilage to seize contraband in plain view within the curtilage did not violate the Fourth Amendment.\\nOur decision in State v. Harvey, 281 N.C. 1, 187 S.E.2d 706 (1972), is illustrative of this principle. In that case, a deputy arrived at the defendant’s home to arrest the defendant. The officer saw the defendant standing in the doorway of the utility room, so the officer approached that doorway. From the doorway, the officer saw marijuana seeds on the top of a deep freezer inside the room. The defendant met the officer at the doorway and was arrested. The officer proceeded to enter the room and seize the marijuana seeds. This Court held the officer “was legally on the premises, and no search was required to discover the contraband material.” Id. at 12, 187 S.E.2d at 713. We allowed the plain view observance of contraband from the doorway of a home to justify entry into the home. The intrusion in this case is far less invasive than entry into the home.\\nWhatever special protection the curtilage enjoys against warrant-less seizures, that protection does not support the creation of a rule that law enforcement is automatically prohibited from crossing from one lawfully arrived at portion of the curtilage to another portion of the curtilage to retrieve inadvertently discovered contraband in plain view. This is particularly true when, as here, the contraband nature of the seized items was immediately apparent, because “any interest in possessing contraband cannot be deemed legitimate.” Illinois v. Caballes, 543 U.S. 405, 408, 125 S. Ct. 834, 837 (2005) (citation and internal quotation marks omitted).\\nBecause the fact that the plants were on the curtilage alone is insufficient to hold that the officers violated the Fourth Amendment in seizing the plants, we perform the Fourth Amendment’s reasonableness inquiry to conclude our evaluation of the constitutionality of the officers’ actions in this case. United States v. Jacobsen, 466 U.S. 109, 124, 104 S. Ct. 1652, 1662 (1984). In this inquiry, “ ‘[w]e must balance the nature and quality of the intrusion on the individual’s Fourth Amendment interests against the importance of the governmental interests alleged to justify the intrusion.’ ” Id. at 125, 104 S. Ct. at 1662 (alteration in original) (citation omitted). “This rule merely reflects an application of the Fourth Amendment’s central requirement of reasonableness to the law governing seizures of property.” Brown, 460 U.S. at 739, 103 S. Ct. at 1542 (emphasis added). The State has a legitimate interest in seizing contraband, and the nature of the intrusion in this case was minimal. The officers were at the home in daylight; the contraband nature of the plants was readily apparent; the officers took only the plants, leaving behind the buckets and caretaking implements surrounding them; and the officers left immediately after seizing the plants. The officers did not cross or open any fence or barrier, nor did they use the sighting of the plants as an excuse to conduct a general search of the rest of the property. In other words, they did not travel outside the category of property covered by the initial invitation to enter the curtilage. Under these circumstances, the warrantless seizure of clearly identifiable contraband left in plain view of defendant’s driveway was not unreasonable and the motion to suppress was properly denied.\\nMoreover, contrary to the concern raised by the Court of Appeals, this holding does not mean that knock and talk investigations may be used as a pretense to seize contraband in a home’s curtilage. The limiting principle is what it has always been: law enforcement must have “ ‘some other legitimate reason for being present unconnected with a search directed against the accused.’ ” Horton, 496 U.S. at 136, 110 S. Ct. at 2307 (citation omitted). The implicit license enjoyed by law enforcement and citizens alike to approach the front doors of homes may be limited or rescinded by clear demonstrations by the homeowners and is already limited by our social customs. See Jardines,_U.S. at_, 133 S. Ct. at 1415-16. If law enforcement officers attempt to use an unreasonable warrantless search to justify a subsequent seizure, their argument will fail. Horton, 496 U.S. at 136, 110 S. Ct. at 2307-08. But as the officers here did not perform an unconstitutional search and had a legitimate reason to be in the driveway, from which they saw the marijuana plants left in plain view, they lawfully seized those plants.\\nFurthermore, the seizure was also justified by exigent circumstances. Defendant points to the fact that the officers’ testimony at trial did not cite any exigencies that steered their decision to seize the marijuana before obtaining a warrant. They seized the plants because their captain told them to. But the Supreme Court “has long taken the view that ‘evenhanded law enforcement is best achieved by the application of objective standards of conduct, rather than standards that depend upon the subjective state of mind of the officer.’ ” Kentucky v. King, _U.S. _, _, 131 S. Ct. 1849, 1859 (2011) (citation omitted); accord State v. Barnard, 362 N.C. 244, 248, 658 S.E.2d 643, 645-46 (Constitutionality “depends on the objective facts, not the officer’s subjective motivation.”) (citations omitted), cert. denied, 555 U.S. 914, 129 S. Ct. 264 (2008). Accordingly, we look at the whole record to determine if there were factors reasonably supporting the immediate seizure of the plants.\\nFactors long used to justify warrantless seizures have included the belief that contraband will be removed or destroyed, the possible danger to police guarding the site, and the ready destructibility of the contraband. United States v. Turner, 650 F.2d 526, 528 (4th Cir. 1981) (citing United States v. Rubin, 474 F.2d 262, 268-69 (3d Cir.) (cataloguing various exigent circumstances recognized by other circuit courts), cert. denied, 414 U.S. 833, 94 S. Ct. 173 (1973)); see generally Coolidge v. New Hampshire, 403 U.S. 443, 91 S. Ct. 2022 (1971), abrogated in part by Horton, 496 U.S. 128, 110 S. Ct. 2301. The Supreme Court has stressed the importance of “balancing] the privacy-related and law enforcement-related concerns to determine if the intrusion was reasonable.” Illinois v. McArthur, 531 U.S. 326, 331, 121 S. Ct. 946, 950 (2001) (citations omitted). This analysis led the Supreme Court to approve a warrantless seizure that was tailored to the immediate governmental need because the search was “limited in time and scope and avoid[ed] significant intrusion into the home itself.” Id. (citations omitted). Similarly, there was no physical intrusion into the home in this case. The officers removed the three plants and the three plants alone, leaving behind the buckets in which they had been planted and the various caretaking implements surrounding them. The plants were small and easily transportable, and there was a passenger vehicle in the driveway. The fact that no one came to the door does not establish that no one was at home, but simply that no one was willing to answer the door. A reasonable officer might believe that the presence of the vehicle and the two dogs roaming the unfenced yard indicated that someone was at home and simply remaining inside. Leaving an officer behind to secure the yard while the other officer went to get a warrant, as suggested by defendant, could have exposed that remaining officer to unknown danger. Moreover, “[faulting the police for failing to apply for a search warrant at the earliest possible time after obtaining probable cause imposes a duty that is nowhere to be found in the Constitution.” King,_U.S. at_, 131 S. Ct. at 1861. Reviewing the record, it is objectively reasonable to conclude that someone may have been home, that the individual would have been aware of the officers’ presence, and that the individual could easily have moved or destroyed the plants if they were left on the property. Under these facts, we find no reason to disturb the trial court’s finding that “this seizure was to prevent [the plants’] destruction,” and conclude that exigent circumstances justified the seizure.\\nFinally, as acknowledged in his brief, defendant failed to object to the introduction of the challenged evidence at trial. Therefore, we review the trial court’s evidentiary determination for plain error. See N.C. R. App. P. 10(a)(4); see also State v. Lawrence, 365 N.C. 506, 723 S.E.2d 326 (2012). Under the plain error standard, defendant cannot show that admission of the challenged evidence amounted to plain error.\\nPlain error requires that “a defendant must demonstrate that a fundamental error occurred at trial. To show that an error was fundamental, a defendant must establish prejudice — that, after examination of the entire record, the error ‘had a probable impact on the jury’s finding that the defendant was guilty.’ ” Lawrence, 365 N.C. at 518, 723 S.E.2d at 334 (internal citations omitted). We also stated, “plain error is to be ‘applied cautiously and only in the exceptional case.’ ” Id. at 518, 723 S.E.2d at 334 (quoting State v. Odom, 307 N.C. 655, 660, 300 S.E.2d 375, 378 (1983)). In order to ensure plain error is reserved for the exceptional case, we stressed that plain error requires a defendant to show that the prejudicial error was one that “seriously affect[ed] the fairness, integrity, or public reputation of judicial proceedings.” Id. at 519, 723 S.E.2d at 335. When plain error analysis fails to adequately account for this element, plain error may become indistinguishable from the less stringent harmless error standard.\\nEven if it was error to deny the motion to suppress, it was not an error that seriously affected the fairness, integrity, or public reputation of judicial proceedings. Here, the trial court allowed evidence that defendant left three marijuana plants outside in his yard for any member of the public to see. Defendant acknowledges that the plants were his. The inclusion of this evidence is not the “exceptional case” that justifies finding plain error. Id. at 518, 723 S.E.2d at 334. Accordingly, we reverse the decision of the Court of Appeals.\\nDefendant chose to grow marijuana in his yard, plainly visible to any visitors to his home. The law enforcement officers who visited defendant’s home carefully limited the scope of their intrusion and their seizure was justified under the plain view doctrine and supported by exigent circumstances. Because defendant failed to specifically object at trial to the introduction of the plants, the plain error doctrine provides yet another reason for our decision. Therefore, we reverse the decision of the Court of Appeals.\\nREVERSED.\\nJustice ERVIN did not participate in the consideration or decision of this case.\\n. We decline the dissent’s invitation to adopt the “pre-intrusion” framework invoked by the Florida Supreme Court over thirty years ago. See post at 767 (citing Ensor v. State, 403 So. 2d 349 (Fla. 1981), superseded on other grounds by statute, Fla. Stat. § 790.25(5) (Supp. 1982)). To the extent the dissent finds that case persuasive, we think these facts are the quintessential example of a “ ‘prior valid intrusion,’ ” when “an officer is legally inside, by warrant or warrant exception, a constitutionally protected area and inadvertently observes contraband also in the protected area.” Ensor, 403 So. 2d at 352. Here, the detectives were legally inside the curtilage, a constitutionally protected area, performing a knock and talk investigation when they inadvertently observed contraband also in the protected area.',\n",
       "  'author': 'MARTIN, Chief Justice.'},\n",
       " {'type': 'dissent',\n",
       "  'text': \"Justice HUDSON\\ndissenting.\\nThe State argues, and the majority agrees, that because the marijuana plants in defendant’s backyard were in “plain view,” their seizure was justified under the “plain view” doctrine. Because I conclude that this determination is based upon a mistaken assumption about how the doctrine applies when the view and seizure occur from outside a constitutionally protected area, a “pre-intrusion” scenario, I respectfully dissent.\\nAs the Maryland intermediate appellate court has observed, “[njeedless confusion” has arisen out of the failure by courts to distinguish “visually similar but legally distinct situations” involving the observation of contraband: Scales v. State, 13 Md. App. 474, 478 n.1, 284 A.2d 45, 47 n.1 (Md. Ct. Spec. App. 1971). After Coolidge it was not entirely clear whether the discovery of contraband had to be “inadvertent” to justify its warrantless seizure under the “plain view” doctrine. In Horton v. California, 496 U.S. 128, 130, 110 S. Ct. 2301, 2304 (1990), the Supreme Court of the United States clarified that “even though inadvertence is a characteristic of most legitimate ‘plain-view’ seizures, it is not a necessary condition.” However, as noted by the majority, our State statutes require that the discovery be inadvertent. N.C.G.S. § 15A-253 (2013) (stating that when a search is conducted via a warrant, an officer may also take possession of contraband that is “inadvertently discovered” although not specified in the warrant).\\nThe “plain view doctrine,” as described in Coolidge v. New Hampshire, 403 U.S. 443, 91 S.Ct. 2022, 29 L.Ed.2d 564 [(1971)], refers exclusively to the legal justification — the reasonableness— for the seizure of evidence which has not beén particularly described in a warrant and which is inadvertently spotted in the course of a constitutional search already in progress or in the course of an otherwise justifiable intrusion into a constitutionally protected area. It has no applicability when the vantage point from which the “plain view” is made is not within a constitutionally protected area.\\nIn 1971 the Supreme Court further explained the contours of' what has come to be known as the “plain view” doctrine:\\n[P]lain view alone is never enough to justify the warrantless seizure of evidence. This is simply a corollary of the familiar principle discussed above, that no amount of probable cause can justify a warrantless search or seizure absent ‘exigent circumstances.’ Incontrovertible testimony of the senses that an incriminating object is on premises belonging to a criminal suspect may establish the fullest possible measure of probable cause. But even where the object is contraband, this Court has repeatedly stated and enforced the basic rule that the police may not enter and make a warrantless seizure.\\nCoolidge v. New Hampshire, 403 U.S. 443, 468, 91 S. Ct. 2022, 2039 (1971) (second emphasis added) (citations omitted), abrogated in part by Horton, 496 U.S. 128, 1105 S. Ct. 2301. In other words,\\n“plain view” provides grounds for seizure of an item when an officer’s access to an object has some prior justification under the Fourth Amendment. “Plain view” is perhaps better understood, therefore, not as an independent “exception” to the Warrant Clause, but simply as an extension of whatever the prior justification for an officer’s “access to an object” may be.\\nTexas v. Brown, 460 U.S. 730, 738-39, 103 S. Ct. 1535, 1541 (1983) (plurality) (footnote omitted).\\nAs the Florida Supreme Court explains in Ensor v. State, these visually similar situations fall into one of three categories for purposes of Fourth Amendment analysis:\\nThe term “plain view” has been misunderstood and misapplied because courts have made it applicable to three distinct factual situations. This has resulted in confusion of the elements of the “plain view doctrine.” To eliminate this confusion, we believe it appropriate to distinguish the true “plain view doctrine” as established in Coolidge v. New Hampshire, 403 U.S. 443, 91 S.Ct. 2022, 29 L.Ed.2d 564 (1971), from other situations where officers observe contraband.\\nThe first factual situation we identify as a “prior valid intrusion.” In this situation, an officer is legally inside, by warrant or warrant exception, a constitutionally protected area and inadvertently observes contraband also in the protected area. It is this situation for which the United States Supreme Court created the “plain view doctrine” in Goolidge and held that an officer could constitutionally seize the contraband in “plain view” from within this protected area. We emphasize that it is critical under this doctrine for the officer to be already within the constitutionally protected area when he inadvertently discovers the contraband.\\nWe identify the second factual situation as a “non-intrusion.” This situation occurs when both the officer and the contraband are in a non-constitutionally protected area. Because no protected area is involved, the resulting seizure has no fourth amendment ramifications, and, while the contraband could be defined as in “plain view,” it should not be so labeled to prevent any confusion with the Goolidge “plain view doctrine.”\\nThe third situation concerns a “pre-intrusion.” Here, the officer is located outside of a constitutionally protected area and is looking inside that area. If the officer observes contraband in this situation, it only furnishes him probable cause to seize the item. He must either obtain a warrant or have some exception to the warrant requirement before he may enter the protected area and seize the contraband. As with the non-intrusion situation, the term “plain view” should not be employed here to prevent confusion. For clarity, we label an observation in the latter two non-Coolidge situations as a legally permissive “open view.”\\n403 So. 2d 349, 352 (Fla. 1981), superseded on other grounds by statute, Fla. Stat. § 790.25(5) (Supp. 1982). These distinctions come from the limits to the plain view doctrine, as explained by the Supreme Court in Texas v. Brown. While the majority believes that this case falls within the first category of cases described in Ensor, I believe it falls within the third. Consequently, the majority analyzes the constitutionality of the seizure of the contraband in this case under the “plain view” doctrine, while I analyze it as a “pre-intrusion” case.\\nEssentially, I do not agree with the majority that simply because the officers were lawfully on the front porch, they could move to what the State has identified as defendant’s “backyard” and “behind the residence.” I do not dispute that the officers here had every right to be on the front (or, in this case, side) porch to conduct a “knock and talk” investigation. See State v. Lupek, 214 N.C. App. 146, 151, 712 S.E.2d 915, 919 (2011) (“In North Carolina, however, no search of the curtilage occurs when an officer is in a place where the public is allowed to be, such as at the front door of a house. It is well established that ‘[e]ntrance [by law enforcement officers] onto private property for the purpose of a general inquiry or interview is proper.’ ” (alterations in original) (quoting State v. Prevette, 43 N.C. App. 450, 455, 259 S.E.2d 595, 599-600 (1979), appeal dismissed and disc. rev. denied, 299 N.C. 124, 261 S.E.2d 925, cert. denied, 447 U.S. 906, 100 S. Ct. 2988 (1980))). The front porch', however, is very different from the backyard and the rest of the curtilage. The Supreme Court has repeatedly emphasized the high privacy interest individuals hold in the curtilage. See, e.g., United States v. Dunn, 480 U.S. 294, 300, 107 S. Ct. 1134, 1139 (1987) (recognizing “that the Fourth Amendment protects the curtilage of a house”); United States v. Martinez-Fuerte, 428 U.S. 543, 561, 96 S. Ct. 3074, 3084 (1976) (noting that the “sanctity of private dwellings” is “afforded the most stringent Fourth Amendment protection”). Further, as noted by the majority, this Court has specifically defined the curtilage to include areas identical to where the contraband was observed in this case: “[T]he curtilage of the home will ordinarily be construed to include at least the yard around the dwelling house as well as the area occupied by barns, cribs, and other outbuildings.” State v. Frizzelle, 243 N.C. 49, 51, 89 S.E.2d 725, 726 (1955) (citations omitted). Therefore, although the officers here were lawfully on the porch that served as the main entrance to the house, they had no right to enter other portions of defendant’s curtilage. Defendant’s “backyard,” located “behind the residence,” is still “afforded the most stringent Fourth Amendment protection.” Martinez-Fuerte, 428 U.S. at 561, 96 S. Ct. at 3084.\\nBecause the officers were outside the protected area, I conclude that the Fourth Amendment requires either (1) a warrant or (2) probable cause and exigent circumstances to allow the officers to cross into the protected area and seize the contraband. Here there was no warrant. On the other hand, there was probable cause given the immediately apparent contraband nature of the plants, so exigent circumstances, if they existed, could have justified a seizure of the contraband. However, I do not agree that such circumstances existed. The majority relies on the following facts to establish exigent circumstances: “[t]he plants were small and easily transportable, [ ] there was a passenger vehicle in the driveway,” and two dogs were roaming around the yard. From these facts, the inference is drawn that someone was at home and could destroy the plants after the officers left the scene. Even if the officers assumed someone was at the residence, these facts do not create a typical “exigent circumstances” fact pattern. Usually, the suspect and the contraband are in one location, and the officers are in a different location — as in, the officers are outside the house and the suspect is inside with the contraband, contemplating potential destruction of it. See, e.g., State v. Rojas,_ N.C. App._, 745 S.E.2d 374, 2013 WL 2407224, at *5 (2013) (unpublished) (explaining that “marijuana is often times disposed of by flushing it down the toilet or putting it in the garbage disposal”). Here, on the other hand, it is the officers and the contraband that are together, and the suspect is nowhere to be seen. If these circumstances support a finding of exigent circumstances, it is difficult to imagine when a simple sighting of portable contraband would not. See State v. Yananokwiak, 65 N.C. App. 513, 517, 309 S.E.2d 560, 563 (1983) (“The state’s argument that exigency is shown simply because drugs are easily destroyed would permit the exigency exception to swallow the entire warrant requirement.”). Finally, the burden is on the State to prove the exigent circumstances. State v. Allison, 298 N.C. 135, 141, 257 S.E.2d 417, 421 (1979) (citation omitted). Here the State did not present any evidence to the trial court regarding exigent circumstances, but argued for it and the trial court found as fact: “That this seizure was to prevent [what appeared to marijuana plants’] destruction.” The basis for this finding is not apparent, and the trial court made no conclusions of law on that issue. Therefore, exigent circumstances cannot properly justify the officers’ intrusion into defendant’s protected curtilage.\\nFor these reasons, I conclude that the officers were not justified in seizing the plants here. In my view, defendant’s Fourth Amendment rights were violated and the evidence should have been suppressed.\\nHaving determined that the challenged evidence was obtained in violation of defendant’s Fourth Amendment rights, and thus should have been suppressed, the issue to me becomes whether erroneous admission of the evidence constitutes plain error. In State v. Lawrence, 365 N.C. 506, 723 S.E.2d 326 (2012), we recently “reaffirm[ed]” the principles forming “the plain error standard of review” on appeal:\\nFor error to constitute plain error, a defendant must demonstrate that a fundamental error occurred at trial. To show that an error was fundamental, a defendant must establish prejudice — that, after examination of the entire record, the error had a probable impact on the jury’s finding that the defendant was guilty. Moreover, because plain error is to be applied cautiously and only in the exceptional case, the error will often be one that seriously affects the fairness, integrity or public reputation of judicial proceedings.\\nId. at 518, 723 S.E.2d at 334 (brackets, citations, and internal quotation marks omitted). I disagree with the assertion that the consideration of inadmissible evidence does not affect the “fairness, integrity, or public reputation of judicial proceedings.” Id. In my view, it does exactly that. The majority appears to suggest that because defendant actually possessed the contraband, his conviction does not offend our justice system. I cannot agree with that premise. In my view, a conviction obtained with evidence which should not have been admitted is as offensive to our justice system as a wrongful conviction.\\nFor the above reasons, I respectfully dissent.\\nJustice BEASLEY joins in this dissenting opinion.\",\n",
       "  'author': 'Justice HUDSON'}]"
      ]
     },
     "execution_count": 14,
     "metadata": {},
     "output_type": "execute_result"
    }
   ],
   "source": [
    "data_2015[data_2015.id==4317084]['casebody.data.opinions'].iloc[0]"
   ]
  },
  {
   "cell_type": "code",
   "execution_count": 15,
   "metadata": {},
   "outputs": [
    {
     "data": {
      "text/plain": [
       "'STATE OF NORTH CAROLINA v. JERRY WADE GRICE, JR.\\nNo. 501PA12\\n(Filed 23 January 2015)\\n1. Search and Seizure — motion to suppress — plain view doctrine — officers’ access to contraband\\nIt was not error for the trial court to deny defendant’s motion to suppress evidence of marijuana plants seized without a warrant from an area outside of his home in view of his driveway. The investigating officers had a lawful right of access from the driveway to the marijuana plants, which were approximately fifteen yards away in an unfenced area bordering a wood line. Even assuming the plants were in the home’s curtilage, the officers did not violate the Fourth Amendment by traveling from one portion of the curtilage to another to seize the plants that were in plain view. The seizure was a minimal intrusion on defendant’s property rights when balanced against the State’s interest in seizing contraband.\\n2. Search and Seizure — motion to suppress — exigent circumstances\\nIt was not error for the trial court to deny defendant’s motion to suppress evidence of marijuana plants seized without a warrant from an area outside of defendant’s home. Exigent circumstances justified the seizure of the plants to prevent their destruction. The plants were outside of defendant’s home in small, transportable pots; there was a vehicle in the driveway, indicating someone may have been in the home; and it may have been dangerous to leave an officer behind while the other applied for a warrant.\\n3. Search and Seizure — motion to suppress — plain . error review\\nAdmission of evidence of marijuana plants seized without a warrant from an area outside of defendant’s home did not amount to plain error. Even assuming the admission was erroneous, the error did not seriously affect the fairness, integrity, or public reputation of judicial proceedings because defendant acknowledged that the marijuana was his.\\nJustice ERVIN did not participate in the consideration or decision of this case.\\nJustice HUDSON dissenting.\\nJustice BEASLEY joins in this dissenting opinion.\\nOn discretionary review pursuant to N.C.G.S. § 7A-31 of a unanimous decision of the Court of Appeals, _ N.C. App. _, 735 S.E.2d 354 (2012), vacating a judgment entered on 14 December 2011 by Judge James G. Bell in Superior Court, Johnston County, and remanding for a new trial. Heard in the Supreme Court on 19 November 2013.\\nRoy Cooper, Attorney General, by Derrick C. Mertz, Assistant Attorney General, for the State-appellant.\\nStaples S. Hughes, Appellate Defender, and Jon H. Hunt and Benjamin Dowling-Sendor, Assistant Appellate Defenders, for defendant-appellee.'"
      ]
     },
     "execution_count": 15,
     "metadata": {},
     "output_type": "execute_result"
    }
   ],
   "source": [
    "data_2015[data_2015.id==4317084]['casebody.data.head_matter'].iloc[0]"
   ]
  },
  {
   "cell_type": "code",
   "execution_count": 16,
   "metadata": {},
   "outputs": [],
   "source": [
    "# filter data and keep those cases with authors\n",
    "data_f = data[data['casebody.data.judges'].notna()]"
   ]
  },
  {
   "cell_type": "code",
   "execution_count": 17,
   "metadata": {},
   "outputs": [],
   "source": [
    "for i in range(6):\n",
    "    data_f[f'casebody.data.opinions.text{i}'] = data_f['casebody.data.opinions'].map(lambda x: x[i]['text']\\\n",
    "                                                                                     if len(x)>=i+1 else None)"
   ]
  },
  {
   "cell_type": "code",
   "execution_count": 18,
   "metadata": {},
   "outputs": [
    {
     "name": "stdout",
     "output_type": "stream",
     "text": [
      "1: 1268383\n",
      "2: 11274261\n",
      "3: 11272222\n",
      "4: 11272060\n",
      "5: 11270334\n",
      "6: 11270334\n"
     ]
    }
   ],
   "source": [
    "print('1:', data_f[data_f['casebody.data.opinions.text0'].notna()].iloc[0][0])\n",
    "print('2:', data_f[data_f['casebody.data.opinions.text1'].notna()].iloc[0][0])\n",
    "print('3:', data_f[data_f['casebody.data.opinions.text2'].notna()].iloc[0][0])\n",
    "print('4:', data_f[data_f['casebody.data.opinions.text3'].notna()].iloc[0][0])\n",
    "print('5:', data_f[data_f['casebody.data.opinions.text4'].notna()].iloc[0][0])\n",
    "print('6:', data_f[data_f['casebody.data.opinions.text5'].notna()].iloc[0][0])\n",
    "# no cases with 7 opinion\n",
    "#print('7:', data_f[data_f['casebody.data.opinions.text6'].notna()].iloc[0][0])"
   ]
  },
  {
   "cell_type": "code",
   "execution_count": 19,
   "metadata": {},
   "outputs": [
    {
     "data": {
      "text/plain": [
       "'MARTIN, Chief Justice.\\nDefendant grew marijuana in view of his driveway, leaving three potted plants exposed to any visitor who might approach his residence. Two detectives did just that, and when they saw the plants, they seized them before returning the following day with a warrant to search defendant’s home. At trial, the court denied defendant’s motion to suppress the evidence of the seized plants. On appeal, the Court of Appeals reversed the trial court. We now reverse the decision of the Court of Appeals.\\nOn 5 May 2011, the Johnston County Sheriff’s Office received an anonymous tip that Jerry Grice, Jr. was growing marijuana at a particular residence on Old School Road. In response, the Sheriff’s Office dispatched two detectives, Guseman and Allen, to conduct a knock and. talk investigation at the address. Both detectives had extensive training in narcotic investigations, including training in identifying marijuana. The property was located in a rural area, and the house was situated along with several outbuildings approximately one-tenth of a mile down a dirt path. After driving up the driveway, the detectives parked behind a white vehicle on the right side of the house.\\nThe front door of the house was inaccessible, covered with plastic, and obscured by furniture. However, the officers noticed that the driveway led to a side door, which appeared to be used as the main entrance. Once the detectives had parked, two dogs ran up to their car and started barking. Detective Allen remained in the driveway to calm the dogs while Detective Guseman knocked on the side door. No one answered his knocks. From the driveway, Detective Allen noticed several buckets at a distance of approximately fifteen yards. Due to his training, Detective Allen recognized the plants growing in three of the buckets as marijuana. Detective Allen called Detective Guseman over to the driveway to observe the plants. Also based on his training, Detective Guseman identified the plants as marijuana without approaching the buckets.\\nAfter identifying the plants from the driveway, the officers walked to the plants and telephoned Captain Fish to determine how best to proceed. The Captain instructed Detectives Guseman and Allen to seize the plants and return to the Sheriffs Office to obtain a search warrant. A search warrant for the residence was executed the next morning. Detectives from the Sheriffs Office returned to the residence and arrested defendant, who admitted that the plants seized the previous day were his.\\nDefendant was subsequently indicted for manufacturing a controlled substance. A second charge was brought but later dropped by the State and is not relevant to our discussion here. Defendant filed a motion to suppress evidence of the seized marijuana plants, claiming discovery of the plants was the product of an illegal search and seizure. The motion was denied. At trial, defendant failed to object to the introduction of the plants on this constitutional basis. The jury unanimously found defendant guilty, and the court sentenced him to a suspended term of six to eight months with supervised probation. Defendant appealed.\\nThe Court of Appeals reversed, holding that “the trial court erred in its conclusion that no Fourth Amendment violation resulted from the seizure [of the plants].” State v. Grice, _N.C. App. _, __, 735 S.E.2d 354, 358 (2012). The court reasoned that admitting the State’s evidence in this case would make it “difficult to articulate a limiting principle such that ‘knock and talk’ investigations would not become a pretense to seize any property within the home’s curtilage.” Id. at_, 735 S.E.2d at 358. The court further reasoned that “the trial court’s finding ‘[t]hat this seizure was to prevent [the plants’] destruction’ is not supported by competent evidence in the record.” Id. at_, 735 S.E.2d at 359. The court thus held that “ ‘exigent circumstances’ cannot be a justification for this warrantless seizure.” Id. at_, 735 S.E.2d at 359. The court concluded its opinion by reasoning that if the evidence of the plants had properly been sup pressed, “the jury probably would have reached a different result” and thus, plain error occurred. Id. at _,, 735 S.E.2d at 359. We reverse.\\nThe Fourth Amendment protects “[t]he right of the people to be secure in their persons, houses, papers, and effects, against unreasonable searches and seizures.” U.S. Const, amend. IV. “The touchstone of the Fourth Amendment is reasonableness.” Florida v. Jimeno, 500 U.S. 248, 250, 111 S. Ct. 1801, 1803 (1991) (citation omitted). The protections against unreasonable searches and unreasonable seizures are distinct from one another — “[a] search compromises the individual interest in privacy; a seizure deprives the individual of dominion over his or her person or property.” Horton v. California, 496 U.S. 128, 133, 110 S. Ct. 2301, 2306 (1990) (citation omitted).\\nWhen considering whether a warrantless search was unreasonable, the inquiry focuses on whether an individual has “ ‘manifested a subjective expectation of privacy in the object of the challenged search,’ and ‘society [is] willing to recognize that expectation as reasonable.’ ” Kyllo v. United States, 533 U.S. 27, 33, 121 S. Ct. 2038, 2042-43 (2001) (alteration in original) (quoting California v. Ciraolo, 476 U.S. 207, 211, 106 S. Ct. 1809, 1811 (1986)). Privacy expectations are highest in one’s home. See Florida v. Jardines, __ U.S. _, _, 133 S. Ct. 1409, 1414 (2013).\\nWhen law enforcement observes contraband in plain view, no reasonable expectation of privacy exists, and thus, the Fourth Amendment’s prohibition against unreasonable warrantless searches is not violated. Ciraolo, 476 U.S. at 213-15, 106 S. Ct. at 1812-14. Instead, the Fourth Amendment analysis must consider whether a subsequent warrantless seizure of the items left in plain view was reasonable. That is the case with which we are presented. Here, defendant had no privacy interest in the marijuana plants left in plain view of his driveway, where any member of the public coming to his door might have seen them. When there is no privacy interest, there can be no search under the Fourth Amendment. Minnesota v. Dickerson, 508 U.S. 366, 375, 113 S. Ct. 2130, 2137 (1993).\\nWe are left then to examine whether the seizure of the plants violated defendant’s possessory interest in them, thereby running afoul of the Fourth Amendment. While the general rule is that warrantless seizures are unconstitutional, a warrantless seizure of an item may be justified as reasonable under the plain view doctrine, so long as three elements are met: First, “that the officer did not violate the Fourth Amendment in arriving at the place from which the evidence could be plainly viewed”; second, that the evidence’s “incriminating character . . . [was] ‘immediately apparent’ ”; and third, that the officer had “a lawful right of access to the object itself.” Horton, 496 U.S. at 136-37, 110 S. Ct. at 2308 (internal citations omitted); accord State v. Virgil, 276 N.C. 217, 227, 172 S.E.2d 28, 34 (1970). The North Carolina General Assembly has additionally required that the discovery of evidence in plain view be inadvertent. State v. Mickey, 347 N.C. 508, 516, 495 S.E.2d 669, 674 (citing N.C.G.S. § 15A-253 (1988)), cert. denied, 525 U.S. 853, 119 S. Ct. 131 (1998). The plain view doctrine represents the principle that “[t]he warrantless seizure of contraband that presents itself in this manner is deemed justified by the realization that resort to a neutral magistrate under such circumstances would often be impracticable and would do little to promote the objectives of the Fourth Amendment.” Dickerson, 508 U.S. at 375, 113 S. Ct. at 2137 (citations omitted); see also Texas v. Brown, 460 U.S. 730, 739, 103 S. Ct. 1535, 1541 (1983) (plurality) (“[Requiring police to obtain a warrant once they have obtained a first-hand perception of contraband, stolen property, or incriminating evidence generally would be a needless inconvenience.”) (citation and internal quotation marks omitted).\\nRegarding the first element, the officers in this case were present in defendant’s driveway to perform a knock and talk investigation. This matters because “ [i]t is, of course, an essential predicate to any valid warrantless seizure of incriminating evidence that the officer did not violate the Fourth Amendment in arriving at the place from which the evidence could be plainly viewed.” Horton, 496 U.S. at 136, 110 S. Ct. at 2308. Notably, defendant does not contest that this procedure was lawful, for there is an “implicit license [that] typically permits the visitor to approach the home by the front path.” Jardines, _U.S. at_, 133 S. Ct. at 1415. Secondly, testimony from both officers establishes that, based on their training and experience, they instantly recognized the plants as marijuana. Defendant does not contest the validity of that testimony. Thirdly, discovery of the marijuana was inadvertent — defendant does not allege the officers wandered the property looking for the marijuana before seeing it.\\nThe sole point of contention is whether the officers had a lawful right of access from the driveway fifteen yards across defendant’s property to the plants’ location. Defendant claims that, while the officers had a lawful right to be present at the door of defendant’s home, they did not have a lawful right to enter the curtilage fifteen yards away. When describing this element, the United States Supreme Court says that the plain view doctrine “ ‘serves to supplement the prior justification — whether it be a warrant for another object, hot pursuit, search incident to lawful arrest, or some other legitimate reason for being present unconnected with a search directed against the accused — and permits the warrantless seizure.’ ” Horton, 496 U.S. at 135-36, 110 S. Ct. at 2307 (citation omitted); see Illinois v. Andreas, 463 U.S. 765, 771, 103 S. Ct. 3319, 3324 (1983) (“The plain-view doctrine authorizes seizure of illegal or evidentiary items visible to a police officer whose access to the object has some prior Fourth Amendment justification and who has probable cause to suspect that the item is connected with criminal activity.”). Similarly, the Court in Horton observed that “[w]here the initial intrusion that brings the police within plain view of such an article is supported, not by a warrant, but by one of the recognized exceptions to the warrant requirement, the seizure is also legitimate.” 496 U.S. at 135, 110 S. Ct. at 2307 (emphasis added).\\nHere, the knock and talk investigation constituted the initial entry onto defendant’s property which brought the officers within plain view of the marijuana plants. The presence of the clearly identifiable contraband justified walking further into the curtilage. This understanding of the “lawful right of access” element is consistent with the background precedent that informed the Court’s introduction of this language in Horton. 496 U.S. at 137 & n.7, 110 S. Ct. at 2308 & n.7 (citing Chapman v. United States, 365 U.S. 610, 81 S. Ct. 776 (1961) (holding that officers who had climbed through a window of a home to perform a warrantless search violated the Fourth Amendment, and the subsequent seizure of distilling materials from inside the home was unconstitutional); Jones v. United States, 357 U.S. 493, 78 S. Ct. 1253 (1958) (holding that the nighttime seizure of distilling materials from a home was unconstitutional because law enforcement did not have a search warrant justifying entry into the home); McDonald v. United States, 335 U.S. 451, 69 S. Ct. 191 (1948) (holding that officers who had been watching the defendant for two months committed an unconstitutional search when they climbed through a window and peered through a transom to see if he was running an illegal gambling operation); Trupiano v. United States, 334 U.S. 699, 68 S. Ct. 1229 (1948) (holding that a warrantless planned raid on a distillery was unconstitutional), overruled in part by United States v. Rabinowitz, 339 U.S. 56, 66, 70 S. Ct. 430, 435 (1950); Johnson v. United States, 333 U.S. 10, 68 S. Ct. 367 (1948) (hoiding that officers who entered a hotel room without a search warrant based on the perceived smell of opium could not justify the arrest of the occupant); Taylor v. United States, 286 U.S. 1, 52 S. Ct. 466 (1932) (holding that law enforcement officers who used a flashlight to peer into a garage, then broke into the garage to open cardboard boxes suspected of containing whisky, effectuated an unconstitutional search, and the subsequent seizure was also unconstitutional)). Our precedent similarly takes this point of view. State v. Bone, 354 N.C. 1, 8, 550 S.E.2d 482, 487 (2001) (“In North Carolina, a seizure is lawful under [the plain view] doctrine when the officer was in a place he or she had a right to be at the time the evidence was discovered, it is immediately obvious that the items observed are evidence of a crime, and the discovery is inadvertent.”), cert. denied, 535 U.S. 940, 122 S. Ct. 1323 (2002); State v. Hoffman, 281 N.C. 727, 736-37, 190 S.E.2d 842, 849 (1972) (“Being lawfully in defendant’s residence, the officers could examine and, without a warrant, seize ‘suspicious objects in plain sight’ .... If the officers’ presence was lawful, the observation and seizure of what was then and there apparent could not in itself be unlawful.”) (alteration in original) (citations and internal quotation marks omitted).\\nDefendant places special emphasis on the fact that the plants were on the “curtilage” of the property. The curtilage is the area “ ‘immediately surrounding and associated with the home.’ ” Jardines,_U.S. at_, 133 S. Ct. at 1414 (quoting Oliver v. United States, 466 U.S. 170, 180, 104 S. Ct. 1735, 1742 (1984)). In a non-Fourth Amendment case, we have said “the curtilage of the home will ordinarily be construed to include at least the yard around the dwelling house as well as the area occupied by bams, cribs, and other outbuildings.” State v. Frizzelle, 243 N.C. 49, 51, 89 S.E.2d 725, 726 (1955) (citations omitted). The curtilage does enjoy some measure of Fourth Amendment protection, Jardines,_U.S. at_, 133 S. Ct. at 1414, because it is “intimately linked to the home, both physically and psychologically,” Ciraolo, 476 U.S. at 213, 106 S. Ct. at 1812. As such, it serves as the buffer between the intimate activities of the home and the prying eyes of the outside world. But, law enforcement is not required to turn a blind eye to contraband or otherwise incriminating materials left out in the open on the curtilage. Ciraolo, 476 U.S. at 213, 106 S. Ct. at 1812. Neither is law enforcement absolutely prohibited from crossing the curtilage and approaching the home, based on our society’s recognition that “the knocker on the front door is treated as an invitation or license to attempt an entry, justifying ingress to the home by solicitors, hawkers and peddlers . . . .” Jardines, _U.S. at_, 133 S. Ct. at 1416 (citation and internal quotation marks omitted).\\nAs a buffer, the curtilage protects privacy interests and prevents unreasonable searches on the curtilage. See generally Jardines,_ U.S._, 133 S. Ct. 1409; United States v. Dunn, 480 U.S. 294, 107 S. Ct. 1134 (1987). Whether the curtilage enjoys coextensive protection against unreasonable seizures is less clear. We do know, however, that constitutionally protected property interests exist on a spectrum. On one end of the spectrum, we have the home, which is protected by the highest constitutional threshold and thus may only be breached in specific, narrow circumstances. On the other end, we have open fields, which even though they may be private property may be reasonably traversed by law enforcement under the Fourth Amendment. Oliver, 466 U.S. at 176-77, 104 S. Ct. at 1740. Curtilage falls somewhere in between. The protection afforded the curtilage, at least in the context of violations of privacy, is determined by looking at several factors: “the proximity of the area claimed to be curtilage to the home, whether the area is included within an enclosure surrounding the home, the nature of the uses to which the area is put, and the steps taken by the resident to protect the area from observation by people passing by.” Dunn, 480 U.S. at 301, 107 S. Ct. at 1139 (citations omitted). These considerations are important not because they will “yield[ ] a ‘correct’ answer to all extent-of-curtilage questions. . . . [but because] they bear upon the centrally relevant consideration — whether the area in question is so intimately tied to the home itself that it should be placed under the home’s ‘umbrella’ of Fourth Amendment protection.” Id. at 301, 107 S. Ct. at 1139-40.\\nBorrowing these considerations for our analysis today, we conclude that the unfenced portion of the property fifteen yards from the home and bordering a wood line is closertin kind to an open field than it is to the paradigmatic curtilage which protects “the privacies of life” inside the home. Oliver, 466 U.S. at 180, 104 S. Ct. at 1742 (citation and internal quotation marks omitted). However, even if the property at issue can be considered the curtilage of the home for Fourth Amendment purposes, we disagree with defendant’s claim that a justified presence in one portion of the curtilage (the driveway and front porch) does not extend to justify recovery of contraband in plain view located in another portion of the curtilage (the side yard). By analogy, it is difficult to imagine what formulation of the Fourth Amendment would prohibit the officers from seizing the contraband if the plants had been growing on the porch — the paradigmatic cur tilage — rather than at a distance, particularly when the officers’ initial presence on the curtilage was justified. The plants in question were situated on the periphery of the curtilage, and the protections cannot be greater than if the plants were growing on the porch itself. The officers in this case were, by the custom and tradition of our society, implicitly invited into the curtilage to approach the home. Traveling within the curtilage to seize contraband in plain view within the curtilage did not violate the Fourth Amendment.\\nOur decision in State v. Harvey, 281 N.C. 1, 187 S.E.2d 706 (1972), is illustrative of this principle. In that case, a deputy arrived at the defendant’s home to arrest the defendant. The officer saw the defendant standing in the doorway of the utility room, so the officer approached that doorway. From the doorway, the officer saw marijuana seeds on the top of a deep freezer inside the room. The defendant met the officer at the doorway and was arrested. The officer proceeded to enter the room and seize the marijuana seeds. This Court held the officer “was legally on the premises, and no search was required to discover the contraband material.” Id. at 12, 187 S.E.2d at 713. We allowed the plain view observance of contraband from the doorway of a home to justify entry into the home. The intrusion in this case is far less invasive than entry into the home.\\nWhatever special protection the curtilage enjoys against warrant-less seizures, that protection does not support the creation of a rule that law enforcement is automatically prohibited from crossing from one lawfully arrived at portion of the curtilage to another portion of the curtilage to retrieve inadvertently discovered contraband in plain view. This is particularly true when, as here, the contraband nature of the seized items was immediately apparent, because “any interest in possessing contraband cannot be deemed legitimate.” Illinois v. Caballes, 543 U.S. 405, 408, 125 S. Ct. 834, 837 (2005) (citation and internal quotation marks omitted).\\nBecause the fact that the plants were on the curtilage alone is insufficient to hold that the officers violated the Fourth Amendment in seizing the plants, we perform the Fourth Amendment’s reasonableness inquiry to conclude our evaluation of the constitutionality of the officers’ actions in this case. United States v. Jacobsen, 466 U.S. 109, 124, 104 S. Ct. 1652, 1662 (1984). In this inquiry, “ ‘[w]e must balance the nature and quality of the intrusion on the individual’s Fourth Amendment interests against the importance of the governmental interests alleged to justify the intrusion.’ ” Id. at 125, 104 S. Ct. at 1662 (alteration in original) (citation omitted). “This rule merely reflects an application of the Fourth Amendment’s central requirement of reasonableness to the law governing seizures of property.” Brown, 460 U.S. at 739, 103 S. Ct. at 1542 (emphasis added). The State has a legitimate interest in seizing contraband, and the nature of the intrusion in this case was minimal. The officers were at the home in daylight; the contraband nature of the plants was readily apparent; the officers took only the plants, leaving behind the buckets and caretaking implements surrounding them; and the officers left immediately after seizing the plants. The officers did not cross or open any fence or barrier, nor did they use the sighting of the plants as an excuse to conduct a general search of the rest of the property. In other words, they did not travel outside the category of property covered by the initial invitation to enter the curtilage. Under these circumstances, the warrantless seizure of clearly identifiable contraband left in plain view of defendant’s driveway was not unreasonable and the motion to suppress was properly denied.\\nMoreover, contrary to the concern raised by the Court of Appeals, this holding does not mean that knock and talk investigations may be used as a pretense to seize contraband in a home’s curtilage. The limiting principle is what it has always been: law enforcement must have “ ‘some other legitimate reason for being present unconnected with a search directed against the accused.’ ” Horton, 496 U.S. at 136, 110 S. Ct. at 2307 (citation omitted). The implicit license enjoyed by law enforcement and citizens alike to approach the front doors of homes may be limited or rescinded by clear demonstrations by the homeowners and is already limited by our social customs. See Jardines,_U.S. at_, 133 S. Ct. at 1415-16. If law enforcement officers attempt to use an unreasonable warrantless search to justify a subsequent seizure, their argument will fail. Horton, 496 U.S. at 136, 110 S. Ct. at 2307-08. But as the officers here did not perform an unconstitutional search and had a legitimate reason to be in the driveway, from which they saw the marijuana plants left in plain view, they lawfully seized those plants.\\nFurthermore, the seizure was also justified by exigent circumstances. Defendant points to the fact that the officers’ testimony at trial did not cite any exigencies that steered their decision to seize the marijuana before obtaining a warrant. They seized the plants because their captain told them to. But the Supreme Court “has long taken the view that ‘evenhanded law enforcement is best achieved by the application of objective standards of conduct, rather than standards that depend upon the subjective state of mind of the officer.’ ” Kentucky v. King, _U.S. _, _, 131 S. Ct. 1849, 1859 (2011) (citation omitted); accord State v. Barnard, 362 N.C. 244, 248, 658 S.E.2d 643, 645-46 (Constitutionality “depends on the objective facts, not the officer’s subjective motivation.”) (citations omitted), cert. denied, 555 U.S. 914, 129 S. Ct. 264 (2008). Accordingly, we look at the whole record to determine if there were factors reasonably supporting the immediate seizure of the plants.\\nFactors long used to justify warrantless seizures have included the belief that contraband will be removed or destroyed, the possible danger to police guarding the site, and the ready destructibility of the contraband. United States v. Turner, 650 F.2d 526, 528 (4th Cir. 1981) (citing United States v. Rubin, 474 F.2d 262, 268-69 (3d Cir.) (cataloguing various exigent circumstances recognized by other circuit courts), cert. denied, 414 U.S. 833, 94 S. Ct. 173 (1973)); see generally Coolidge v. New Hampshire, 403 U.S. 443, 91 S. Ct. 2022 (1971), abrogated in part by Horton, 496 U.S. 128, 110 S. Ct. 2301. The Supreme Court has stressed the importance of “balancing] the privacy-related and law enforcement-related concerns to determine if the intrusion was reasonable.” Illinois v. McArthur, 531 U.S. 326, 331, 121 S. Ct. 946, 950 (2001) (citations omitted). This analysis led the Supreme Court to approve a warrantless seizure that was tailored to the immediate governmental need because the search was “limited in time and scope and avoid[ed] significant intrusion into the home itself.” Id. (citations omitted). Similarly, there was no physical intrusion into the home in this case. The officers removed the three plants and the three plants alone, leaving behind the buckets in which they had been planted and the various caretaking implements surrounding them. The plants were small and easily transportable, and there was a passenger vehicle in the driveway. The fact that no one came to the door does not establish that no one was at home, but simply that no one was willing to answer the door. A reasonable officer might believe that the presence of the vehicle and the two dogs roaming the unfenced yard indicated that someone was at home and simply remaining inside. Leaving an officer behind to secure the yard while the other officer went to get a warrant, as suggested by defendant, could have exposed that remaining officer to unknown danger. Moreover, “[faulting the police for failing to apply for a search warrant at the earliest possible time after obtaining probable cause imposes a duty that is nowhere to be found in the Constitution.” King,_U.S. at_, 131 S. Ct. at 1861. Reviewing the record, it is objectively reasonable to conclude that someone may have been home, that the individual would have been aware of the officers’ presence, and that the individual could easily have moved or destroyed the plants if they were left on the property. Under these facts, we find no reason to disturb the trial court’s finding that “this seizure was to prevent [the plants’] destruction,” and conclude that exigent circumstances justified the seizure.\\nFinally, as acknowledged in his brief, defendant failed to object to the introduction of the challenged evidence at trial. Therefore, we review the trial court’s evidentiary determination for plain error. See N.C. R. App. P. 10(a)(4); see also State v. Lawrence, 365 N.C. 506, 723 S.E.2d 326 (2012). Under the plain error standard, defendant cannot show that admission of the challenged evidence amounted to plain error.\\nPlain error requires that “a defendant must demonstrate that a fundamental error occurred at trial. To show that an error was fundamental, a defendant must establish prejudice — that, after examination of the entire record, the error ‘had a probable impact on the jury’s finding that the defendant was guilty.’ ” Lawrence, 365 N.C. at 518, 723 S.E.2d at 334 (internal citations omitted). We also stated, “plain error is to be ‘applied cautiously and only in the exceptional case.’ ” Id. at 518, 723 S.E.2d at 334 (quoting State v. Odom, 307 N.C. 655, 660, 300 S.E.2d 375, 378 (1983)). In order to ensure plain error is reserved for the exceptional case, we stressed that plain error requires a defendant to show that the prejudicial error was one that “seriously affect[ed] the fairness, integrity, or public reputation of judicial proceedings.” Id. at 519, 723 S.E.2d at 335. When plain error analysis fails to adequately account for this element, plain error may become indistinguishable from the less stringent harmless error standard.\\nEven if it was error to deny the motion to suppress, it was not an error that seriously affected the fairness, integrity, or public reputation of judicial proceedings. Here, the trial court allowed evidence that defendant left three marijuana plants outside in his yard for any member of the public to see. Defendant acknowledges that the plants were his. The inclusion of this evidence is not the “exceptional case” that justifies finding plain error. Id. at 518, 723 S.E.2d at 334. Accordingly, we reverse the decision of the Court of Appeals.\\nDefendant chose to grow marijuana in his yard, plainly visible to any visitors to his home. The law enforcement officers who visited defendant’s home carefully limited the scope of their intrusion and their seizure was justified under the plain view doctrine and supported by exigent circumstances. Because defendant failed to specifically object at trial to the introduction of the plants, the plain error doctrine provides yet another reason for our decision. Therefore, we reverse the decision of the Court of Appeals.\\nREVERSED.\\nJustice ERVIN did not participate in the consideration or decision of this case.\\n. We decline the dissent’s invitation to adopt the “pre-intrusion” framework invoked by the Florida Supreme Court over thirty years ago. See post at 767 (citing Ensor v. State, 403 So. 2d 349 (Fla. 1981), superseded on other grounds by statute, Fla. Stat. § 790.25(5) (Supp. 1982)). To the extent the dissent finds that case persuasive, we think these facts are the quintessential example of a “ ‘prior valid intrusion,’ ” when “an officer is legally inside, by warrant or warrant exception, a constitutionally protected area and inadvertently observes contraband also in the protected area.” Ensor, 403 So. 2d at 352. Here, the detectives were legally inside the curtilage, a constitutionally protected area, performing a knock and talk investigation when they inadvertently observed contraband also in the protected area.'"
      ]
     },
     "execution_count": 19,
     "metadata": {},
     "output_type": "execute_result"
    }
   ],
   "source": [
    "data_f[data_f.id==4317084]['casebody.data.opinions.text0'].iloc[0]"
   ]
  },
  {
   "cell_type": "code",
   "execution_count": 20,
   "metadata": {},
   "outputs": [
    {
     "name": "stdout",
     "output_type": "stream",
     "text": [
      "Series([], dtype: float64)\n"
     ]
    }
   ],
   "source": [
    "print(data_f[data_f.id==11270334]['casebody.data.opinions'].str.split('.', expand=True).stack())"
   ]
  },
  {
   "cell_type": "code",
   "execution_count": 21,
   "metadata": {},
   "outputs": [
    {
     "name": "stdout",
     "output_type": "stream",
     "text": [
      "8310  0                                              13roWN, J\n",
      "      1      \\nTbe plaintiff’s evidence tends to prove that...\n",
      "      2       Tbe evidence tends to prove that tbe engineer...\n",
      "      3               ”\\nITis Honor submitted these issues:\\n1\n",
      "      4       Hid defendant’s engineer, fireman or servants...\n",
      "                                   ...                        \n",
      "      174     But it is admitted there is no such evidence ...\n",
      "      175     The entire evidence shows that it was the pur...\n",
      "      176     While reasons of public policy may hold the m...\n",
      "      177    \\nFor the reasons given, I think there should ...\n",
      "      178                                                     \n",
      "Length: 179, dtype: object\n"
     ]
    }
   ],
   "source": [
    "print(data_f[data_f.id==11270334]['casebody.data.opinions.text0'].str.split('.', expand=True).stack())"
   ]
  },
  {
   "cell_type": "code",
   "execution_count": 22,
   "metadata": {},
   "outputs": [
    {
     "name": "stdout",
     "output_type": "stream",
     "text": [
      "8310  0                                               Qlaek, O\n",
      "      1                                                      J\n",
      "      2      ,\\nconcurring, in part: I concur in the opinio...\n",
      "      3       Juskice Brown that, when the whistle is Hoavu...\n",
      "      4                                            \\nIn Dunn v\n",
      "                                   ...                        \n",
      "      434     engineer and other employees was wanton and w...\n",
      "      435     There was no evidence of contributory neglige...\n",
      "      436    \\nIt is true that this is not a public service...\n",
      "      437     The public is entitled to use its public road...\n",
      "      438                                                     \n",
      "Length: 439, dtype: object\n"
     ]
    }
   ],
   "source": [
    "print(data_f[data_f.id==11270334]['casebody.data.opinions.text1'].str.split('.', expand=True).stack())"
   ]
  },
  {
   "cell_type": "code",
   "execution_count": 42,
   "metadata": {},
   "outputs": [
    {
     "data": {
      "text/plain": [
       "['0        A majority of the court, therefore, being of t...\\n1        PER CURIAM.\\\\nIf the sheriff or marshal seizes ...\\n2        MARSHALL.',\n",
       " 'Circuit Justice.\\\\nThe Fortuna, a ves...\\n3        Walker, J.\\\\nThe grievance alleged by the plain...\\n4        Hoke, J.\\\\nOn the hearing it appeared that C. G...\\n                               ...                        \\n97595    PER CURIAM.\\\\nJustice EDMUNDS took no part in t...\\n97596    HUDSON, Justice.\\\\nHere we are asked to determi...\\n97597    1.',\n",
       " 'State’s Motion for Temporary Stay (COA14-41...\\n97598    1.',\n",
       " 'State’s Motion for Temporary Stay (COA15-15...\\n97599    ORDER\\\\nThis matter is before this Court on def...\\nName: casebody.data.opinions.text0, Length: 97600, dtype: object']"
      ]
     },
     "execution_count": 42,
     "metadata": {},
     "output_type": "execute_result"
    }
   ],
   "source": [
    "#import nltk.data\n",
    "#nltk.download('punkt')\n",
    "tokenizer = nltk.data.load('tokenizers/punkt/english.pickle')\n",
    "sentences = tokenizer.tokenize(str(data_f['casebody.data.opinions.text0']))\n",
    "#from nltk import sent_tokenize\n",
    "#sentences = sent_tokenize(str(data_f[data_f.id==11270334]['casebody.data.opinions.text0']))\n",
    "sentences"
   ]
  },
  {
   "cell_type": "code",
   "execution_count": 49,
   "metadata": {},
   "outputs": [],
   "source": [
    "data_f['casebody.data.opinions.text0'].replace('\\n', ' ', regex=True, inplace=True)\n",
    "data_f['casebody.data.opinions.text1'].replace('\\n', ' ', regex=True, inplace=True)\n",
    "data_f['casebody.data.opinions.text2'].replace('\\n', ' ', regex=True, inplace=True)\n",
    "data_f['casebody.data.opinions.text3'].replace('\\n', ' ', regex=True, inplace=True)\n",
    "data_f['casebody.data.opinions.text4'].replace('\\n', ' ', regex=True, inplace=True)\n",
    "data_f['casebody.data.opinions.text5'].replace('\\n', ' ', regex=True, inplace=True)"
   ]
  },
  {
   "cell_type": "code",
   "execution_count": null,
   "metadata": {},
   "outputs": [],
   "source": [
    "text0_sentence = data_f['casebody.data.opinions.text0'].str.split('. ', expand=True).stack()\n",
    "text1_sentence = data_f['casebody.data.opinions.text1'].str.split('. ', expand=True).stack()\n",
    "text2_sentence = data_f['casebody.data.opinions.text2'].str.split('. ', expand=True).stack()\n",
    "text3_sentence = data_f['casebody.data.opinions.text3'].str.split('. ', expand=True).stack()\n",
    "text4_sentence = data_f['casebody.data.opinions.text4'].str.split('. ', expand=True).stack()\n",
    "text5_sentence = data_f['casebody.data.opinions.text5'].str.split('. ', expand=True).stack()\n",
    "\n",
    "text0_sentence"
   ]
  },
  {
   "cell_type": "code",
   "execution_count": null,
   "metadata": {},
   "outputs": [],
   "source": [
    "text0_i = text0_sentence.index.get_level_values(0)\n",
    "text1_i = text1_sentence.index.get_level_values(0)\n",
    "text2_i = text2_sentence.index.get_level_values(0)\n",
    "text3_i = text3_sentence.index.get_level_values(0)\n",
    "text4_i = text4_sentence.index.get_level_values(0)\n",
    "text5_i = text5_sentence.index.get_level_values(0)\n",
    "\n",
    "text0_i"
   ]
  },
  {
   "cell_type": "code",
   "execution_count": null,
   "metadata": {},
   "outputs": [],
   "source": [
    "data_text0_sentence = data_f.loc[text0_i].copy()\n",
    "data_text1_sentence = data_f.loc[text1_i].copy()\n",
    "data_text2_sentence = data_f.loc[text2_i].copy()\n",
    "data_text3_sentence = data_f.loc[text3_i].copy()\n",
    "data_text4_sentence = data_f.loc[text4_i].copy()\n",
    "data_text5_sentence = data_f.loc[text5_i].copy()\n",
    "\n",
    "data_text0_sentence"
   ]
  },
  {
   "cell_type": "code",
   "execution_count": null,
   "metadata": {},
   "outputs": [],
   "source": [
    "data_text0_sentence['casebody.data.opinions.sentence0'] = text0_sentence.values\n",
    "data_text1_sentence['casebody.data.opinions.sentence1'] = text1_sentence.values\n",
    "data_text2_sentence['casebody.data.opinions.sentence2'] = text2_sentence.values\n",
    "data_text3_sentence['casebody.data.opinions.sentence3'] = text3_sentence.values\n",
    "data_text4_sentence['casebody.data.opinions.sentence4'] = text4_sentence.values\n",
    "data_text5_sentence['casebody.data.opinions.sentence5'] = text5_sentence.values\n",
    "\n",
    "data_text0_sentence['casebody.data.opinions.sentence0']"
   ]
  },
  {
   "cell_type": "code",
   "execution_count": null,
   "metadata": {},
   "outputs": [],
   "source": [
    "data_text0_sentence.head()"
   ]
  },
  {
   "cell_type": "code",
   "execution_count": null,
   "metadata": {},
   "outputs": [],
   "source": [
    "data_text0_sentence[data_text0_sentence.id==4317084]"
   ]
  },
  {
   "cell_type": "code",
   "execution_count": null,
   "metadata": {},
   "outputs": [],
   "source": [
    "data_text0_sentence[data_text0_sentence.id==4317084]['casebody.data.opinions.sentence0']"
   ]
  },
  {
   "cell_type": "code",
   "execution_count": null,
   "metadata": {},
   "outputs": [],
   "source": [
    "data[data.id==4317084]['casebody.data.opinions'].iloc[0]"
   ]
  },
  {
   "cell_type": "code",
   "execution_count": null,
   "metadata": {},
   "outputs": [],
   "source": []
  }
 ],
 "metadata": {
  "kernelspec": {
   "display_name": "python3",
   "language": "python",
   "name": "python3"
  },
  "language_info": {
   "codemirror_mode": {
    "name": "ipython",
    "version": 3
   },
   "file_extension": ".py",
   "mimetype": "text/x-python",
   "name": "python",
   "nbconvert_exporter": "python",
   "pygments_lexer": "ipython3",
   "version": "3.7.4"
  }
 },
 "nbformat": 4,
 "nbformat_minor": 2
}
