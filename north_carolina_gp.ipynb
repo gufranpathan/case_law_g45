{
 "cells": [
  {
   "cell_type": "markdown",
   "metadata": {},
   "source": [
    "# <img style=\"float: left; padding-right: 10px; width: 45px\" src=\"https://raw.githubusercontent.com/Harvard-IACS/2018-CS109A/master/content/styles/iacs.png\"> CS109B Data Science 2: Advanced Topics in Data Science \n",
    "\n",
    "##  Final Project: Milestone 2 - Exploratory Data Analysis (EDA) [3 pts]\n",
    "\n",
    "\n",
    "**Harvard University**<br/>\n",
    "**Spring 2020**<br/>\n",
    "**Group Members**: Fernando Medeiros, Mohammed Gufran Pathan, and Prerna Aggarwal<br/>\n",
    "\n",
    "<hr style=\"height:2pt\">\n",
    "\n",
    "---"
   ]
  },
  {
   "cell_type": "code",
   "execution_count": 1,
   "metadata": {},
   "outputs": [
    {
     "data": {
      "text/html": [
       "<style>\n",
       "blockquote { background: #AEDE94; }\n",
       "h1 { \n",
       "    padding-top: 25px;\n",
       "    padding-bottom: 25px;\n",
       "    text-align: left; \n",
       "    padding-left: 10px;\n",
       "    background-color: #DDDDDD; \n",
       "    color: black;\n",
       "}\n",
       "h2 { \n",
       "    padding-top: 10px;\n",
       "    padding-bottom: 10px;\n",
       "    text-align: left; \n",
       "    padding-left: 5px;\n",
       "    background-color: #EEEEEE; \n",
       "    color: black;\n",
       "}\n",
       "\n",
       "div.exercise {\n",
       "\tbackground-color: #ffcccc;\n",
       "\tborder-color: #E9967A; \t\n",
       "\tborder-left: 5px solid #800080; \n",
       "\tpadding: 0.5em;\n",
       "}\n",
       "\n",
       "span.sub-q {\n",
       "\tfont-weight: bold;\n",
       "}\n",
       "div.theme {\n",
       "\tbackground-color: #DDDDDD;\n",
       "\tborder-color: #E9967A; \t\n",
       "\tborder-left: 5px solid #800080; \n",
       "\tpadding: 0.5em;\n",
       "\tfont-size: 18pt;\n",
       "}\n",
       "div.gc { \n",
       "\tbackground-color: #AEDE94;\n",
       "\tborder-color: #E9967A; \t \n",
       "\tborder-left: 5px solid #800080; \n",
       "\tpadding: 0.5em;\n",
       "\tfont-size: 12pt;\n",
       "}\n",
       "p.q1 { \n",
       "    padding-top: 5px;\n",
       "    padding-bottom: 5px;\n",
       "    text-align: left; \n",
       "    padding-left: 5px;\n",
       "    background-color: #EEEEEE; \n",
       "    color: black;\n",
       "}\n",
       "header {\n",
       "   padding-top: 35px;\n",
       "    padding-bottom: 35px;\n",
       "    text-align: left; \n",
       "    padding-left: 10px;\n",
       "    background-color: #DDDDDD; \n",
       "    color: black;\n",
       "}\n",
       "</style>\n",
       "\n"
      ],
      "text/plain": [
       "<IPython.core.display.HTML object>"
      ]
     },
     "execution_count": 1,
     "metadata": {},
     "output_type": "execute_result"
    }
   ],
   "source": [
    "#RUN THIS CELL \n",
    "import requests\n",
    "from IPython.core.display import HTML, display\n",
    "styles = requests.get(\"https://raw.githubusercontent.com/Harvard-IACS/2018-CS109A/master/content/styles/cs109.css\").text\n",
    "HTML(styles)"
   ]
  },
  {
   "cell_type": "markdown",
   "metadata": {},
   "source": [
    "### INSTRUCTIONS\n",
    "\n",
    "- To submit your assignment follow the instructions given in Canvas."
   ]
  },
  {
   "cell_type": "markdown",
   "metadata": {},
   "source": [
    "# Overview\n",
    "\n",
    "\n",
    "As part of your final project,  please perform exploratory data analysis (EDA) on the data you have received. In order to simulate the \"real world,\" the details of this are deliberately left open-ended, so your EDA should be what you consider the best for the domain you are working in and the specifics of the data. Please cite any references that you use when learning more about the topic of your project.\n",
    "\n",
    " \n",
    "\n",
    "## Key Questions: \n",
    "\n",
    "Given everything you have learned, if you faced this data set in the wild, how would you proceed? \n",
    "\n",
    "What are the important measures? \n",
    "\n",
    "What are the right questions to ask, and how can the data answer them?"
   ]
  },
  {
   "cell_type": "markdown",
   "metadata": {},
   "source": [
    "## List of EDAs\n",
    "1. Volume of cases by year (time trendline)\n",
    "1. Volume of cases by state\n",
    "1. Histogram of number cases authored by each judge\n",
    "1. Length of judgments (pages and word count)\n",
    "1. No. of cases with a minority opinion\n",
    "1. Bar graph of number of cases by court\n",
    "1. Size of vocabulary\n",
    "1. Most common words used\n",
    "1. Most common words used (excluding stop-words)"
   ]
  },
  {
   "cell_type": "code",
   "execution_count": 2,
   "metadata": {},
   "outputs": [],
   "source": [
    "import json\n",
    "import lzma\n",
    "import matplotlib.pyplot as plt\n",
    "import nltk\n",
    "import numpy as np\n",
    "import os\n",
    "import pandas as pd\n",
    "import seaborn as sns\n",
    "from collections import Counter\n",
    "from nltk.corpus import stopwords\n",
    "from nltk.probability import FreqDist\n",
    "from pandas.io.json import json_normalize"
   ]
  },
  {
   "cell_type": "code",
   "execution_count": 3,
   "metadata": {},
   "outputs": [
    {
     "name": "stdout",
     "output_type": "stream",
     "text": [
      "Flattening data for north_carolina.xz\n"
     ]
    }
   ],
   "source": [
    "base_path = \"./data/text\"\n",
    "state='north_carolina.xz'\n",
    "f = lzma.open(os.path.join(base_path,state),\"rb\")\n",
    "state_data = f.readlines()\n",
    "f.close()\n",
    "data_json = [json.loads(line) for line in state_data]\n",
    "print(f'Flattening data for {state}')\n",
    "data = json_normalize(data_json)"
   ]
  },
  {
   "cell_type": "code",
   "execution_count": 4,
   "metadata": {},
   "outputs": [
    {
     "data": {
      "text/plain": [
       "b'{\"id\": 11270825, \"url\": \"https://api.capapi.org/v1/cases/11270825/\", \"name\": \"HOWARD C. PARK v. W. P. EXUM et al.\", \"name_abbreviation\": \"Park v. Exum\", \"decision_date\": \"1911-10-11\", \"docket_number\": \"\", \"first_page\": \"228\", \"last_page\": \"232\", \"citations\": [{\"type\": \"official\", \"cite\": \"156 N.C. 228\"}], \"volume\": {\"volume_number\": \"156\", \"barcode\": \"32044057888380\", \"url\": \"https://api.capapi.org/v1/volumes/32044057888380/\"}, \"reporter\": {\"url\": \"https://api.capapi.org/v1/reporters/549/\", \"full_name\": \"North Carolina Reports\", \"id\": 549}, \"court\": {\"name\": \"Supreme Court of North Carolina\", \"id\": 9292, \"name_abbreviation\": \"N.C.\", \"url\": \"https://api.capapi.org/v1/courts/nc/\", \"slug\": \"nc\"}, \"jurisdiction\": {\"name_long\": \"North Carolina\", \"name\": \"N.C.\", \"whitelisted\": true, \"id\": 5, \"url\": \"https://api.capapi.org/v1/jurisdictions/nc/\", \"slug\": \"nc\"}, \"cites_to\": [], \"frontend_url\": \"https://cite.capapi.org/nc/156/228/\", \"preview\": [], \"casebody\": {\"status\": \"ok\", \"data\": \"<casebody firstpage=\\\\\"228\\\\\" lastpage=\\\\\"232\\\\\" xmlns=\\\\\"http://nrs.harvard.edu/urn-3:HLS.Libr.US_Case_Law.Schema.Case_Body:v1\\\\\">\\\\n  <parties id=\\\\\"b268-9\\\\\">HOWARD C. PARK v. W. P. EXUM et al.</parties>\\\\n  <decisiondate id=\\\\\"b268-10\\\\\">(Filed 11 October, 1911.)</decisiondate>\\\\n  <headnotes id=\\\\\"b268-11\\\\\">1. Negotiable Instruments \\\\u2014 Holder in Due Course.</headnotes>\\\\n  <headnotes id=\\\\\"b268-12\\\\\">In order to establish, the position of a holder in due course of a negotiable instrument so as to shut off counterclaims and defense otherwise available, it must be shown that the instrument is complete and regular on its face, and that title thereto was acquired in good faith, for value before maturity, without knowledge or notice of fraud or other impeaching circumstance; and, except when payable to bearer, the indorsement must be proved when it is denied.</headnotes>\\\\n  <headnotes id=\\\\\"b268-13\\\\\">2. Same \\\\u2014 Indorsement\\\\u2014Pleadings\\\\u2014Burden of Proof.</headnotes>\\\\n  <headnotes id=\\\\\"b268-14\\\\\">When, in an action upon a negotiable instrument claimed by the plaintiff as an indorsee for value, in due course, without notice of any infirmity of the instrument, the answer denies the validity of the indorsement, the burden is upon the plaintiff to show that the instrument had been indorsed and that otherwise he was a holder in due course, in order to shut off the defense arising on the testimony, that it was procured from the makers by fraud or deceit.</headnotes>\\\\n  <headnotes id=\\\\\"b269-5\\\\\"><page-number citation-index=\\\\\"1\\\\\" label=\\\\\"229\\\\\">*229</page-number>3. Same \\\\u2014 Evidence\\\\u2014Instruction\\\\u2014Expression of Opinion by the Court \\\\u2014 Appeal and Error.</headnotes>\\\\n  <headnotes id=\\\\\"b269-6\\\\\">Wlieu the validity of the indorsement of a negotiable instrument sued on. by the indorsee is denied by the answer, and the only evidence is that introduced by the plaintiff, which fully states the necessary matters to show that he is a holder in due course, it is correct for the judge to charge the jury to return a verdict for the plaintiff if they find the facts to be as testified to by him; but reversible error for the trial judge to remark in the presence of. the jury that if the verdict was for the defendant he would set it aside, for this is an expression of opinion upon the credibility of the evidence forbidden by statute.</headnotes>\\\\n  <summary id=\\\\\"b269-7\\\\\">Appeal from <em>Justice, J., </em>at January Special Term, 1911, of LENOIR.</summary>\\\\n  <summary id=\\\\\"b269-8\\\\\">Plaintiff sued, claiming to be indorsee for value and bolder in due course of a negotiable note for $500, given by defendants to McLaughlin Bros., in part obligation for purchase price of a stallion. The deposition of plaintiff was introduced, containing full and direct statement that plaintiff bought the note for full value and same was duly indorsed to him by the payees before maturity and without notice of any fraud or other infirmity affecting its validity. The indorsement was denied in the pleadings, and there were also allegations on the part of defendants to the effect that there was a breach of warranty on the part of McLaughlin Bros, in the sale, and further that the sale was procured by false and fraudulent representations on the part of the said vendors, to defendant\\\\u2019s damage. The jury, having been impaneled and evidence offered, at the close of the testimony the court intimated that he would charge the jury that if they found the facts to be as testified in the deposition, the plaintiff could recover, to which defendants then and there excepted. Counsel for defendant then stated to the court, \\\\u201cthat they took the position that there was sufficient evidence to be found in the testimony to go to the jury on the question as to whether the jury believed the evidence of the plaintiff in the action. The court stated he would not allow a verdict to stand in favor of the defendants,\\\\u2019\\\\u2019 this statement being made in the hearing of the jury, and defendants excepted.</summary>\\\\n  <summary id=\\\\\"b270-5\\\\\"><page-number citation-index=\\\\\"1\\\\\" label=\\\\\"230\\\\\">*230</page-number>There was verdict for plaintiff for full amount of the note and interest; judgment according to verdict, and defendant excepted and appealed, alleging errors.</summary>\\\\n  <attorneys id=\\\\\"b270-6\\\\\">\\\\n    <em>McLean, Parser &amp; McLean and Loftin &amp; Dawson for plaintiff.</em>\\\\n  </attorneys>\\\\n  <attorneys id=\\\\\"b270-7\\\\\">\\\\n    <em>Q. V. Gowper and T. G. Wooten for defendants.</em>\\\\n  </attorneys>\\\\n  <opinion type=\\\\\"majority\\\\\">\\\\n    <author id=\\\\\"b270-8\\\\\">Hoee, J.,</author>\\\\n    <p id=\\\\\"AOH\\\\\">after stating the case: Our statute on negotiable instruments, as applied and construed in several recent decisions of the Court, is to the effect that in order to establish the position of holder in due course, when required to shut off counterclaims and defenses otherwise available, it must be shown that the instrument is complete and regular on its face and that title thereto was acquired in good faith and for value before maturity and without knowledge or notice of fraud or other impeaching circumstance, and, except in case of instruments payable to bearer, when the indorsement is denied, the same must be proved. <em>Myers v. Petty, </em>153 N. C., 462; <em>Mayers v. </em>McRim<em>mon, </em>140 N. C., 640; <em>Tyson v. Joyner, </em>139 N. C., 69.</p>\\\\n    <p id=\\\\\"b270-9\\\\\">In the present case there was allegation, with evidence on the part of defendant, tending to show that there was a breach of warranty, in the sale, on the part of these vendors.</p>\\\\n    <p id=\\\\\"b270-10\\\\\">On a perusal of the entire testimony, we think there was evidence tending to show fraud and deceit on their part, inducing the sale and causing damage, under the principles stated in <em>Myers v. Petty, supra; Whitehurst v. Insurance Co., </em>149 N. C., 273; <em>May v. Loomis, </em>140 N. C., 350, and cases of like import. The instrument, too, was payable to order and the indorsement was denied in the pleadings, thus putting on plaintiff, in order to shut off the defenses arising on the testimony, the burden of showing that the instrument had been indorsed and that he was otherwise a holder in due course. True; the deposition of plaintiff, introduced on the trial, contains full and direct statement, tending to show that plaintiff was indorsee for value before maturity and in all respects a holder of the note in due course, and it may be that his Honor was right in intimating that he would charge the jury \\\\u201cthat if they found the facts to be as <page-number citation-index=\\\\\"1\\\\\" label=\\\\\"231\\\\\">*231</page-number>testified to in tbe deposition there should be a verdict in plaintiff\\\\u2019s favor; but in this and every other case, when proof is required to establish a determinative issue, the credibility of the evidence is for the jury, and they must be allowed to consider and pass upon it themselves. We\\'have so held in a case on this very subject, <em>Bank v. Fountain, </em>148 N. C., 590, and a new trial was granted in that case because the court erroneously invaded the province of the jury by telling them that \\\\u201cthe <em>prima facie </em>case of plaintiff had been restored by the uncontradicted evidence of the president of the bank, etc.\\\\u201d The opinion in question quotes with approval from <em>Bank v. Iron Works, </em>159 Mass., 158, as follows: \\\\u201cIn an action on a promissory note, which was defended on the ground that the note had been fraudulently put into circulation by the P. L. Co., a Massachusetts corporation, organized for the purpose of \\\\u2018doing a brokerage business in commercial paper, stocks, bonds, and other property,\\\\u2019 from whom the plaintiff company acquired it, the plaintiff\\\\u2019s officers testified that the note was taken by them in good faith and for value, before maturity, and the defendant introduced no testimony to contradict these officers: <em>Held, </em>that the defendant was entitled, nevertheless, to go to the jury on the question whether the plaintiff took the note for value and without notice of fraud.\\\\u201d</p>\\\\n    <p id=\\\\\"b271-6\\\\\">Under the conditions stated, therefore, with the controlling issue to be determined, and involving the credibility of plaintiff\\\\u2019s testimony, tending to establish it, his Honor had no. right to say in the hearing of the jury, \\\\u201cthat he would not allow a verdict to stand in favor of defendants.\\\\u201d The Court has been always swift to enforce obedience to our law which forbids a presiding judge to express an opinion on the disputed facts of a trial, and under numerous decisions construing the statute, we must hold this remark of his Honor, in the presence of the jury and before verdict, to be reversible error. <em>S. v. R. R., </em>149 N. C., 508; <em>Withers v. Lane, </em>144 N. C., 184; <em>S. v. Dixon, </em>75 N. C., 275; <em>Nash v. Morton, </em>48 N. C., 3. The expression objected to was undoubtedly an inadvertence. From a long, intimate, and much valued association with his Honor, when. <page-number citation-index=\\\\\"1\\\\\" label=\\\\\"232\\\\\">*232</page-number>we were at the bar together and from observation of his work as a judicial officer, the writer knows of a certainty that there is no man or judge who places higher estimate on the value of the trial by jury or holds deeper conviction that it should now and always be preserved in its fullest integrity. For the error indicated, defendant is entitled to a new trial, and \\'it is so ordered.</p>\\\\n    <p id=\\\\\"b272-6\\\\\">New trial.</p>\\\\n  </opinion>\\\\n</casebody>\\\\n\"}}\\n'"
      ]
     },
     "execution_count": 4,
     "metadata": {},
     "output_type": "execute_result"
    }
   ],
   "source": [
    "state_data[100]"
   ]
  },
  {
   "cell_type": "code",
   "execution_count": 5,
   "metadata": {},
   "outputs": [
    {
     "data": {
      "text/plain": [
       "(97600, 31)"
      ]
     },
     "execution_count": 5,
     "metadata": {},
     "output_type": "execute_result"
    }
   ],
   "source": [
    "data.shape"
   ]
  },
  {
   "cell_type": "code",
   "execution_count": 6,
   "metadata": {
    "scrolled": true
   },
   "outputs": [
    {
     "data": {
      "text/plain": [
       "Index(['id', 'url', 'name', 'name_abbreviation', 'decision_date',\n",
       "       'docket_number', 'first_page', 'last_page', 'citations', 'cites_to',\n",
       "       'frontend_url', 'preview', 'volume.volume_number', 'volume.barcode',\n",
       "       'volume.url', 'reporter.url', 'reporter.full_name', 'reporter.id',\n",
       "       'court.name', 'court.id', 'court.name_abbreviation', 'court.url',\n",
       "       'court.slug', 'jurisdiction.name_long', 'jurisdiction.name',\n",
       "       'jurisdiction.whitelisted', 'jurisdiction.id', 'jurisdiction.url',\n",
       "       'jurisdiction.slug', 'casebody.status', 'casebody.data'],\n",
       "      dtype='object')"
      ]
     },
     "execution_count": 6,
     "metadata": {},
     "output_type": "execute_result"
    }
   ],
   "source": [
    "data.columns"
   ]
  },
  {
   "cell_type": "code",
   "execution_count": 7,
   "metadata": {},
   "outputs": [],
   "source": [
    "data['decision_date_p'] = pd.to_datetime(data.decision_date,errors='coerce')\n",
    "data['decision_year'] = data.decision_date_p.dt.year"
   ]
  },
  {
   "cell_type": "code",
   "execution_count": 8,
   "metadata": {},
   "outputs": [],
   "source": [
    "year_summary = data.groupby('decision_year')['url'].count()"
   ]
  },
  {
   "cell_type": "code",
   "execution_count": 9,
   "metadata": {},
   "outputs": [
    {
     "data": {
      "image/png": "[encoded data removed]",
      "text/plain": [
       "<Figure size 432x288 with 1 Axes>"
      ]
     },
     "metadata": {
      "needs_background": "light"
     },
     "output_type": "display_data"
    }
   ],
   "source": [
    "year_summary.plot();"
   ]
  },
  {
   "cell_type": "code",
   "execution_count": 10,
   "metadata": {
    "scrolled": true
   },
   "outputs": [
    {
     "data": {
      "text/html": [
       "<div>\n",
       "<style scoped>\n",
       "    .dataframe tbody tr th:only-of-type {\n",
       "        vertical-align: middle;\n",
       "    }\n",
       "\n",
       "    .dataframe tbody tr th {\n",
       "        vertical-align: top;\n",
       "    }\n",
       "\n",
       "    .dataframe thead th {\n",
       "        text-align: right;\n",
       "    }\n",
       "</style>\n",
       "<table border=\"1\" class=\"dataframe\">\n",
       "  <thead>\n",
       "    <tr style=\"text-align: right;\">\n",
       "      <th></th>\n",
       "      <th>id</th>\n",
       "      <th>url</th>\n",
       "      <th>name</th>\n",
       "      <th>name_abbreviation</th>\n",
       "      <th>decision_date</th>\n",
       "      <th>docket_number</th>\n",
       "      <th>first_page</th>\n",
       "      <th>last_page</th>\n",
       "      <th>citations</th>\n",
       "      <th>cites_to</th>\n",
       "      <th>...</th>\n",
       "      <th>jurisdiction.name_long</th>\n",
       "      <th>jurisdiction.name</th>\n",
       "      <th>jurisdiction.whitelisted</th>\n",
       "      <th>jurisdiction.id</th>\n",
       "      <th>jurisdiction.url</th>\n",
       "      <th>jurisdiction.slug</th>\n",
       "      <th>casebody.status</th>\n",
       "      <th>casebody.data</th>\n",
       "      <th>decision_date_p</th>\n",
       "      <th>decision_year</th>\n",
       "    </tr>\n",
       "  </thead>\n",
       "  <tbody>\n",
       "    <tr>\n",
       "      <td>0</td>\n",
       "      <td>1268383</td>\n",
       "      <td>https://api.capapi.org/v1/cases/1268383/</td>\n",
       "      <td>The State vs. John Owen</td>\n",
       "      <td>State v. Owen</td>\n",
       "      <td>1810-07</td>\n",
       "      <td></td>\n",
       "      <td>260</td>\n",
       "      <td>262</td>\n",
       "      <td>[{'type': 'official', 'cite': '2 Wheel. Cr. Ca...</td>\n",
       "      <td>[]</td>\n",
       "      <td>...</td>\n",
       "      <td>North Carolina</td>\n",
       "      <td>N.C.</td>\n",
       "      <td>True</td>\n",
       "      <td>5</td>\n",
       "      <td>https://api.capapi.org/v1/jurisdictions/nc/</td>\n",
       "      <td>nc</td>\n",
       "      <td>ok</td>\n",
       "      <td>&lt;casebody firstpage=\"260\" lastpage=\"262\" xmlns...</td>\n",
       "      <td>1810-07-01</td>\n",
       "      <td>1810.0</td>\n",
       "    </tr>\n",
       "    <tr>\n",
       "      <td>1</td>\n",
       "      <td>11956941</td>\n",
       "      <td>https://api.capapi.org/v1/cases/11956941/</td>\n",
       "      <td>DUNLOP et al. v. WEST</td>\n",
       "      <td>Dunlop v. West</td>\n",
       "      <td>1805</td>\n",
       "      <td>Case No. 4,170</td>\n",
       "      <td>93</td>\n",
       "      <td>93</td>\n",
       "      <td>[{'type': 'official', 'cite': '8 F. Cas. 93'},...</td>\n",
       "      <td>[{'cite': '2 Hayw. N. C. 346'}]</td>\n",
       "      <td>...</td>\n",
       "      <td>North Carolina</td>\n",
       "      <td>N.C.</td>\n",
       "      <td>True</td>\n",
       "      <td>5</td>\n",
       "      <td>https://api.capapi.org/v1/jurisdictions/nc/</td>\n",
       "      <td>nc</td>\n",
       "      <td>ok</td>\n",
       "      <td>&lt;casebody firstpage=\"93\" lastpage=\"93\" xmlns=\"...</td>\n",
       "      <td>1805-01-01</td>\n",
       "      <td>1805.0</td>\n",
       "    </tr>\n",
       "    <tr>\n",
       "      <td>2</td>\n",
       "      <td>11645357</td>\n",
       "      <td>https://api.capapi.org/v1/cases/11645357/</td>\n",
       "      <td>The FORTUNA</td>\n",
       "      <td>The Fortuna</td>\n",
       "      <td>1815</td>\n",
       "      <td>Case No. 4,954</td>\n",
       "      <td>494</td>\n",
       "      <td>500</td>\n",
       "      <td>[{'type': 'official', 'cite': '9 F. Cas. 494'}...</td>\n",
       "      <td>[{'cite': '1 Brock. 299'}, {'cite': '3 Wheat. ...</td>\n",
       "      <td>...</td>\n",
       "      <td>North Carolina</td>\n",
       "      <td>N.C.</td>\n",
       "      <td>True</td>\n",
       "      <td>5</td>\n",
       "      <td>https://api.capapi.org/v1/jurisdictions/nc/</td>\n",
       "      <td>nc</td>\n",
       "      <td>ok</td>\n",
       "      <td>&lt;casebody firstpage=\"494\" lastpage=\"500\" xmlns...</td>\n",
       "      <td>1815-01-01</td>\n",
       "      <td>1815.0</td>\n",
       "    </tr>\n",
       "    <tr>\n",
       "      <td>3</td>\n",
       "      <td>11272108</td>\n",
       "      <td>https://api.capapi.org/v1/cases/11272108/</td>\n",
       "      <td>D. K. FUTCH v. ATLANTIC COAST LINE RAILROAD CO...</td>\n",
       "      <td>Futch v. Atlantic Coast Line Railroad</td>\n",
       "      <td>1919-10-15</td>\n",
       "      <td></td>\n",
       "      <td>282</td>\n",
       "      <td>284</td>\n",
       "      <td>[{'type': 'official', 'cite': '178 N.C. 282'}]</td>\n",
       "      <td>[]</td>\n",
       "      <td>...</td>\n",
       "      <td>North Carolina</td>\n",
       "      <td>N.C.</td>\n",
       "      <td>True</td>\n",
       "      <td>5</td>\n",
       "      <td>https://api.capapi.org/v1/jurisdictions/nc/</td>\n",
       "      <td>nc</td>\n",
       "      <td>ok</td>\n",
       "      <td>&lt;casebody firstpage=\"282\" lastpage=\"284\" xmlns...</td>\n",
       "      <td>1919-10-15</td>\n",
       "      <td>1919.0</td>\n",
       "    </tr>\n",
       "    <tr>\n",
       "      <td>4</td>\n",
       "      <td>11273534</td>\n",
       "      <td>https://api.capapi.org/v1/cases/11273534/</td>\n",
       "      <td>MRS. SUSANNA WILLIAMS v. C. G. BAILEY, B. R. B...</td>\n",
       "      <td>Williams v. Bailey</td>\n",
       "      <td>1919-12-03</td>\n",
       "      <td></td>\n",
       "      <td>630</td>\n",
       "      <td>633</td>\n",
       "      <td>[{'type': 'official', 'cite': '178 N.C. 630'}]</td>\n",
       "      <td>[]</td>\n",
       "      <td>...</td>\n",
       "      <td>North Carolina</td>\n",
       "      <td>N.C.</td>\n",
       "      <td>True</td>\n",
       "      <td>5</td>\n",
       "      <td>https://api.capapi.org/v1/jurisdictions/nc/</td>\n",
       "      <td>nc</td>\n",
       "      <td>ok</td>\n",
       "      <td>&lt;casebody firstpage=\"630\" lastpage=\"633\" xmlns...</td>\n",
       "      <td>1919-12-03</td>\n",
       "      <td>1919.0</td>\n",
       "    </tr>\n",
       "  </tbody>\n",
       "</table>\n",
       "<p>5 rows × 33 columns</p>\n",
       "</div>"
      ],
      "text/plain": [
       "         id                                        url  \\\n",
       "0   1268383   https://api.capapi.org/v1/cases/1268383/   \n",
       "1  11956941  https://api.capapi.org/v1/cases/11956941/   \n",
       "2  11645357  https://api.capapi.org/v1/cases/11645357/   \n",
       "3  11272108  https://api.capapi.org/v1/cases/11272108/   \n",
       "4  11273534  https://api.capapi.org/v1/cases/11273534/   \n",
       "\n",
       "                                                name  \\\n",
       "0                            The State vs. John Owen   \n",
       "1                              DUNLOP et al. v. WEST   \n",
       "2                                        The FORTUNA   \n",
       "3  D. K. FUTCH v. ATLANTIC COAST LINE RAILROAD CO...   \n",
       "4  MRS. SUSANNA WILLIAMS v. C. G. BAILEY, B. R. B...   \n",
       "\n",
       "                       name_abbreviation decision_date   docket_number  \\\n",
       "0                          State v. Owen       1810-07                   \n",
       "1                         Dunlop v. West          1805  Case No. 4,170   \n",
       "2                            The Fortuna          1815  Case No. 4,954   \n",
       "3  Futch v. Atlantic Coast Line Railroad    1919-10-15                   \n",
       "4                     Williams v. Bailey    1919-12-03                   \n",
       "\n",
       "  first_page last_page                                          citations  \\\n",
       "0        260       262  [{'type': 'official', 'cite': '2 Wheel. Cr. Ca...   \n",
       "1         93        93  [{'type': 'official', 'cite': '8 F. Cas. 93'},...   \n",
       "2        494       500  [{'type': 'official', 'cite': '9 F. Cas. 494'}...   \n",
       "3        282       284     [{'type': 'official', 'cite': '178 N.C. 282'}]   \n",
       "4        630       633     [{'type': 'official', 'cite': '178 N.C. 630'}]   \n",
       "\n",
       "                                            cites_to  ...  \\\n",
       "0                                                 []  ...   \n",
       "1                    [{'cite': '2 Hayw. N. C. 346'}]  ...   \n",
       "2  [{'cite': '1 Brock. 299'}, {'cite': '3 Wheat. ...  ...   \n",
       "3                                                 []  ...   \n",
       "4                                                 []  ...   \n",
       "\n",
       "  jurisdiction.name_long jurisdiction.name jurisdiction.whitelisted  \\\n",
       "0         North Carolina              N.C.                     True   \n",
       "1         North Carolina              N.C.                     True   \n",
       "2         North Carolina              N.C.                     True   \n",
       "3         North Carolina              N.C.                     True   \n",
       "4         North Carolina              N.C.                     True   \n",
       "\n",
       "  jurisdiction.id                             jurisdiction.url  \\\n",
       "0               5  https://api.capapi.org/v1/jurisdictions/nc/   \n",
       "1               5  https://api.capapi.org/v1/jurisdictions/nc/   \n",
       "2               5  https://api.capapi.org/v1/jurisdictions/nc/   \n",
       "3               5  https://api.capapi.org/v1/jurisdictions/nc/   \n",
       "4               5  https://api.capapi.org/v1/jurisdictions/nc/   \n",
       "\n",
       "  jurisdiction.slug casebody.status  \\\n",
       "0                nc              ok   \n",
       "1                nc              ok   \n",
       "2                nc              ok   \n",
       "3                nc              ok   \n",
       "4                nc              ok   \n",
       "\n",
       "                                       casebody.data decision_date_p  \\\n",
       "0  <casebody firstpage=\"260\" lastpage=\"262\" xmlns...      1810-07-01   \n",
       "1  <casebody firstpage=\"93\" lastpage=\"93\" xmlns=\"...      1805-01-01   \n",
       "2  <casebody firstpage=\"494\" lastpage=\"500\" xmlns...      1815-01-01   \n",
       "3  <casebody firstpage=\"282\" lastpage=\"284\" xmlns...      1919-10-15   \n",
       "4  <casebody firstpage=\"630\" lastpage=\"633\" xmlns...      1919-12-03   \n",
       "\n",
       "   decision_year  \n",
       "0         1810.0  \n",
       "1         1805.0  \n",
       "2         1815.0  \n",
       "3         1919.0  \n",
       "4         1919.0  \n",
       "\n",
       "[5 rows x 33 columns]"
      ]
     },
     "execution_count": 10,
     "metadata": {},
     "output_type": "execute_result"
    }
   ],
   "source": [
    "data.head()"
   ]
  },
  {
   "cell_type": "code",
   "execution_count": 11,
   "metadata": {
    "scrolled": true
   },
   "outputs": [
    {
     "data": {
      "text/plain": [
       "{'id': 11252160,\n",
       " 'url': 'https://api.capapi.org/v1/cases/11252160/',\n",
       " 'name': 'MISSOURI WHITE v. NORFOLK SOUTHERN RAILWAY COMPANY',\n",
       " 'name_abbreviation': 'White v. Norfolk Southern Railway Co.',\n",
       " 'decision_date': '1916-09-13',\n",
       " 'docket_number': '',\n",
       " 'first_page': '31',\n",
       " 'last_page': '32',\n",
       " 'citations': [{'type': 'official', 'cite': '172 N.C. 31'}],\n",
       " 'volume': {'volume_number': '172',\n",
       "  'barcode': '32044057894677',\n",
       "  'url': 'https://api.capapi.org/v1/volumes/32044057894677/'},\n",
       " 'reporter': {'url': 'https://api.capapi.org/v1/reporters/549/',\n",
       "  'full_name': 'North Carolina Reports',\n",
       "  'id': 549},\n",
       " 'court': {'name': 'Supreme Court of North Carolina',\n",
       "  'id': 9292,\n",
       "  'name_abbreviation': 'N.C.',\n",
       "  'url': 'https://api.capapi.org/v1/courts/nc/',\n",
       "  'slug': 'nc'},\n",
       " 'jurisdiction': {'name_long': 'North Carolina',\n",
       "  'name': 'N.C.',\n",
       "  'whitelisted': True,\n",
       "  'id': 5,\n",
       "  'url': 'https://api.capapi.org/v1/jurisdictions/nc/',\n",
       "  'slug': 'nc'},\n",
       " 'cites_to': [],\n",
       " 'frontend_url': 'https://cite.capapi.org/nc/172/31/',\n",
       " 'preview': [],\n",
       " 'casebody': {'status': 'ok',\n",
       "  'data': '<casebody firstpage=\"31\" lastpage=\"32\" xmlns=\"http://nrs.harvard.edu/urn-3:HLS.Libr.US_Case_Law.Schema.Case_Body:v1\">\\n  <parties id=\"b97-8\">MISSOURI WHITE v. NORFOLK SOUTHERN RAILWAY COMPANY.</parties>\\n  <decisiondate id=\"b97-9\">(Filed 13 September, 1916.)</decisiondate>\\n  <headnotes id=\"b97-10\">Carriers of Passengers — Ejection from Train — Through Trains — Change of Trains — Damages.</headnotes>\\n  <headnotes id=\"b97-11\">The ticket agent of a railroad company should inform the purchaser of a ticket for a through train whether or not this train will stop at the passenger’s destination; and where a female passenger on such train, traveling with her child, has been informed by the ticket agent that the train will stop at her destination, and while on the train she was, for the first time, informed by the conductor that she will have to get off at a nearer station and take a local train, in consequence of which she was not met by her husband, as they had prearranged, and suffers inconvenience and annoyance by reason of the enforced change for the local train: <em>Held, </em>the ejection from the train was wrongful, making the company liable for the passenger’s actual but not punitive damages.</headnotes>\\n  <summary id=\"b97-12\">Civil actioN tried at January Term, 1916, of PasquotaNK, before <em>Bond, J., </em>upon these issues:</summary>\\n  <summary id=\"b97-13\">1. Did defendant wrongfully put or cause plaintiff to get off its train at Edenton, as alleged? Answer: “Yes.”</summary>\\n  <summary id=\"b97-14\">2. If so, what damage, if any, did the plaintiff sustain thereby? Answer: “$50.”</summary>\\n  <summary id=\"b97-15\">From the judgment rendered, the defendant appealed.</summary>\\n  <attorneys id=\"b97-16\">J. <em>M. Meelcins for plaintiff.</em></attorneys>\\n  <attorneys id=\"b97-17\">\\n    <em>O. M. Bain and J. Kenyon Wilson for defendant.</em>\\n  </attorneys>\\n  <opinion type=\"majority\">\\n    <author id=\"b97-18\">EbowN, J.</author>\\n    <p id=\"AD\">The evidence tends to prove that on 19 November, 1914, the plaintiff, accompanied by her little daughter, purchased from the defendant’s agent at Mackeys Ferry a ticket to Chapanoke, upon the assurance of the agent that the ticket was good for continuous passage upon the through train of the defendant, which passed Mackeys Ferry about 1 o’clock. ITpon inquiry, the agent assured her that there would be no change of trains at Edenton.</p>\\n    <p id=\"b97-19\">The plaintiff’s husband, by arrangement, met this through train , at Chapanoke to carry his wife to their home, some distance in the country. <page-number citation-index=\"1\" label=\"32\">*32</page-number>As the plaintiff did not arrive on this train, the husband returned home. When this train of the defendant, which runs from New Bern to Norfolk, and passes Mackeys Ferry, arrived at Edenton, the conductor for the first time informed her that this train did not stop at Chapanoke, and told the plaintiff that if she did not get off at Edenton he would carry her on to some other point.</p>\\n    <p id=\"b98-6\">Plaintiff was compelled to get off at Edenton and take the next train, an hour or more later, which was a local train and stopped at Chap-anoke. When she arrived at Chapanoke her husband had gone home. It was a rainy, blustery day, and plaintiff was subjected to much inconvenience by reason of having to change trains at Edenton.</p>\\n    <p id=\"b98-7\">The motion to nonsuit was properly overruled.</p>\\n    <p id=\"b98-8\">The plaintiff had the right to rely upon the assurance of the agent that the train which she took at Mackeys Ferry would .stop at Chapanoke to put her off. It was the duty of the agent, when he sold a ticket to Chapanoke, to inform the plaintiff that she would have to take a local train at Edenton and would arrive at Chapanoke some time after the other train had passed. Upon the assurance of the defendant’s agent, the plaintiff had reason to believe that she would meet her husband there to take her and her little daughter to their home. <em>Hutchinson v. R. R., </em>140 N. C., 125, and cases cited.</p>\\n    <p id=\"b98-9\">His Honor very properly ruled that there is no evidence upon which the jury would be justified in awarding punitive damage.</p>\\n    <p id=\"b98-10\">No error.</p>\\n  </opinion>\\n</casebody>\\n'}}"
      ]
     },
     "execution_count": 11,
     "metadata": {},
     "output_type": "execute_result"
    }
   ],
   "source": [
    "data_json[500]"
   ]
  },
  {
   "cell_type": "code",
   "execution_count": 12,
   "metadata": {},
   "outputs": [],
   "source": [
    "data_2015 = data[data.decision_year==2015]"
   ]
  },
  {
   "cell_type": "code",
   "execution_count": 13,
   "metadata": {
    "scrolled": true
   },
   "outputs": [
    {
     "data": {
      "text/html": [
       "<div>\n",
       "<style scoped>\n",
       "    .dataframe tbody tr th:only-of-type {\n",
       "        vertical-align: middle;\n",
       "    }\n",
       "\n",
       "    .dataframe tbody tr th {\n",
       "        vertical-align: top;\n",
       "    }\n",
       "\n",
       "    .dataframe thead th {\n",
       "        text-align: right;\n",
       "    }\n",
       "</style>\n",
       "<table border=\"1\" class=\"dataframe\">\n",
       "  <thead>\n",
       "    <tr style=\"text-align: right;\">\n",
       "      <th></th>\n",
       "      <th>id</th>\n",
       "      <th>url</th>\n",
       "      <th>name</th>\n",
       "      <th>name_abbreviation</th>\n",
       "      <th>decision_date</th>\n",
       "      <th>docket_number</th>\n",
       "      <th>first_page</th>\n",
       "      <th>last_page</th>\n",
       "      <th>citations</th>\n",
       "      <th>cites_to</th>\n",
       "      <th>...</th>\n",
       "      <th>jurisdiction.name_long</th>\n",
       "      <th>jurisdiction.name</th>\n",
       "      <th>jurisdiction.whitelisted</th>\n",
       "      <th>jurisdiction.id</th>\n",
       "      <th>jurisdiction.url</th>\n",
       "      <th>jurisdiction.slug</th>\n",
       "      <th>casebody.status</th>\n",
       "      <th>casebody.data</th>\n",
       "      <th>decision_date_p</th>\n",
       "      <th>decision_year</th>\n",
       "    </tr>\n",
       "  </thead>\n",
       "  <tbody>\n",
       "    <tr>\n",
       "      <td>92741</td>\n",
       "      <td>4329281</td>\n",
       "      <td>https://api.capapi.org/v1/cases/4329281/</td>\n",
       "      <td>State v. Robert McPhail</td>\n",
       "      <td>State v. McPhail</td>\n",
       "      <td>2015-01-22</td>\n",
       "      <td>341P14</td>\n",
       "      <td>811</td>\n",
       "      <td>811</td>\n",
       "      <td>[{'type': 'official', 'cite': '367 N.C. 811'}]</td>\n",
       "      <td>[]</td>\n",
       "      <td>...</td>\n",
       "      <td>North Carolina</td>\n",
       "      <td>N.C.</td>\n",
       "      <td>True</td>\n",
       "      <td>5</td>\n",
       "      <td>https://api.capapi.org/v1/jurisdictions/nc/</td>\n",
       "      <td>nc</td>\n",
       "      <td>ok</td>\n",
       "      <td>&lt;?xml version='1.0' encoding='utf-8'?&gt;\\n&lt;caseb...</td>\n",
       "      <td>2015-01-22</td>\n",
       "      <td>2015.0</td>\n",
       "    </tr>\n",
       "    <tr>\n",
       "      <td>92742</td>\n",
       "      <td>4318618</td>\n",
       "      <td>https://api.capapi.org/v1/cases/4318618/</td>\n",
       "      <td>STATE OF NORTH CAROLINA v. TORREY DALE GRADY</td>\n",
       "      <td>State v. Grady</td>\n",
       "      <td>2015-06-10</td>\n",
       "      <td>No. 179A14-2</td>\n",
       "      <td>821</td>\n",
       "      <td>821</td>\n",
       "      <td>[{'type': 'official', 'cite': '367 N.C. 821'}]</td>\n",
       "      <td>[{'cite': '191 L. Ed. 2d 459'}, {'cite': '135 ...</td>\n",
       "      <td>...</td>\n",
       "      <td>North Carolina</td>\n",
       "      <td>N.C.</td>\n",
       "      <td>True</td>\n",
       "      <td>5</td>\n",
       "      <td>https://api.capapi.org/v1/jurisdictions/nc/</td>\n",
       "      <td>nc</td>\n",
       "      <td>ok</td>\n",
       "      <td>&lt;?xml version='1.0' encoding='utf-8'?&gt;\\n&lt;caseb...</td>\n",
       "      <td>2015-06-10</td>\n",
       "      <td>2015.0</td>\n",
       "    </tr>\n",
       "    <tr>\n",
       "      <td>92758</td>\n",
       "      <td>4332768</td>\n",
       "      <td>https://api.capapi.org/v1/cases/4332768/</td>\n",
       "      <td>Clorey Eugene France v. Glover &amp; Petersen, P.A...</td>\n",
       "      <td>France v. Glover &amp; Petersen, P.A.</td>\n",
       "      <td>2015-01-22</td>\n",
       "      <td>452P14</td>\n",
       "      <td>813</td>\n",
       "      <td>813</td>\n",
       "      <td>[{'type': 'official', 'cite': '367 N.C. 813'}]</td>\n",
       "      <td>[]</td>\n",
       "      <td>...</td>\n",
       "      <td>North Carolina</td>\n",
       "      <td>N.C.</td>\n",
       "      <td>True</td>\n",
       "      <td>5</td>\n",
       "      <td>https://api.capapi.org/v1/jurisdictions/nc/</td>\n",
       "      <td>nc</td>\n",
       "      <td>ok</td>\n",
       "      <td>&lt;?xml version='1.0' encoding='utf-8'?&gt;\\n&lt;caseb...</td>\n",
       "      <td>2015-01-22</td>\n",
       "      <td>2015.0</td>\n",
       "    </tr>\n",
       "    <tr>\n",
       "      <td>92770</td>\n",
       "      <td>4325043</td>\n",
       "      <td>https://api.capapi.org/v1/cases/4325043/</td>\n",
       "      <td>State v. Joshua Andrew Stepp</td>\n",
       "      <td>State v. Stepp</td>\n",
       "      <td>2015-01-22</td>\n",
       "      <td>038A14</td>\n",
       "      <td>809</td>\n",
       "      <td>809</td>\n",
       "      <td>[{'type': 'official', 'cite': '367 N.C. 809'}]</td>\n",
       "      <td>[]</td>\n",
       "      <td>...</td>\n",
       "      <td>North Carolina</td>\n",
       "      <td>N.C.</td>\n",
       "      <td>True</td>\n",
       "      <td>5</td>\n",
       "      <td>https://api.capapi.org/v1/jurisdictions/nc/</td>\n",
       "      <td>nc</td>\n",
       "      <td>ok</td>\n",
       "      <td>&lt;?xml version='1.0' encoding='utf-8'?&gt;\\n&lt;caseb...</td>\n",
       "      <td>2015-01-22</td>\n",
       "      <td>2015.0</td>\n",
       "    </tr>\n",
       "    <tr>\n",
       "      <td>92775</td>\n",
       "      <td>4323615</td>\n",
       "      <td>https://api.capapi.org/v1/cases/4323615/</td>\n",
       "      <td>State v. Raymond Dakim Harris Joiner</td>\n",
       "      <td>State v. Joiner</td>\n",
       "      <td>2015-01-22</td>\n",
       "      <td>514P13-3</td>\n",
       "      <td>814</td>\n",
       "      <td>814</td>\n",
       "      <td>[{'type': 'official', 'cite': '367 N.C. 814'}]</td>\n",
       "      <td>[]</td>\n",
       "      <td>...</td>\n",
       "      <td>North Carolina</td>\n",
       "      <td>N.C.</td>\n",
       "      <td>True</td>\n",
       "      <td>5</td>\n",
       "      <td>https://api.capapi.org/v1/jurisdictions/nc/</td>\n",
       "      <td>nc</td>\n",
       "      <td>ok</td>\n",
       "      <td>&lt;?xml version='1.0' encoding='utf-8'?&gt;\\n&lt;caseb...</td>\n",
       "      <td>2015-01-22</td>\n",
       "      <td>2015.0</td>\n",
       "    </tr>\n",
       "  </tbody>\n",
       "</table>\n",
       "<p>5 rows × 33 columns</p>\n",
       "</div>"
      ],
      "text/plain": [
       "            id                                       url  \\\n",
       "92741  4329281  https://api.capapi.org/v1/cases/4329281/   \n",
       "92742  4318618  https://api.capapi.org/v1/cases/4318618/   \n",
       "92758  4332768  https://api.capapi.org/v1/cases/4332768/   \n",
       "92770  4325043  https://api.capapi.org/v1/cases/4325043/   \n",
       "92775  4323615  https://api.capapi.org/v1/cases/4323615/   \n",
       "\n",
       "                                                    name  \\\n",
       "92741                            State v. Robert McPhail   \n",
       "92742       STATE OF NORTH CAROLINA v. TORREY DALE GRADY   \n",
       "92758  Clorey Eugene France v. Glover & Petersen, P.A...   \n",
       "92770                       State v. Joshua Andrew Stepp   \n",
       "92775               State v. Raymond Dakim Harris Joiner   \n",
       "\n",
       "                       name_abbreviation decision_date docket_number  \\\n",
       "92741                   State v. McPhail    2015-01-22        341P14   \n",
       "92742                     State v. Grady    2015-06-10  No. 179A14-2   \n",
       "92758  France v. Glover & Petersen, P.A.    2015-01-22        452P14   \n",
       "92770                     State v. Stepp    2015-01-22        038A14   \n",
       "92775                    State v. Joiner    2015-01-22      514P13-3   \n",
       "\n",
       "      first_page last_page                                       citations  \\\n",
       "92741        811       811  [{'type': 'official', 'cite': '367 N.C. 811'}]   \n",
       "92742        821       821  [{'type': 'official', 'cite': '367 N.C. 821'}]   \n",
       "92758        813       813  [{'type': 'official', 'cite': '367 N.C. 813'}]   \n",
       "92770        809       809  [{'type': 'official', 'cite': '367 N.C. 809'}]   \n",
       "92775        814       814  [{'type': 'official', 'cite': '367 N.C. 814'}]   \n",
       "\n",
       "                                                cites_to  ...  \\\n",
       "92741                                                 []  ...   \n",
       "92742  [{'cite': '191 L. Ed. 2d 459'}, {'cite': '135 ...  ...   \n",
       "92758                                                 []  ...   \n",
       "92770                                                 []  ...   \n",
       "92775                                                 []  ...   \n",
       "\n",
       "      jurisdiction.name_long jurisdiction.name jurisdiction.whitelisted  \\\n",
       "92741         North Carolina              N.C.                     True   \n",
       "92742         North Carolina              N.C.                     True   \n",
       "92758         North Carolina              N.C.                     True   \n",
       "92770         North Carolina              N.C.                     True   \n",
       "92775         North Carolina              N.C.                     True   \n",
       "\n",
       "      jurisdiction.id                             jurisdiction.url  \\\n",
       "92741               5  https://api.capapi.org/v1/jurisdictions/nc/   \n",
       "92742               5  https://api.capapi.org/v1/jurisdictions/nc/   \n",
       "92758               5  https://api.capapi.org/v1/jurisdictions/nc/   \n",
       "92770               5  https://api.capapi.org/v1/jurisdictions/nc/   \n",
       "92775               5  https://api.capapi.org/v1/jurisdictions/nc/   \n",
       "\n",
       "      jurisdiction.slug casebody.status  \\\n",
       "92741                nc              ok   \n",
       "92742                nc              ok   \n",
       "92758                nc              ok   \n",
       "92770                nc              ok   \n",
       "92775                nc              ok   \n",
       "\n",
       "                                           casebody.data decision_date_p  \\\n",
       "92741  <?xml version='1.0' encoding='utf-8'?>\\n<caseb...      2015-01-22   \n",
       "92742  <?xml version='1.0' encoding='utf-8'?>\\n<caseb...      2015-06-10   \n",
       "92758  <?xml version='1.0' encoding='utf-8'?>\\n<caseb...      2015-01-22   \n",
       "92770  <?xml version='1.0' encoding='utf-8'?>\\n<caseb...      2015-01-22   \n",
       "92775  <?xml version='1.0' encoding='utf-8'?>\\n<caseb...      2015-01-22   \n",
       "\n",
       "       decision_year  \n",
       "92741         2015.0  \n",
       "92742         2015.0  \n",
       "92758         2015.0  \n",
       "92770         2015.0  \n",
       "92775         2015.0  \n",
       "\n",
       "[5 rows x 33 columns]"
      ]
     },
     "execution_count": 13,
     "metadata": {},
     "output_type": "execute_result"
    }
   ],
   "source": [
    "data_2015.head()"
   ]
  },
  {
   "cell_type": "code",
   "execution_count": 14,
   "metadata": {},
   "outputs": [
    {
     "data": {
      "text/plain": [
       "id                                                                    4317610\n",
       "url                                  https://api.capapi.org/v1/cases/4317610/\n",
       "name                                                  IN THE MATTER OF C.W.F.\n",
       "name_abbreviation                                                In re C.W.F.\n",
       "decision_date                                                      2015-01-23\n",
       "docket_number                                                      No. 84PA14\n",
       "first_page                                                                740\n",
       "last_page                                                                 740\n",
       "citations                      [{'type': 'official', 'cite': '367 N.C. 740'}]\n",
       "cites_to                                                                   []\n",
       "frontend_url                              https://cite.capapi.org/nc/367/740/\n",
       "preview                                                                    []\n",
       "volume.volume_number                                                      367\n",
       "volume.barcode                                                 32044133494120\n",
       "volume.url                  https://api.capapi.org/v1/volumes/32044133494120/\n",
       "reporter.url                         https://api.capapi.org/v1/reporters/549/\n",
       "reporter.full_name                                     North Carolina Reports\n",
       "reporter.id                                                               549\n",
       "court.name                                    Supreme Court of North Carolina\n",
       "court.id                                                                 9292\n",
       "court.name_abbreviation                                                  N.C.\n",
       "court.url                                https://api.capapi.org/v1/courts/nc/\n",
       "court.slug                                                                 nc\n",
       "jurisdiction.name_long                                         North Carolina\n",
       "jurisdiction.name                                                        N.C.\n",
       "jurisdiction.whitelisted                                                 True\n",
       "jurisdiction.id                                                             5\n",
       "jurisdiction.url                  https://api.capapi.org/v1/jurisdictions/nc/\n",
       "jurisdiction.slug                                                          nc\n",
       "casebody.status                                                            ok\n",
       "casebody.data               <?xml version='1.0' encoding='utf-8'?>\\n<caseb...\n",
       "decision_date_p                                           2015-01-23 00:00:00\n",
       "decision_year                                                            2015\n",
       "Name: 92897, dtype: object"
      ]
     },
     "execution_count": 14,
     "metadata": {},
     "output_type": "execute_result"
    }
   ],
   "source": [
    "data_2015.iloc[11]"
   ]
  },
  {
   "cell_type": "code",
   "execution_count": 15,
   "metadata": {},
   "outputs": [
    {
     "data": {
      "text/plain": [
       "'IN THE MATTER OF C.W.F.'"
      ]
     },
     "execution_count": 15,
     "metadata": {},
     "output_type": "execute_result"
    }
   ],
   "source": [
    "data_2015['name'].iloc[11]"
   ]
  },
  {
   "cell_type": "code",
   "execution_count": 16,
   "metadata": {},
   "outputs": [
    {
     "data": {
      "text/plain": [
       "'<?xml version=\\'1.0\\' encoding=\\'utf-8\\'?>\\n<casebody firstpage=\"740\" lastpage=\"740\" xmlns=\"http://nrs.harvard.edu/urn-3:HLS.Libr.US_Case_Law.Schema.Case_Body:v1\">\\n  <parties id=\"b780-9\">IN THE MATTER OF C.W.F.</parties>\\n  <docketnumber id=\"b780-10\">No. 84PA14</docketnumber>\\n  <decisiondate id=\"b780-11\">(Filed 23 January 2015)</decisiondate>\\n  <summary id=\"b780-12\">On discretionary review pursuant to N.C.G.S. § 7A-31 of a unanimous decision of the Court of Appeals, _ N.C. App. _, 753 S.E.2d 736 (2014), vacating and remanding an order entered on 22 August 2012 by Judge Don W. Creed, Jr. in District Court, Moore County. Heard in the Supreme Court on 13 January 2015.</summary>\\n  <attorneys id=\"b780-14\">\\n    <em>Roy Cooper, Attorney General, by Josephine Tetteh, Assistant Attorney General, for petitioner-appellant State of North Carolina.</em>\\n  </attorneys>\\n  <attorneys id=\"b780-15\">\\n    <em>Staples S. Hughes, Appellate Defender, by David W. Andrews, Assistant Appellate Defender, for respondent-appellee C. W.F.</em>\\n  </attorneys>\\n  <attorneys id=\"b780-16\">\\n    <em>Miranda R. McCoy for Jackson Springs Treatment Facility, amicus curiae.</em>\\n  </attorneys>\\n  <opinion type=\"majority\">\\n    <author id=\"b780-17\">PER CURIAM.</author>\\n    <p id=\"b780-18\">DISCRETIONARY REVIEW IMPROVIDENTLY ALLOWED.</p>\\n  </opinion>\\n</casebody>\\n'"
      ]
     },
     "execution_count": 16,
     "metadata": {},
     "output_type": "execute_result"
    }
   ],
   "source": [
    "data_2015['casebody.data'].iloc[11]"
   ]
  },
  {
   "cell_type": "markdown",
   "metadata": {},
   "source": [
    "#### No. of cases by year\n",
    "The number of cases has increased since the 1700s (which was unexpected) then dipping during the mid 1900s. The number of cases reached a peak in the late 1900s then decreasing in the last several decades. One thing that comes to mind is the changes in the English language over the centuries."
   ]
  },
  {
   "cell_type": "code",
   "execution_count": 17,
   "metadata": {},
   "outputs": [
    {
     "data": {
      "text/plain": [
       "<matplotlib.axes._subplots.AxesSubplot at 0x7fe93ff8f390>"
      ]
     },
     "execution_count": 17,
     "metadata": {},
     "output_type": "execute_result"
    },
    {
     "data": {
      "image/png": "[encoded data removed]",
      "text/plain": [
       "<Figure size 432x288 with 1 Axes>"
      ]
     },
     "metadata": {
      "needs_background": "light"
     },
     "output_type": "display_data"
    }
   ],
   "source": [
    "data.groupby([data.decision_date.str[:4].astype(int)])['id'].count().plot()"
   ]
  },
  {
   "cell_type": "code",
   "execution_count": 18,
   "metadata": {},
   "outputs": [
    {
     "data": {
      "text/plain": [
       "'<casebody firstpage=\"19\" lastpage=\"21\" xmlns=\"http://nrs.harvard.edu/urn-3:HLS.Libr.US_Case_Law.Schema.Case_Body:v1\">\\n  <court id=\"b27-9\">HILLSBOROUGH,</court>\\n  <decisiondate id=\"A2N\">APRIL TERM, 1792.</decisiondate>\\n  <parties id=\"AKl\"><em>- v. </em>Jackson.</parties>\\n  <headnotes id=\"b27-10\">A person, who did not make it his ordinary employment, undertook to carry goods for \\'.¡ire ; he is not to be taken as a common carrier, and liable to the same extent, but is bound only to common prudence.</headnotes>\\n  <summary id=\"b27-11\">The Plaintiff, a merchant, employed the Defendant, fbr a reward, to bring goods and merchandize from Virginia, to Hillsborough, in this State, in his waggon , the Defendant received the goods in Virginia, and in bringing them to Hillsborough, when about to cross a river, the flat receded from one of the fore wheels of the wag-gon, and it ran with the goods into the river, and the goods were greatly damaged and impaired in value, The Defendant did not make it his common and ordinary employment to carry goods, but was employed on this occasion only. <em>Moore </em>for the Plaintiff (at a former term when this case was on trial) insisted that any peison who undertakes for hire or reward to be given him, to <page-number citation-index=\"1\" label=\"20\">*20</page-number>fairy goods for another, is a common carrier, and liable to indemnify his employer against all damages that may happen to the goods, except by a public enemy, or inevitable accident. He cited <em>L. Ray. </em>915. <em>Salk. </em>143. <em>Bui. NisiPrius, 170. Salk. </em>282./ Taylor e contra, insisted that however the law may be in respect of common carriers, who undertake, like all other persons exercising public employments, for skill and diligence in their pro-tession, no such undertaking is implied, or expected, from one who undertakes, at the request of another, to perform a business which he does not make his common einploy-merit; and he is only answerable for damages where he is guilty of gross neglect.MS <em>Bl. Gom. </em>165. The jury ■found for the Defendant. The Court granted a new trial, saying the verdict was against law, as the Defendant, by reason of the reward, was to be considered as a common carrier. At this term the cause being again tried, <em>Moore </em>for the Plaintiff, <em>Haywood </em>for the Defendant, who said one part of the definition of a common carrier is, “ that he was a person liable to bo sued by the Plaintiff, if he refused to carry the goods for him, for the common reward <em>; </em>and is such a person who undertakes to serve all persons indifferently.” <em>Salk. </em>249. 1 <em>Ba. M. </em>344. Tiie word <em>common </em>is added to distinguish him from one who undertakes for hire, on a particular occasion, to carry goods for another, who is not answerable in all events, bui only for neglect. <em>Cro. Ja. </em>262. The latter is only subject to rules of law formed on natural <em>justice, </em>the former is liable to an additional rule flowing from policy and dictated by necessity — lie is a public servant, employed by every one, by those who do not know him, as well as by those who do — lie has frequent opportunities of procuring himself to be robbed, or of divesting himself of ihe goods unfairly, without, a possibility of detection, and the public would have no security unless inevitable accident or irresistible force, were his only grounds of excuse, and these to be fully and fairly proven by himself. Being a person in public employment, the law requires ofhim security to the public for his good behaviour, and obtains it by ¡imposing on him general responsibility, with only two exceptions. <em>Salk. </em>282. <em>L. Bay. </em>918. True it is, the books say in some instances that persons carrying goods for hire are common carriers, and they sometimes speak of carriers only, without the additional word <em>common. </em>But these are inaccuracies, and to he <page-number citation-index=\"1\" label=\"21\">*21</page-number>explained or understood in a manner which accords with the spirit, not the letter of the case. A person carrying goods for hire, most be intended of one who makes it his common employment, and the means of his livelihood.— 2 <em>L. Bay. </em>918 — and where it is said a carrier is absolutely liable, must be understood of a person of that description. Suppose the Plaintiff, in the present case, had gone to the Defendant’s with the common price for the carriage of goods from Virginia to Hillsborough, and required of him to proceed to Virginia and receive the goods, and to bring them to Hillsborough — .might not the Defendant have refused ? — Was he bound to undertake the business assigned him ? No, certainly he was not. And why ? Because he had not undertaken to serve the public generally; or in the words of my <em>L. Holt, (Salk. </em>249,) “all persons indifferently for hire in\\' carrying goods from place to place.” if he is not thus bound, he is not that common carrier spoken of in the law-books, and in the cases produced, who is liable in all events, except for the acts of God, and public enemies— and lie must then stand upon the ground of a person whose common business it is not, undertaking to do an act for another at his request and for him — the employer knowing him not to be commonly conversant in tiiat business, 3 <em>Bl. Com. </em>166. In other words, he is not liable to the political rule before mentioned, but to the rule only which results from natural justice, which requires no more of him than common and usual prudence, and diligence in the performance of what he has undertaken, and does not subject him to answer for accidents which have not happened for want of that prudence and diligence. Of tliis opinion were the Court, consisting of Macay and Wihiams, and under their direction, the jury found for the Defendant.</summary>\\n  <opinion type=\"majority\">\\n    <p id=\"b29-8\">Note. — Vide, as corroborative of this decision, <em>Jones’s Law of Bailments, </em>106. On the subject of common carriers in this State, vide <em>Spicy </em>v. <em>Farmer’s adm’r. </em>2 <em>Hay. </em>339 <em>Williamson </em>v. <em>Branson, </em>1 <em>Mur. </em>417. <em>Backhouse </em>v. <em>Snead, </em>Ibid. 174. <em>Adam </em>v. <em>Hay, </em>3 <em>Mur. </em>149.</p>\\n  </opinion>\\n</casebody>\\n'"
      ]
     },
     "execution_count": 18,
     "metadata": {},
     "output_type": "execute_result"
    }
   ],
   "source": [
    "#np.where(data.decision_date.str[:4].astype(int) < 1800)\n",
    "#data.iloc[116988]\n",
    "data['casebody.data'][10900]\n",
    "#data['casebody.data.head_matter'][10900]"
   ]
  },
  {
   "cell_type": "markdown",
   "metadata": {},
   "source": [
    "A 1795 record shows that the english used is not that different from today. We also notice that the text includes formatting characters, such as \"\\n\". This may or may not influence learning."
   ]
  },
  {
   "cell_type": "markdown",
   "metadata": {},
   "source": [
    "#### No. of rows in each state file\n",
    "Illinois has the most cases while new mexico has the fewest."
   ]
  },
  {
   "cell_type": "code",
   "execution_count": null,
   "metadata": {},
   "outputs": [],
   "source": [
    "#data.source_state.value_counts().plot.bar()"
   ]
  },
  {
   "cell_type": "markdown",
   "metadata": {},
   "source": [
    "### Viewing sample data"
   ]
  },
  {
   "cell_type": "markdown",
   "metadata": {},
   "source": [
    "#### Head Matter"
   ]
  },
  {
   "cell_type": "code",
   "execution_count": null,
   "metadata": {},
   "outputs": [],
   "source": [
    "n = 1\n",
    "#print(data['casebody.data.head_matter'][n])"
   ]
  },
  {
   "cell_type": "markdown",
   "metadata": {},
   "source": [
    "#### Judges\n",
    "It appears that opinions with several authors have lower frequencies while opinions with a single author are more frequent.There are cases without a judge's opinion."
   ]
  },
  {
   "cell_type": "code",
   "execution_count": null,
   "metadata": {},
   "outputs": [],
   "source": [
    "#data['casebody.data.judges']"
   ]
  },
  {
   "cell_type": "code",
   "execution_count": null,
   "metadata": {},
   "outputs": [],
   "source": [
    "#for i in range(4):\n",
    "#    data[f'casebody.data.opinions.author{i}'] = data['casebody.data.opinions'].map(lambda x: x[i]['author'] if len(x)>=i+1 else None)"
   ]
  },
  {
   "cell_type": "code",
   "execution_count": null,
   "metadata": {},
   "outputs": [],
   "source": [
    "#data['casebody.data.opinions.author0'].value_counts()[:30].plot.bar()"
   ]
  },
  {
   "cell_type": "code",
   "execution_count": null,
   "metadata": {},
   "outputs": [],
   "source": [
    "#data['casebody.data.opinions.author0'].value_counts()[-30:].plot.bar()"
   ]
  },
  {
   "cell_type": "markdown",
   "metadata": {},
   "source": [
    "#### Courts"
   ]
  },
  {
   "cell_type": "code",
   "execution_count": 19,
   "metadata": {},
   "outputs": [
    {
     "data": {
      "text/plain": [
       "<matplotlib.axes._subplots.AxesSubplot at 0x7fe94013ab50>"
      ]
     },
     "execution_count": 19,
     "metadata": {},
     "output_type": "execute_result"
    },
    {
     "data": {
      "image/png": "[encoded data removed]",
      "text/plain": [
       "<Figure size 432x288 with 1 Axes>"
      ]
     },
     "metadata": {
      "needs_background": "light"
     },
     "output_type": "display_data"
    }
   ],
   "source": [
    "data.groupby([data['court.name']])['id'].count().plot.bar()"
   ]
  },
  {
   "cell_type": "markdown",
   "metadata": {},
   "source": [
    "#### Attorneys"
   ]
  },
  {
   "cell_type": "code",
   "execution_count": null,
   "metadata": {},
   "outputs": [],
   "source": [
    "#data['casebody.data.attorneys']"
   ]
  },
  {
   "cell_type": "markdown",
   "metadata": {},
   "source": [
    "#### Corrections"
   ]
  },
  {
   "cell_type": "code",
   "execution_count": null,
   "metadata": {},
   "outputs": [],
   "source": [
    "#data['casebody.data.corrections']"
   ]
  },
  {
   "cell_type": "markdown",
   "metadata": {},
   "source": [
    "#### Status"
   ]
  },
  {
   "cell_type": "code",
   "execution_count": 20,
   "metadata": {},
   "outputs": [
    {
     "data": {
      "text/plain": [
       "ok    97600\n",
       "Name: casebody.status, dtype: int64"
      ]
     },
     "execution_count": 20,
     "metadata": {},
     "output_type": "execute_result"
    }
   ],
   "source": [
    "data['casebody.status'].value_counts()"
   ]
  },
  {
   "cell_type": "markdown",
   "metadata": {},
   "source": [
    "There is only one value for 'status' which is 'ok'. "
   ]
  },
  {
   "cell_type": "markdown",
   "metadata": {},
   "source": [
    "#### Opinions"
   ]
  },
  {
   "cell_type": "code",
   "execution_count": null,
   "metadata": {},
   "outputs": [],
   "source": [
    "#json_normalize(data['casebody.data'][9])"
   ]
  },
  {
   "cell_type": "markdown",
   "metadata": {},
   "source": [
    "The 'Casebody.data.opinions' field is a nested json with type, text and author fields for each opinion. A case can have multiple opinions. As can be seen above, there are three opinions - a majority opinion, a concurrence opinion and a dissenting opinion."
   ]
  },
  {
   "cell_type": "markdown",
   "metadata": {},
   "source": [
    "#### How many opinions in a case?"
   ]
  },
  {
   "cell_type": "markdown",
   "metadata": {},
   "source": [
    "We see that a case can have upto 8 different opinions. Most cases have have 1 opinions and some have two. Very few have more than 2 opinions."
   ]
  },
  {
   "cell_type": "code",
   "execution_count": 22,
   "metadata": {},
   "outputs": [
    {
     "data": {
      "text/plain": [
       "<matplotlib.axes._subplots.AxesSubplot at 0x7fe9402f0350>"
      ]
     },
     "execution_count": 22,
     "metadata": {},
     "output_type": "execute_result"
    },
    {
     "data": {
      "image/png": "[encoded data removed]",
      "text/plain": [
       "<Figure size 432x288 with 1 Axes>"
      ]
     },
     "metadata": {
      "needs_background": "light"
     },
     "output_type": "display_data"
    }
   ],
   "source": [
    "data['casebody.data'].map(lambda x:len(x)).value_counts().plot.bar()"
   ]
  },
  {
   "cell_type": "code",
   "execution_count": 23,
   "metadata": {},
   "outputs": [
    {
     "data": {
      "text/plain": [
       "491       385\n",
       "490       385\n",
       "494       354\n",
       "493       351\n",
       "489       349\n",
       "         ... \n",
       "155735      1\n",
       "28757       1\n",
       "22608       1\n",
       "41039       1\n",
       "42955       1\n",
       "Name: casebody.data, Length: 30914, dtype: int64"
      ]
     },
     "execution_count": 23,
     "metadata": {},
     "output_type": "execute_result"
    }
   ],
   "source": [
    "data['casebody.data'].map(lambda x:len(x)).value_counts()"
   ]
  },
  {
   "cell_type": "markdown",
   "metadata": {},
   "source": [
    "##### Flattening opinions column"
   ]
  },
  {
   "cell_type": "code",
   "execution_count": null,
   "metadata": {},
   "outputs": [],
   "source": [
    "#for i in range(4):\n",
    "#    data[f'casebody.data.opinions.type{i}'] = data['casebody.data.opinions'].map(lambda x: x[i]['type'] if len(x)>=i+1 else None)\n",
    "#    data[f'casebody.data.opinions.text{i}'] = data['casebody.data.opinions'].map(lambda x: x[i]['text'] if len(x)>=i+1 else None)"
   ]
  },
  {
   "cell_type": "code",
   "execution_count": null,
   "metadata": {},
   "outputs": [],
   "source": [
    "#data['casebody.data.opinions.text0']"
   ]
  },
  {
   "cell_type": "markdown",
   "metadata": {},
   "source": [
    "#### Opinion text"
   ]
  },
  {
   "cell_type": "markdown",
   "metadata": {},
   "source": [
    "Below is a text of one of the opionns"
   ]
  },
  {
   "cell_type": "code",
   "execution_count": null,
   "metadata": {},
   "outputs": [],
   "source": [
    "#data['casebody.data.opinions.text0'][0]"
   ]
  },
  {
   "cell_type": "code",
   "execution_count": null,
   "metadata": {},
   "outputs": [],
   "source": [
    "# the number of characters in each opinion\n",
    "#data['casebody.data.opinions.text0'].str.len().hist(range=(0,50000));"
   ]
  },
  {
   "cell_type": "code",
   "execution_count": null,
   "metadata": {},
   "outputs": [],
   "source": [
    "#max(data['casebody.data.opinions.text0'].str.len())"
   ]
  },
  {
   "cell_type": "markdown",
   "metadata": {},
   "source": [
    "Most opinions have less than 20,000 characters. The longest opinion has 390,000 characters"
   ]
  },
  {
   "cell_type": "code",
   "execution_count": null,
   "metadata": {},
   "outputs": [],
   "source": [
    "# Cell takes too long to run and fails. Consider tokenizing with nltk or on a sample\n",
    "# the number of words appearing in each opinion\n",
    "data['casebody.data.opinions.word_count0'] = data['casebody.data.opinions.text0'].apply(lambda x: len(str(x).split()))\n",
    "data['casebody.data.opinions.word_count1'] = data['casebody.data.opinions.text1'].apply(lambda x: len(str(x).split()))\n",
    "data['casebody.data.opinions.word_count2'] = data['casebody.data.opinions.text2'].apply(lambda x: len(str(x).split()))\n",
    "data['casebody.data.opinions.word_count3'] = data['casebody.data.opinions.text3'].apply(lambda x: len(str(x).split()))"
   ]
  },
  {
   "cell_type": "code",
   "execution_count": null,
   "metadata": {},
   "outputs": [],
   "source": [
    "data['casebody.data.opinions.word_count0'].hist()"
   ]
  },
  {
   "cell_type": "code",
   "execution_count": null,
   "metadata": {},
   "outputs": [],
   "source": [
    "data['casebody.data.opinions.word_count1'].hist()"
   ]
  },
  {
   "cell_type": "code",
   "execution_count": null,
   "metadata": {},
   "outputs": [],
   "source": [
    "data['casebody.data.opinions.word_count2'].hist()"
   ]
  },
  {
   "cell_type": "code",
   "execution_count": null,
   "metadata": {},
   "outputs": [],
   "source": [
    "data['casebody.data.opinions.word_count3'].hist()"
   ]
  },
  {
   "cell_type": "code",
   "execution_count": null,
   "metadata": {},
   "outputs": [],
   "source": [
    "data['casebody.data.opinions.word_count0'].max()"
   ]
  },
  {
   "cell_type": "markdown",
   "metadata": {},
   "source": [
    "Most opinions have fewer than 10,000 words. The maximum number of words in an opinion is 63,775 words."
   ]
  },
  {
   "cell_type": "markdown",
   "metadata": {},
   "source": [
    "#### Types of opinions"
   ]
  },
  {
   "cell_type": "code",
   "execution_count": null,
   "metadata": {},
   "outputs": [],
   "source": [
    "data['casebody.data.opinions.type0'].value_counts()"
   ]
  },
  {
   "cell_type": "code",
   "execution_count": null,
   "metadata": {},
   "outputs": [],
   "source": [
    "data['casebody.data.opinions.type1'].value_counts()"
   ]
  },
  {
   "cell_type": "code",
   "execution_count": null,
   "metadata": {},
   "outputs": [],
   "source": [
    "data['casebody.data.opinions.type2'].value_counts()"
   ]
  },
  {
   "cell_type": "code",
   "execution_count": null,
   "metadata": {},
   "outputs": [],
   "source": [
    "# focusing on text0, which has the majority of the data\n",
    "opinions = []\n",
    "for i in range(len(data['casebody.data.opinions.text0'])):\n",
    "    if data['casebody.data.opinions.text0'][i] != None:\n",
    "        opinions.append(data['casebody.data.opinions.text0'][i].split())\n",
    "\n",
    "#opinions[0]"
   ]
  },
  {
   "cell_type": "code",
   "execution_count": null,
   "metadata": {},
   "outputs": [],
   "source": [
    "words = []\n",
    "for word in opinions:\n",
    "    words += word\n",
    "\n",
    "#words[0]"
   ]
  },
  {
   "cell_type": "code",
   "execution_count": null,
   "metadata": {},
   "outputs": [],
   "source": [
    "len(Counter(words).keys())"
   ]
  },
  {
   "cell_type": "markdown",
   "metadata": {},
   "source": [
    "The length of the vocabulary for all opinions is 3,160,355 unique words, acronyms, and punctuation."
   ]
  },
  {
   "cell_type": "code",
   "execution_count": null,
   "metadata": {},
   "outputs": [],
   "source": [
    "common_words = FreqDist(words).most_common(20)\n",
    "x, y = zip(*common_words)"
   ]
  },
  {
   "cell_type": "code",
   "execution_count": null,
   "metadata": {},
   "outputs": [],
   "source": [
    "plt.figure()\n",
    "plt.bar(x, y)\n",
    "plt.title('Frequency of the 20 Most Common Words')\n",
    "plt.xlabel('Words')\n",
    "plt.ylabel('Frequency of Words')\n",
    "plt.xticks(rotation=90)\n",
    "plt.show"
   ]
  },
  {
   "cell_type": "code",
   "execution_count": null,
   "metadata": {},
   "outputs": [],
   "source": [
    "nltk.download('stopwords')\n",
    "stop_words = set(stopwords.words('english'))\n",
    "\n",
    "# changing the case for \"The\" and \"In\" so that those stopwords can be excluded.\n",
    "for i, w in enumerate(words):\n",
    "    if w=='The':\n",
    "        words[i] = 'the'\n",
    "    if w=='In':\n",
    "        words[i] = 'in'\n",
    "\n",
    "word_count = Counter(words)\n",
    "most_words = word_count.most_common()"
   ]
  },
  {
   "cell_type": "code",
   "execution_count": null,
   "metadata": {},
   "outputs": [],
   "source": [
    "x, y = [], []\n",
    "for word, count in most_words:\n",
    "    if (word not in stop_words):\n",
    "        x.append(word)\n",
    "        y.append(count)"
   ]
  },
  {
   "cell_type": "code",
   "execution_count": null,
   "metadata": {},
   "outputs": [],
   "source": [
    "sns.barplot(x=y[0:20], y=x[0:20]).set_title('Frequency of the 20 Most Non-stop Words')"
   ]
  },
  {
   "cell_type": "markdown",
   "metadata": {},
   "source": [
    "# Key Questions: "
   ]
  },
  {
   "cell_type": "markdown",
   "metadata": {},
   "source": [
    "### Given everything you have learned, if you faced this data set in the wild, how would you proceed? "
   ]
  },
  {
   "cell_type": "markdown",
   "metadata": {},
   "source": [
    "We'd do the following for **acquiring training data**:\n",
    "\n",
    "1) Search for labelled data. Currently we do not have summaries available. It would be good to have summaries of some of the cases which we can use for training.\n",
    "\n",
    "2) If aquiring summaries is not possible, we can try identifying key legal terms in the text using Legal NLP tools such as LexNLP (https://github.com/LexPredict/lexpredict-lexnlp) and Legal NER (https://github.com/openlegaldata/legal-ner)\n",
    "\n",
    "3) It would be nice to manually label a few summaries. We do not have a law background, so our labelling might not be the best. However, if we have the funds, we could recruit legal aides to do the summarization for a few cases."
   ]
  },
  {
   "cell_type": "markdown",
   "metadata": {},
   "source": [
    "#### Methodology:"
   ]
  },
  {
   "cell_type": "markdown",
   "metadata": {},
   "source": [
    "There are two ways to generate summaries \n",
    "\n",
    "1) Extractive: No new sentences are generated. Sentences from the main text are selected to be used in the summary. This becomes a binary classification problem where for a given sentence, we want to predict whether it's suitable to be used in the summary or not.\n",
    "\n",
    "2) Abstractive: New sentences are generated. If training data with abstract summaries are available, a seq2seq kind of a model could be used to learn generation of summaries. The input would be the main text and the y-labels would be the summaries.\n",
    "\n",
    "Sources:\n",
    "\n",
    "https://www.sciencedirect.com/science/article/pii/S1319157819301259\n",
    "\n",
    "https://www.analyticsvidhya.com/blog/2019/06/comprehensive-guide-text-summarization-using-deep-learning-python/"
   ]
  },
  {
   "cell_type": "markdown",
   "metadata": {},
   "source": [
    "### What are the important measures? "
   ]
  },
  {
   "cell_type": "markdown",
   "metadata": {},
   "source": [
    "A good summary should have the following characteristics:\n",
    "\n",
    "1) Sentences should be intelligible\n",
    "\n",
    "2) All important ideas should be encapsulated in the summary\n",
    "\n",
    "3) Should be substantially shorter than the main text\n",
    "\n",
    "As of now, we're not very sure how these metrics can be quantified."
   ]
  },
  {
   "cell_type": "markdown",
   "metadata": {},
   "source": [
    "### What are the right questions to ask, and how can the data answer them?"
   ]
  },
  {
   "cell_type": "markdown",
   "metadata": {},
   "source": [
    "A legal practitioner maybe interested in the ability to do the following:\n",
    "\n",
    "1) Get relevant judgments given a certain circumstance (e.g. racial profiling by the police)\n",
    "\n",
    "2) Find judgments similar to a given judgment\n",
    "\n",
    "3) Get answer to a particular question (e.g. Is there a precedent to curb free speech in the interest of public good?)\n",
    "\n",
    "Generating good summaries and building a query / search functionality on top of it may help answer these questions."
   ]
  }
 ],
 "metadata": {
  "kernelspec": {
   "display_name": "python3",
   "language": "python",
   "name": "python3"
  },
  "language_info": {
   "codemirror_mode": {
    "name": "ipython",
    "version": 3
   },
   "file_extension": ".py",
   "mimetype": "text/x-python",
   "name": "python",
   "nbconvert_exporter": "python",
   "pygments_lexer": "ipython3",
   "version": "3.7.4"
  }
 },
 "nbformat": 4,
 "nbformat_minor": 2
}
